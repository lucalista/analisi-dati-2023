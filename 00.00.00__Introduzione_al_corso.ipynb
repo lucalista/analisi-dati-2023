{
 "cells": [
  {
   "cell_type": "markdown",
   "metadata": {},
   "source": [
    "## Introduzione al corso di:\n",
    "# Analisi Statistica dei Dati Sperimentali\n",
    "## Corso di Laurea triennale in Fisica\n",
    "### <a href=\"http://people.na.infn.it/~lista/\">Prof. Luca Lista</a>\n",
    "\n",
    "Il corso si propone di fornire **strumenti concettuali e pratici** per analizzare i dati sperimentali con **tecnologie moderne**.\n",
    "\n",
    "I concetti saranno introdotti insieme ad applicazioni basate su dati reali oltre che su dati simulati.\n",
    "\n",
    "Gli esempi forniti saranno replicabili dagli studenti in modo da costituire un bagaglio riutilizzabile per future applicazioni, come i prossimi esami di laboratorio e, infine, la tesi di Laurea.\n",
    "\n",
    "Per quanto l'analisi dei dati sperimentali sia principalmente usata per **attività sperimentali** di laboratorio, l'analisi di dati provenienti da simulazioni ed il confronto dei dati con i modelli teorici sono di crescente importanza anche per la **fisica teorica**."
   ]
  },
  {
   "cell_type": "markdown",
   "metadata": {},
   "source": [
    "## Argomenti del corso\n",
    "\n",
    "Gli argomenti principali trattati sono delineati di seguito. Questi potranno cambiare leggermente durante lo svolgimento del corso in base a quelli che si dimostreranno gli interessi degli studenti in base ai quali saranno di volta in volta aggiornati i contenuti di queste pagine.\n",
    "\n",
    "Le applicazioni pratiche consentiranno di seguire il progressivo livello di apprendimento e padronanza. In base a questo saranno stabiliti i ritmi delle lezioni, piuttosto che rispetto ad una scaletta temporale prestabilita."
   ]
  },
  {
   "cell_type": "markdown",
   "metadata": {},
   "source": [
    "## 1. Probabilità\n",
    "\n",
    "Verrà introdotto il concetto di probabilità, con diversi approcci usati dagli statistici e da chi fa analisi dati per applicazioni scientifiche. La teoria della probabilità trova applicazione in due ambiti principali:\n",
    "\n",
    "* per trattare **fenomeni casuali**, ossia esperimenti che possono essere replicati mantenendo le stesse condizioni, ma dai quali si potrà ottenere un risultato ogni volta diverso e non prevedibile.\n",
    "* nell'ambito di affermazioni delle quali non vi è certezza, e delle quali, in base ad osservazioni sperimentali, si vuole cercare conferma o smentita. In questo senso, la teoria della probabilità è strettamente connessa con il **metodo scientifico**.\n"
   ]
  },
  {
   "cell_type": "markdown",
   "metadata": {},
   "source": [
    "## 2. Numeri casuali\n",
    "\n",
    "In questo corso tratteremo i metodi per l'analisi dei dati, ma non faremo esperienze di laboratorio. Ci riferiremo quindi o a dati noti che sono pubblicati in rete, oppure genereremo dati simulando esperimenti con algoritmi numerici.\n",
    "Per fare questo, introdurremo l'uso dei **generatori di numeri pseudocasuali** e la loro applicazione, in particolare per simulare esperimenti con il **metodo Monte Carlo**."
   ]
  },
  {
   "cell_type": "markdown",
   "metadata": {},
   "source": [
    "## 3. Approcci Bayesiano e frequentista alla probabilità\n",
    "\n",
    "Una volta studiati e compresi i fenomeni casuali, partiremo dalla definzione di **probabilità classica** per poi introdurre due approcci complementari alla probabilità:\n",
    "* l'approccio Bayesiano, o soggettivo\n",
    "* l'approccio frequentista\n",
    "\n",
    "Comprenderemo i campi di applicazione dei due metodi e i limiti di ciascuno."
   ]
  },
  {
   "cell_type": "markdown",
   "metadata": {},
   "source": [
    "## 4. Distribuzioni di probabilità\n",
    "\n",
    "Una volta che sarà introdotto in dettaglio il significato di probabilità secondo i diversi approcci, lo applicheremo per studiare più in dettaglio le proprietà delle distribuzioni di probabilità. \n",
    "\n",
    "Introdurremo quindi le distribuzioni di probabilità più interessanti e più applicate, e ne studieremo le proprietà principali:\n",
    "* la distribuzione di Bernulli\n",
    "* la distribuzione Binomiale\n",
    "* la distribuzione uniforme\n",
    "* la distribuzione esponenziale\n",
    "* la distribuzione di Poisson\n",
    "* la distribuzione di Gauss\n",
    "\n",
    "Comprenderemo meglio le proprietà di queste distribuzioni e quando, in casi concreti, può essere applicata ciascuna di esse."
   ]
  },
  {
   "cell_type": "markdown",
   "metadata": {},
   "source": [
    "## 5. Stima dei parametri\n",
    "Comprese le proprietà delle distribuzioni di probabilità, ci porremo il problema di determinare i parametri di alcune di queste in base all'osservazione di risultati sperimentali.\n",
    "\n",
    "Questo problema prende il nome di inferenza, e si realizza in modo diverso negli approcci bayesiano e frequentista.\n",
    "\n",
    "Comprenderemo cosa significa **misurare una grandezza fisica**, come assegnare correttamente un **errore** alla misura, e quindi come trasformare i dati sperimentali in conoscenza scientifica.\n",
    "\n",
    "Gli intervalli di incertezza assegnate ad una misura hanno significato molto diverso negli approcci bayesiano e frequentista. Per questi si parla, rispettivamente, di **intervalli di credibilità** oppure di **intervalli di confidenza**. Ne comprenderemo il significato ed impareremo come valutarli"
   ]
  },
  {
   "cell_type": "markdown",
   "metadata": {},
   "source": [
    "## 6. Test di ipotesi\n",
    "\n",
    "I dati sperimentali consentono, oltre a misurare delle grandezze fisiche, a discriminare tra più ipotesi quale siano vere e quali siano false, o, almeno, quali siano più plausibili, oppure descrivano meglio i dati, e quali meno.\n",
    "\n",
    "Di nuovo, i due approcci bayesiano e frequentista forniscono metodi complementare per effettuare il test di ipotesi."
   ]
  },
  {
   "cell_type": "markdown",
   "metadata": {},
   "source": [
    "## 7. Scoperte, limiti superiori o inferiori\n",
    "\n",
    "Se il tempo lo consentirà, faremo accenni a come si può dichiarare una scoperte di un nuovo fenomeno quando è presente un segnale nei dati sperimentali disponibili.\n",
    "\n",
    "Oppure, in assenza di un segnale che evidenzi un nuovo venomeno che si vuole cercare, come si possa escluderne la presenza almeno per certi intervalli dei valori dei parametri presenti nei modelli ipotizzati. Ad esempio, si può escludere l'esistenza di una particella fino ad un certo valore della sua massa."
   ]
  },
  {
   "cell_type": "code",
   "execution_count": null,
   "metadata": {},
   "outputs": [],
   "source": []
  }
 ],
 "metadata": {
  "kernelspec": {
   "display_name": "Python 3",
   "language": "python",
   "name": "python3"
  },
  "language_info": {
   "codemirror_mode": {
    "name": "ipython",
    "version": 3
   },
   "file_extension": ".py",
   "mimetype": "text/x-python",
   "name": "python",
   "nbconvert_exporter": "python",
   "pygments_lexer": "ipython3",
   "version": "3.7.3"
  }
 },
 "nbformat": 4,
 "nbformat_minor": 4
}
