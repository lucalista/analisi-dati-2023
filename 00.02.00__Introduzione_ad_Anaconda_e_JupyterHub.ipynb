{
 "cells": [
  {
   "cell_type": "markdown",
   "metadata": {},
   "source": [
    "# Sviluppare con python in ambiente JupyterHub"
   ]
  },
  {
   "cell_type": "markdown",
   "metadata": {},
   "source": [
    "Come state vedendo, le lezioni sono preparate in formato jupyter notebook. Questo formato è supportato da diverse recenti piattaforme di sviluppo.\n",
    "\n",
    "Questo formato è supportato da sistemi che prendono il nome di JupyterHub."
   ]
  },
  {
   "cell_type": "markdown",
   "metadata": {},
   "source": [
    "Esistono diversi sistemi gratuiti per sviluppare in rete, tra i quali quelli del [progetto jupyter](https://jupyter.org/).\n",
    "\n",
    "<img style=\"width: 250px;\" src=\"img/jupyter-logo.png\">\n",
    "\n",
    "In genere, però, a meno di non avere risorse di calcolo dedicate, questi sistemi possono essere abbastanza lenti."
   ]
  },
  {
   "cell_type": "markdown",
   "metadata": {},
   "source": [
    "Anche Google fornisce una piattaforma di sviluppo python. Le risorse di calcolo sono disponibili direttamente in rete.\n",
    "\n",
    "<img style=\"width: 400px;\" src=\"img/colab-logo.png\">\n",
    "\n",
    "* [Google colab](https://colab.research.google.com)"
   ]
  },
  {
   "cell_type": "markdown",
   "metadata": {},
   "source": [
    "Il sistema che vi suggerisco di usare da casa è:\n",
    "\n",
    "<img style=\"width: 500px;\" src=\"img/anaconda-logo.png\">\n",
    "Anaconda (individual edition) fornisce il supporto locale per sviluppare python in ambiente Jupyter Hub\n",
    "\n",
    "* [Anaconda individual ed.](https://www.anaconda.com/products/individual)"
   ]
  },
  {
   "cell_type": "markdown",
   "metadata": {},
   "source": [
    "Per installare Anaconda:\n",
    "1. scaricare la versione per la propria piattaforma (>400MB; il download può richiedere un po' di tempo...)\n",
    "* installare il pacchetto    "
   ]
  },
  {
   "cell_type": "markdown",
   "metadata": {},
   "source": [
    "Per cominciare a sviluppare:\n",
    "1. avviare Anaconda navigator\n",
    "* far partire l'ambiente jupyter notebook (richiede un browser web)\n",
    "* cerare un nuovo notebook python 3 (menu *New*)"
   ]
  },
  {
   "cell_type": "markdown",
   "metadata": {},
   "source": [
    "# Jupyter Notebook\n",
    "\n",
    "Come abbiamo anticipato sopra, useremo per queste lezioni il formato *jupyter notebook*, come questo file.\n",
    "\n",
    "Trovate [qui](https://jupyter-notebook.readthedocs.io/en/stable/) un'introduzione ai jupyter notebook.\n",
    "\n",
    "I **comandi interattivi** essenziali, le **combinazioni di tasti** e la **sintassi** da usare li trovate [qui](https://towardsdatascience.com/7-essential-tips-for-writing-with-jupyter-notebook-60972a1a8901\")."
   ]
  },
  {
   "cell_type": "markdown",
   "metadata": {},
   "source": [
    "# Moduli python\n",
    "\n",
    "In genere, per utilizzare funzionalità non banali, sarà necessario includere [**moduli**](https://docs.python.org/3/tutorial/modules.html\">) python.\n",
    "\n",
    "Non tutti i moduli che useremo *sono installati di defaut*. Quindi l'import può fallire:"
   ]
  },
  {
   "cell_type": "code",
   "execution_count": 1,
   "metadata": {},
   "outputs": [
    {
     "ename": "ModuleNotFoundError",
     "evalue": "No module named 'unknown_module'",
     "output_type": "error",
     "traceback": [
      "\u001b[0;31m---------------------------------------------------------------------------\u001b[0m",
      "\u001b[0;31mModuleNotFoundError\u001b[0m                       Traceback (most recent call last)",
      "\u001b[0;32m<ipython-input-1-ea1fee4a82af>\u001b[0m in \u001b[0;36m<module>\u001b[0;34m\u001b[0m\n\u001b[0;32m----> 1\u001b[0;31m \u001b[0;32mimport\u001b[0m \u001b[0munknown_module\u001b[0m\u001b[0;34m\u001b[0m\u001b[0;34m\u001b[0m\u001b[0m\n\u001b[0m",
      "\u001b[0;31mModuleNotFoundError\u001b[0m: No module named 'unknown_module'"
     ]
    }
   ],
   "source": [
    "import unknown_module"
   ]
  },
  {
   "cell_type": "markdown",
   "metadata": {},
   "source": [
    "Per installare un nuovo modulo si può procedere:\n",
    "* con linea di comando oppure\n",
    "* con l'interfaccia grafica di Anaconda"
   ]
  },
  {
   "cell_type": "markdown",
   "metadata": {},
   "source": [
    "via linea di comando:\n",
    "1. Aprire un nuovo terminale (menu *New*)\n",
    "* digitare il comando per l'installazione al prompt del terminale\n",
    "\n",
    "di seguito quanto apparirà sul terminale:\n",
    "\n",
    "    conda install iminuit\n",
    "    Collecting package metadata (current_repodata.json): done\n",
    "    Solving environment: done\n",
    "\n",
    "    ## Package Plan ##\n",
    "\n",
    "    environment location: /Users/lista/opt/anaconda3\n",
    "\n",
    "    added / updated specs:\n",
    "    - iminuit\n",
    "\n",
    "    The following packages will be downloaded:\n",
    "\n",
    "    package                    |            build\n",
    "    ---------------------------|-----------------\n",
    "    iminuit-2.2.0              |   py38h23ab428_0         326 KB\n",
    "    ------------------------------------------------------------\n",
    "                                           Total:         326 KB\n",
    "\n",
    "    The following NEW packages will be INSTALLED:\n",
    "\n",
    "    iminuit            pkgs/main/osx-64::iminuit-2.2.0-py38h23ab428_0\n",
    "\n",
    "    Proceed ([y]/n)?\n",
    "\n",
    "battere ```y``` per proseguire:\n",
    "\n",
    "    Downloading and Extracting Packages\n",
    "    iminuit-2.2.0        | 326 KB    | ############################################################# | 100%\n",
    "    Preparing transaction: done\n",
    "    Verifying transaction: done\n",
    "    Executing transaction: done"
   ]
  },
  {
   "cell_type": "markdown",
   "metadata": {},
   "source": [
    "Via interfaccia grafica di Anaconda:\n",
    "\n",
    "1. andare nella sezione \"Environment\" nel menu a sinistra\n",
    "* selezionare nel menu in alto \"Not installed\"\n",
    "* cercare il pacchetto di interesse, ad esempio ```iminuit``\n",
    "* se il pacchetto non appare, provare a cliccare su \"Update index...\"\n",
    "* se ancora non c'è, verficare che non sia già tra i pacchetti \"Installed\"\n",
    "* una volta trovato il pacchetto, cliccare la box\n",
    "* in basso a destra cliccare \"Apply\"\n",
    "\n",
    "Il pacchetto verrà scaricato, apparirà tra quelli \"Installed\", e sarà usabile all'interno dei notebook."
   ]
  },
  {
   "cell_type": "markdown",
   "metadata": {},
   "source": [
    "Per usare il comando di cui sopra, il sistema deve riconoscere il comando ```conda```. In qualche caso potrebbe essere necessario aggiornare il ```PATH``` di default, es.: su Mac o su Linux."
   ]
  },
  {
   "cell_type": "markdown",
   "metadata": {},
   "source": [
    "Il comando ```import``` dal notebook non darà più errore:"
   ]
  },
  {
   "cell_type": "code",
   "execution_count": null,
   "metadata": {},
   "outputs": [],
   "source": [
    "import iminuit"
   ]
  },
  {
   "cell_type": "markdown",
   "metadata": {},
   "source": [
    "# Pacchetti che useremo\n",
    "\n",
    "Useremo i seguenti pacchetti che conviene installare da subito. Diversi potrebbero essere già presenti:\n",
    "* numpy\n",
    "* pandas\n",
    "* scipy\n",
    "* matplotlib\n",
    "* random\n",
    "* wget\n",
    "* iminuit"
   ]
  },
  {
   "cell_type": "markdown",
   "metadata": {},
   "source": [
    "# Git\n",
    "\n",
    "I notebook di questo corso sono rilasciati su un sistema [git](https://git-scm.com) e disponibili nel reposity GitHub:\n",
    "\n",
    "* [https://github.com/lucalista/analisi-dati-2023](https://github.com/lucalista/analisi-dati-2023).\n",
    "\n",
    "<img style=\"width: 250px;\" src=\"img/git-logo.png\">\n",
    "\n",
    "Git è un sistema complesso di gestione dello sviluppo di progetti software dove pià sviluppatori contribuiscono in modo concorrente. Tuttavia, per questo corso useremo solo funzionalità molto basilari di git.\n",
    "\n",
    "Sarà conveniente scaricare il software direttamente con ```git```.\n",
    "\n",
    "Su sistemi unix o mac si può scaricare l'intero reposotory con il comando:\n",
    "\n",
    "    git clone https://github.com/lucalista/analisi-dati-2023.git\n",
    "    \n",
    "Dopo ogni lezione ci saranno aggiornamenti che si possono scaricare con:\n",
    "\n",
    "    git pull\n",
    "\n",
    "È anche disponibile la [versione GUI](https://git-scm.com/downloads/guis/) anziché a linea di comando, comoda in particolare su Windows.\n",
    "\n"
   ]
  },
  {
   "cell_type": "markdown",
   "metadata": {},
   "source": [
    "# Spunti per esercizi\n",
    "\n",
    "* Provare ad installare alcuni dei pacchetti sopra indicati"
   ]
  },
  {
   "cell_type": "code",
   "execution_count": null,
   "metadata": {},
   "outputs": [],
   "source": []
  }
 ],
 "metadata": {
  "kernelspec": {
   "display_name": "Python 3",
   "language": "python",
   "name": "python3"
  },
  "language_info": {
   "codemirror_mode": {
    "name": "ipython",
    "version": 3
   },
   "file_extension": ".py",
   "mimetype": "text/x-python",
   "name": "python",
   "nbconvert_exporter": "python",
   "pygments_lexer": "ipython3",
   "version": "3.7.3"
  }
 },
 "nbformat": 4,
 "nbformat_minor": 4
}
