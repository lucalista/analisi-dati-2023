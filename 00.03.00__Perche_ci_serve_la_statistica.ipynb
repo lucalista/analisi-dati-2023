{
 "cells": [
  {
   "cell_type": "markdown",
   "metadata": {},
   "source": [
    "# Perché ci serva la statistica?\n",
    "\n",
    "In Fisica ci sono diversi problemi che richiedono l'uso della statistica. Quelli principali sono:\n",
    "1. le misure, in particolare quelle di precisione\n",
    "* la ricerca di nuovi fenomeni, in particolare nella speranza che questa porti a nuove scoperte"
   ]
  },
  {
   "cell_type": "markdown",
   "metadata": {},
   "source": [
    "<img style=\"width: 500px\" src=\"img/lep-zmass.png\">\n",
    "\n",
    "Misure dalle quali è stata determinata con precisione la massa della $Z$\n",
    "\n",
    "<img style=\"width: 500px\" src=\"img/cms-h2gg.png\">\n",
    "Spettro di massa di coppie di fotoni dal quale si è determinata evidenza del bosone di Higgs."
   ]
  },
  {
   "cell_type": "markdown",
   "metadata": {},
   "source": [
    "## Misure\n",
    "\n",
    "Le misure fatte in esperimenti sono spesso diverse l'una dall'altra, anche se un esperimento viene ripetuto mantenendo le stesse condizioni. I motivi sono molteplici.\n",
    "* Non si riesce a mantenere esattamente identiche le condizioni di lavoro di un esperimento. Ad es.: cambiano temperatura, umidità o altri parametri di lavoro.\n",
    "* Gli strumenti di misura usati (i rivelatori) hanno fluttuazioni intrinseche nel loro funzionamento. La risposta è caratterizzata da una *risoluzione sperimentale* non ideale, e/o l'efficienza più essere non perfetta.\n",
    "* La fisica stessa può avere casualità intrinseca: questo è inevitabile per fenomeni legati alla meccanica quantistica, ma anche fenomeni governati dalla fisica classica, possono avere fortissime dipendenze da piccolissime variazioni dei parametri di lavoro (effetti caotici)."
   ]
  },
  {
   "cell_type": "markdown",
   "metadata": {},
   "source": [
    "## Confronto con la teoria\n",
    "\n",
    "Le distribuzioni delle quantità misurate sono previste da **modelli teorici** che in generale dipendono da **parametri**, come costanti fondamentali, ecc.\n",
    "\n",
    "Dato un campione di dati misurato vogliamo:\n",
    "* misurare parametri teorici\n",
    "    * la massa di una particella\n",
    "    * una costante di un'interazione fondamentale\n",
    "    * ...\n",
    "* rispondere a domande sulla natura dei dati:\n",
    "    * esiste il bosone di Higgs?\n",
    "    * esistono le onde gravitazionali?\n",
    "    * esiste la materia oscura?\n",
    "    * se non abbiamo evidenza di una particella, quale intervallo della sua massa possiamo escludere?\n",
    "    * ...\n",
    "    \n",
    "Per affrontare questi problemi dobbiamo:\n",
    "* innanzitutto avere sotto controllo una **teoria della probabilità** che descriva la casualità intrinseca dei nostri dati\n",
    "* usare la teoria della probabilità per estrarre **informazioni** dal nostro campione di dati per rispondere alle nostre domande. Ad esempio:\n",
    "    * la massa del quark top vale: $m_\\mathrm{t} = 173.1 \\pm 1.3\\,\\mathrm{GeV}$\n",
    "    * il bosone di Higgs esiste; lo affermiamo perché la **significatività statistica** della misura è superiore ad ogni soglia ragionevole\n",
    "    \n",
    "Daremo significato alle affermazioni di cui sopra durante queste lezioni."
   ]
  },
  {
   "cell_type": "markdown",
   "metadata": {},
   "source": [
    "## Probabilità\n",
    "\n",
    "Dobbiamo quindi definire cosa intendiamo per probabilità, capirne e diventare padroni delle sue *regole*. Questo sarà lo scopo delle prime lezioni di questo corso.\n",
    "\n",
    "Come prima cosa, capiremo cosa sono i fenomeni casuali e impareremo a simularli numericamente. In questo modo, avremo un laboratorio col quale esercitare la nostra teoria.\n",
    "\n",
    "Quindi daremo più definizioni possibili di probabilità che permetteranno di formulare una teoria che ci permetterà di fare valutazioni quantitative in base ai nostri dati."
   ]
  },
  {
   "cell_type": "markdown",
   "metadata": {},
   "source": [
    "## Ma prima...\n",
    "\n",
    "... ma prima sarà necessario installare alcuni strumenti software per seguire meglio queste lezioni e per svolgere le parti interative e di esercitazioni."
   ]
  },
  {
   "cell_type": "code",
   "execution_count": null,
   "metadata": {},
   "outputs": [],
   "source": []
  }
 ],
 "metadata": {
  "kernelspec": {
   "display_name": "Python 3",
   "language": "python",
   "name": "python3"
  },
  "language_info": {
   "codemirror_mode": {
    "name": "ipython",
    "version": 3
   },
   "file_extension": ".py",
   "mimetype": "text/x-python",
   "name": "python",
   "nbconvert_exporter": "python",
   "pygments_lexer": "ipython3",
   "version": "3.7.3"
  }
 },
 "nbformat": 4,
 "nbformat_minor": 4
}
