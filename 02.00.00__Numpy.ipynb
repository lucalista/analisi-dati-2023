{
 "cells": [
  {
   "cell_type": "markdown",
   "metadata": {},
   "source": [
    "# Numpy\n",
    "\n",
    "Numpy è un modulo che gestisce e manipola array di numeri.\n",
    "\n",
    "Permette di svolgere operazioni tra tutti gli elementi con una sola istruzione facendo risparmiare molte linee di codice. In questo modo lo stile del codice eviterà diversi *loop* uno dentro l'altro favorendo una scrittura più lineare ed in genere fornisce implementazioni più veloci.\n",
    "\n",
    "A differenze delle liste python, **il tipo di dati è fisso** in numpy perché usa aree di memoria contigue. Questo rende l'implementazione più rapida delle liste usuali. \n",
    "\n",
    "* <a href=\"https://numpy.org/\">documentazione</a>\n",
    "\n",
    "* <a href=\"https://youtu.be/GB9ByFAIAH4\">tutorial online</a>"
   ]
  },
  {
   "cell_type": "code",
   "execution_count": 1,
   "metadata": {},
   "outputs": [],
   "source": [
    "import numpy as np\n",
    "import math"
   ]
  },
  {
   "cell_type": "code",
   "execution_count": 2,
   "metadata": {},
   "outputs": [
    {
     "name": "stdout",
     "output_type": "stream",
     "text": [
      "[ 5 12 14]\n"
     ]
    }
   ],
   "source": [
    "x = np.array([2, 5, 6])\n",
    "y = np.array([3, 7, 8])\n",
    "xy = x+y\n",
    "print(xy)"
   ]
  },
  {
   "cell_type": "markdown",
   "metadata": {},
   "source": [
    "Definiamo una matrice di rotazione di un angolo $\\theta = \\pi/3$:"
   ]
  },
  {
   "cell_type": "code",
   "execution_count": 3,
   "metadata": {},
   "outputs": [
    {
     "name": "stdout",
     "output_type": "stream",
     "text": [
      "[[ 0.5        0.8660254]\n",
      " [-0.8660254  0.5      ]]\n",
      "dimensions:  2\n",
      "rows, cols:  (2, 2)\n",
      "data type:  float64\n"
     ]
    }
   ],
   "source": [
    "theta = math.pi/3\n",
    "st = math.sin(theta); ct = math.cos(theta)\n",
    "rot = np.array([[ct, st],[-st, ct]])\n",
    "print(rot)\n",
    "print(\"dimensions: \", rot.ndim)\n",
    "print(\"rows, cols: \", rot.shape)\n",
    "print(\"data type: \", rot.dtype)"
   ]
  },
  {
   "cell_type": "code",
   "execution_count": 4,
   "metadata": {},
   "outputs": [
    {
     "name": "stdout",
     "output_type": "stream",
     "text": [
      "0.5000000000000001 0.8660254037844386\n",
      "-0.8660254037844386 0.5000000000000001\n"
     ]
    }
   ],
   "source": [
    "rot11 = rot[0,0]; rot12 = rot[0,1]\n",
    "rot21 = rot[1,0]; rot22 = rot[1,1]\n",
    "print(rot11, rot12)\n",
    "print(rot21, rot22)"
   ]
  },
  {
   "cell_type": "markdown",
   "metadata": {},
   "source": [
    "Il tipo dei dati può essere specificato come parametro al momento della creazione dell'array."
   ]
  },
  {
   "cell_type": "code",
   "execution_count": 5,
   "metadata": {},
   "outputs": [
    {
     "name": "stdout",
     "output_type": "stream",
     "text": [
      "[2 5 6]\n"
     ]
    }
   ],
   "source": [
    "x = np.array([2, 5, 6], np.int32)\n",
    "print(x)"
   ]
  },
  {
   "cell_type": "code",
   "execution_count": 6,
   "metadata": {},
   "outputs": [
    {
     "name": "stdout",
     "output_type": "stream",
     "text": [
      "[2. 5. 6.]\n"
     ]
    }
   ],
   "source": [
    "x = np.array([2, 5, 6], np.float64)\n",
    "print(x)"
   ]
  },
  {
   "cell_type": "markdown",
   "metadata": {},
   "source": [
    "Accesso alle specifiche righe:"
   ]
  },
  {
   "cell_type": "code",
   "execution_count": 7,
   "metadata": {},
   "outputs": [
    {
     "name": "stdout",
     "output_type": "stream",
     "text": [
      "[0.5       0.8660254]\n",
      "[-0.8660254  0.5      ]\n",
      "[0.5       0.8660254]\n",
      "[-0.8660254  0.5      ]\n"
     ]
    }
   ],
   "source": [
    "print(rot[0])\n",
    "print(rot[1])\n",
    "print(rot[0, :])\n",
    "print(rot[1, :])"
   ]
  },
  {
   "cell_type": "markdown",
   "metadata": {},
   "source": [
    "Accesso alle specifiche colonne:"
   ]
  },
  {
   "cell_type": "code",
   "execution_count": 8,
   "metadata": {},
   "outputs": [
    {
     "name": "stdout",
     "output_type": "stream",
     "text": [
      "[ 0.5       -0.8660254]\n",
      "[0.8660254 0.5      ]\n"
     ]
    }
   ],
   "source": [
    "print(rot[:, 0])\n",
    "print(rot[:, 1])"
   ]
  },
  {
   "cell_type": "markdown",
   "metadata": {},
   "source": [
    "Accesso a sottoinsiemi della matrice (ossia al *minore* della matrice).\n",
    "Notare: l'ultimo indice in ```1:3``` non è incluso!"
   ]
  },
  {
   "cell_type": "code",
   "execution_count": 9,
   "metadata": {},
   "outputs": [
    {
     "name": "stdout",
     "output_type": "stream",
     "text": [
      "[[ 1  2  3  4]\n",
      " [ 5  6  7  8]\n",
      " [ 9 10 11 12]]\n",
      "[[ 6  7]\n",
      " [10 11]]\n"
     ]
    }
   ],
   "source": [
    "m = np.array([[1, 2, 3, 4], [5, 6, 7, 8], [9, 10 , 11, 12]])\n",
    "print(m)\n",
    "m1 = m[1:3, 1:3]\n",
    "print(m1)"
   ]
  },
  {
   "cell_type": "markdown",
   "metadata": {},
   "source": [
    "Accesso agli elementi saltandone un certo numero"
   ]
  },
  {
   "cell_type": "code",
   "execution_count": 10,
   "metadata": {},
   "outputs": [
    {
     "name": "stdout",
     "output_type": "stream",
     "text": [
      "[[ 1  2  3  4  5  6  7  8]\n",
      " [ 9 10 11 12 13 14 15 16]]\n",
      "[[ 1  3  5  7]\n",
      " [ 9 11 13 15]]\n",
      "[[ 2  4  6  8]\n",
      " [10 12 14 16]]\n"
     ]
    }
   ],
   "source": [
    "m = np.array([[1, 2, 3, 4, 5, 6, 7, 8], [9, 10 , 11, 12, 13, 14, 15, 16]])\n",
    "print(m)\n",
    "# skip even or odd columns \n",
    "me = m[0:2, 0:8:2]\n",
    "mo = m[0:2, 1:8:2]\n",
    "print(me)\n",
    "print(mo)"
   ]
  },
  {
   "cell_type": "markdown",
   "metadata": {},
   "source": [
    "Accesso ad elementi dato un insieme di indici"
   ]
  },
  {
   "cell_type": "markdown",
   "metadata": {},
   "source": [
    "Accesso a sottoinsiemi in scrittura:"
   ]
  },
  {
   "cell_type": "code",
   "execution_count": 11,
   "metadata": {},
   "outputs": [
    {
     "name": "stdout",
     "output_type": "stream",
     "text": [
      "[0. 0. 0. 0. 0. 0. 0. 0. 0. 0.]\n",
      "[0. 0. 2. 2. 2. 0. 0. 0. 0. 0.]\n",
      "[0. 0. 1. 2. 3. 0. 0. 0. 0. 0.]\n"
     ]
    }
   ],
   "source": [
    "x = np.zeros(10)\n",
    "print(x)\n",
    "x[2:5] = 2\n",
    "print(x)\n",
    "x[2:5] = [1, 2, 3]\n",
    "print(x)"
   ]
  },
  {
   "cell_type": "markdown",
   "metadata": {},
   "source": [
    "Inizializzazione: tutti zeri o uno, o non inizializzati"
   ]
  },
  {
   "cell_type": "code",
   "execution_count": 12,
   "metadata": {},
   "outputs": [
    {
     "name": "stdout",
     "output_type": "stream",
     "text": [
      "[[1. 1.]\n",
      " [1. 1.]\n",
      " [1. 1.]]\n",
      "[[0. 0.]\n",
      " [0. 0.]\n",
      " [0. 0.]]\n",
      "[[ 4.67808622e-310  0.00000000e+000  6.98853958e+228  2.11653524e+214\n",
      "   9.62006198e+228  3.38460673e+125  6.69053866e+151  6.56693077e-085]\n",
      " [ 4.42828483e-239  3.27748881e-313  7.52744116e+252  5.82392120e+252\n",
      "   6.58203621e-085  1.42800637e+248  9.06343082e+231  7.72198486e+228]\n",
      " [ 4.71526669e+180  1.24590723e-224  1.19776716e-312  7.52744116e+252\n",
      "   5.82392120e+252  2.06934482e+243  1.05632950e-310  2.24261886e-205]\n",
      " [ 4.76288587e-313  7.52744116e+252  5.82392120e+252  6.58203139e-085\n",
      "   3.94354960e+180 -3.38460686e+125  2.57153710e+151  1.50107583e+164]\n",
      " [ 5.18763613e-313  3.67767335e-308  1.33360302e+241  2.52305300e-310\n",
      "   3.79519126e-080  5.54041819e+228  6.75635367e-312  1.27594635e-303]\n",
      " [ 3.36312407e-284  1.27613549e-303  5.48092443e-294  8.20430627e-304\n",
      "   8.20430627e-304  8.20430627e-304  5.74115043e-183  6.95335594e-308]]\n"
     ]
    }
   ],
   "source": [
    "x = np.ones((3,2))\n",
    "print(x)\n",
    "x = np.zeros((3,2))\n",
    "print(x)\n",
    "x = np.empty((6,8))\n",
    "print(x)"
   ]
  },
  {
   "cell_type": "markdown",
   "metadata": {},
   "source": [
    "Inizializzazione: tutti valori uguali"
   ]
  },
  {
   "cell_type": "code",
   "execution_count": 13,
   "metadata": {},
   "outputs": [
    {
     "name": "stdout",
     "output_type": "stream",
     "text": [
      "[[3.14 3.14 3.14]\n",
      " [3.14 3.14 3.14]]\n"
     ]
    }
   ],
   "source": [
    "x = np.full((2,3),3.14)\n",
    "print(x)"
   ]
  },
  {
   "cell_type": "markdown",
   "metadata": {},
   "source": [
    "Inizializzazione: casuale"
   ]
  },
  {
   "cell_type": "code",
   "execution_count": 14,
   "metadata": {},
   "outputs": [
    {
     "name": "stdout",
     "output_type": "stream",
     "text": [
      "[[0.75717101 0.11841172 0.44864463]\n",
      " [0.49855303 0.61018019 0.82605433]\n",
      " [0.43299691 0.37123665 0.77204799]]\n"
     ]
    }
   ],
   "source": [
    "r = np.random.rand(3,3)\n",
    "print(r)"
   ]
  },
  {
   "cell_type": "markdown",
   "metadata": {},
   "source": [
    "Matrice identità"
   ]
  },
  {
   "cell_type": "code",
   "execution_count": 15,
   "metadata": {},
   "outputs": [
    {
     "name": "stdout",
     "output_type": "stream",
     "text": [
      "[[1. 0. 0. 0.]\n",
      " [0. 1. 0. 0.]\n",
      " [0. 0. 1. 0.]\n",
      " [0. 0. 0. 1.]]\n"
     ]
    }
   ],
   "source": [
    "i = np.identity(4)\n",
    "print(i)"
   ]
  },
  {
   "cell_type": "markdown",
   "metadata": {},
   "source": [
    "Accesso a blocchi in scrittura"
   ]
  },
  {
   "cell_type": "code",
   "execution_count": 16,
   "metadata": {},
   "outputs": [
    {
     "name": "stdout",
     "output_type": "stream",
     "text": [
      "[[ 1.         0.         0.         0.       ]\n",
      " [ 0.         1.         0.         0.       ]\n",
      " [ 0.5        0.8660254  1.         0.       ]\n",
      " [-0.8660254  0.5        0.         1.       ]]\n"
     ]
    }
   ],
   "source": [
    "i[2:4,0:2] = rot\n",
    "print(i)"
   ]
  },
  {
   "cell_type": "code",
   "execution_count": 17,
   "metadata": {},
   "outputs": [
    {
     "name": "stdout",
     "output_type": "stream",
     "text": [
      "[[ 1.         0.         0.5        0.8660254]\n",
      " [ 0.         1.        -0.8660254  0.5      ]\n",
      " [ 0.5        0.8660254  1.         0.       ]\n",
      " [-0.8660254  0.5        0.         1.       ]]\n"
     ]
    }
   ],
   "source": [
    "i[0:2,2:4] = rot\n",
    "print(i)"
   ]
  },
  {
   "cell_type": "markdown",
   "metadata": {},
   "source": [
    "Selezione di elementi multipli in base ad un insieme di indici:"
   ]
  },
  {
   "cell_type": "code",
   "execution_count": 18,
   "metadata": {},
   "outputs": [
    {
     "name": "stdout",
     "output_type": "stream",
     "text": [
      "[20 40 60 80]\n",
      "[10 30 50 70]\n"
     ]
    },
    {
     "data": {
      "text/plain": [
       "array([20, 30, 50])"
      ]
     },
     "execution_count": 18,
     "metadata": {},
     "output_type": "execute_result"
    }
   ],
   "source": [
    "x = np.array([10, 20, 30, 40, 50, 60, 70, 80])\n",
    "ev = x[[1, 3, 5, 7]]\n",
    "od = x[[0, 2, 4, 6]]\n",
    "print(ev)\n",
    "print(od)\n",
    "x = np.array([[0, 10, 20, 30, 40, 50, 60]])\n",
    "np.take(x, [2, 3, 5])"
   ]
  },
  {
   "cell_type": "code",
   "execution_count": 19,
   "metadata": {},
   "outputs": [
    {
     "name": "stdout",
     "output_type": "stream",
     "text": [
      "[[1 0 0 0]\n",
      " [0 2 0 0]\n",
      " [0 0 3 0]\n",
      " [0 0 0 4]]\n",
      "[1 2 3 4]\n"
     ]
    }
   ],
   "source": [
    "m = np.array([[1, 0, 0, 0], [0, 2, 0, 0], [0, 0, 3, 0], [0, 0, 0, 4]])\n",
    "print(m)\n",
    "diag = m[[0, 1, 2, 3], [0, 1, 2, 3]]\n",
    "print(diag)"
   ]
  },
  {
   "cell_type": "markdown",
   "metadata": {},
   "source": [
    "# Copie: shallow vs deep\n",
    "La copia di default è *shallow*, ossia viene assegnato un puntatore all'oggetto originale. Per avere una copia diversa dall'ogetto originale bisogna usare il metodo ```copy()```."
   ]
  },
  {
   "cell_type": "code",
   "execution_count": 20,
   "metadata": {},
   "outputs": [
    {
     "name": "stdout",
     "output_type": "stream",
     "text": [
      "[0. 0. 0. 0. 0.] [0. 0. 0. 0. 0.]\n",
      "[0. 0. 9. 2. 0.] [0. 0. 9. 2. 0.]\n"
     ]
    }
   ],
   "source": [
    "a = np.zeros(5)\n",
    "b = a\n",
    "print(a, b)\n",
    "a[2] = 9\n",
    "b[3] = 2\n",
    "print(a,b)"
   ]
  },
  {
   "cell_type": "code",
   "execution_count": 21,
   "metadata": {},
   "outputs": [
    {
     "name": "stdout",
     "output_type": "stream",
     "text": [
      "[0. 0. 0. 0. 0.] [0. 0. 0. 0. 0.]\n",
      "[0. 0. 9. 0. 0.] [0. 0. 0. 2. 0.]\n"
     ]
    }
   ],
   "source": [
    "a = np.zeros(5)\n",
    "b = a.copy()\n",
    "print(a, b)\n",
    "a[2] = 9\n",
    "b[3] = 2\n",
    "print(a,b)"
   ]
  },
  {
   "cell_type": "markdown",
   "metadata": {},
   "source": [
    "# Manipolazione con operazioni matematiche\n",
    "\n",
    "In sostanza, tutte le operazioni vengono svolte elemento per elemento.\n",
    "\n",
    "Attenzione! La moltiplicazione tra matrici su puà fare come ```np.matmul(a,b)```, **non** come ```a*b```."
   ]
  },
  {
   "cell_type": "code",
   "execution_count": 22,
   "metadata": {},
   "outputs": [
    {
     "name": "stdout",
     "output_type": "stream",
     "text": [
      "[1 2 3] [2 4 6]\n"
     ]
    }
   ],
   "source": [
    "a = np.array([1,2,3])\n",
    "b = a*2\n",
    "print(a, b)"
   ]
  },
  {
   "cell_type": "markdown",
   "metadata": {},
   "source": [
    "Moltiplicazione elemento per elento"
   ]
  },
  {
   "cell_type": "code",
   "execution_count": 23,
   "metadata": {},
   "outputs": [
    {
     "name": "stdout",
     "output_type": "stream",
     "text": [
      "[1 2 3 4] [3 4 5 6] [ 3  8 15 24]\n"
     ]
    }
   ],
   "source": [
    "a = np.array([1,2,3,4]); b = np.array([3, 4, 5, 6])\n",
    "ab = a*b\n",
    "print(a, b, ab)"
   ]
  },
  {
   "cell_type": "code",
   "execution_count": 24,
   "metadata": {},
   "outputs": [
    {
     "name": "stdout",
     "output_type": "stream",
     "text": [
      "[1 2 3 4] [   1   64  729 4096]\n"
     ]
    }
   ],
   "source": [
    "a6 = a**6\n",
    "print(a, a6)"
   ]
  },
  {
   "cell_type": "markdown",
   "metadata": {},
   "source": [
    "Sequenza equispaziata tra un valore minimo ed un valore massimo"
   ]
  },
  {
   "cell_type": "code",
   "execution_count": 25,
   "metadata": {},
   "outputs": [
    {
     "name": "stdout",
     "output_type": "stream",
     "text": [
      "[0.         0.34906585 0.6981317  1.04719755 1.3962634  1.74532925\n",
      " 2.0943951  2.44346095 2.7925268  3.14159265]\n",
      "[0.         0.31415927 0.62831853 0.9424778  1.25663706 1.57079633\n",
      " 1.88495559 2.19911486 2.51327412 2.82743339 3.14159265]\n"
     ]
    }
   ],
   "source": [
    "bins = 10\n",
    "theta = np.linspace(0, math.pi, bins)\n",
    "print(theta)\n",
    "theta = np.linspace(0, math.pi, 11)\n",
    "print(theta)"
   ]
  },
  {
   "cell_type": "markdown",
   "metadata": {},
   "source": [
    "Possiamo calcolare i valori di una funzione corrispondenti agli elementi che passiamo.\n",
    "\n",
    "Questa funzione è estremamente utile per fare grafici di una funzione, che di fatto sono curve che passano per una serie di punti forniti dall'utente."
   ]
  },
  {
   "cell_type": "code",
   "execution_count": 26,
   "metadata": {},
   "outputs": [
    {
     "name": "stdout",
     "output_type": "stream",
     "text": [
      "[ 1.      0.9511  0.809   0.5878  0.309   0.     -0.309  -0.5878 -0.809\n",
      " -0.9511 -1.    ]\n",
      "[0.     0.309  0.5878 0.809  0.9511 1.     0.9511 0.809  0.5878 0.309\n",
      " 0.    ]\n"
     ]
    }
   ],
   "source": [
    "ct = np.cos(theta)\n",
    "st = np.sin(theta)\n",
    "np.set_printoptions(precision=4, suppress=True)\n",
    "print(ct)\n",
    "print(st)"
   ]
  },
  {
   "cell_type": "markdown",
   "metadata": {},
   "source": [
    "Applicare ripetutamente una funzione. Questa possibilità sfrutta il fatto che python è un interprete. Purché sia definito l'operatore ```**``` (```x**2```), la funzione ```fun``` può essere eseguita."
   ]
  },
  {
   "cell_type": "code",
   "execution_count": 27,
   "metadata": {},
   "outputs": [
    {
     "name": "stdout",
     "output_type": "stream",
     "text": [
      "[ 0  3  8 15 24]\n"
     ]
    }
   ],
   "source": [
    "v = np.array([1, 2, 3, 4, 5])\n",
    "fun = lambda x: x**2 - 1\n",
    "#def fun(x): return x**2 -1\n",
    "f = fun(v)\n",
    "print(f)"
   ]
  },
  {
   "cell_type": "markdown",
   "metadata": {},
   "source": [
    "Si può definire una funzione che prende come argomento un ```np.array``` e applica ripetutamente un'altra funzione data a ciascun elemento."
   ]
  },
  {
   "cell_type": "code",
   "execution_count": 28,
   "metadata": {},
   "outputs": [],
   "source": [
    "def sinus(x):\n",
    "    return math.sin(x)+math.cos(x)"
   ]
  },
  {
   "cell_type": "code",
   "execution_count": 29,
   "metadata": {},
   "outputs": [
    {
     "name": "stderr",
     "output_type": "stream",
     "text": [
      "Traceback (most recent call last):\n",
      "  File \"<stdin>\", line 2, in <module>\n",
      "NameError: name 'sinus' is not defined\n"
     ]
    }
   ],
   "source": [
    "%%script python --no-raise-error\n",
    "# l'istruzione che segue dà un errore\n",
    "f = sinus(v)"
   ]
  },
  {
   "cell_type": "code",
   "execution_count": 30,
   "metadata": {},
   "outputs": [
    {
     "name": "stdout",
     "output_type": "stream",
     "text": [
      "[ 1.3818  0.4932 -0.8489 -1.4104 -0.6753]\n"
     ]
    }
   ],
   "source": [
    "vfunc = np.vectorize(sinus)\n",
    "f = vfunc(v)\n",
    "print(f)"
   ]
  },
  {
   "cell_type": "code",
   "execution_count": 31,
   "metadata": {},
   "outputs": [
    {
     "name": "stdout",
     "output_type": "stream",
     "text": [
      "[ 1.3818  0.4932 -0.8489 -1.4104 -0.6753]\n"
     ]
    }
   ],
   "source": [
    "def vsinus(x):\n",
    "    return np.sin(x)+np.cos(x)\n",
    "f = vsinus(v)\n",
    "print(f)"
   ]
  },
  {
   "cell_type": "code",
   "execution_count": 32,
   "metadata": {},
   "outputs": [
    {
     "name": "stdout",
     "output_type": "stream",
     "text": [
      "[1.     0.9983 0.9933 0.9851]\n"
     ]
    }
   ],
   "source": [
    "v = np.array([0.0, 0.1, 0.2, 0.3])\n",
    "fun = lambda x: 1.0 if x==0 else math.sin(x)/x\n",
    "f = np.vectorize(fun)(v)\n",
    "print(f)"
   ]
  },
  {
   "cell_type": "markdown",
   "metadata": {},
   "source": [
    "# Algebra lineare"
   ]
  },
  {
   "cell_type": "markdown",
   "metadata": {},
   "source": [
    "Prodotto tra matrici"
   ]
  },
  {
   "cell_type": "code",
   "execution_count": 33,
   "metadata": {},
   "outputs": [
    {
     "name": "stdout",
     "output_type": "stream",
     "text": [
      "[[22 28]\n",
      " [49 64]]\n"
     ]
    }
   ],
   "source": [
    "a = np.array([[1, 2, 3],[4, 5, 6]])\n",
    "b = np.array([[1,2], [3, 4], [5,6]])\n",
    "ab = np.matmul(a,b)\n",
    "print(ab)"
   ]
  },
  {
   "cell_type": "markdown",
   "metadata": {},
   "source": [
    "Determinante"
   ]
  },
  {
   "cell_type": "code",
   "execution_count": 34,
   "metadata": {},
   "outputs": [
    {
     "name": "stdout",
     "output_type": "stream",
     "text": [
      "35.99999999999982\n",
      "36\n"
     ]
    }
   ],
   "source": [
    "det = np.linalg.det(ab)\n",
    "print(det)\n",
    "print(22*64-28*49)"
   ]
  },
  {
   "cell_type": "markdown",
   "metadata": {},
   "source": [
    "Matrice inversa"
   ]
  },
  {
   "cell_type": "code",
   "execution_count": 35,
   "metadata": {},
   "outputs": [
    {
     "name": "stdout",
     "output_type": "stream",
     "text": [
      "[[ 1.7778 -0.7778]\n",
      " [-1.3611  0.6111]]\n"
     ]
    }
   ],
   "source": [
    "inv = np.linalg.inv(ab)\n",
    "print(inv)"
   ]
  },
  {
   "cell_type": "markdown",
   "metadata": {},
   "source": [
    "Calcolo degli autovalori ed autovettori"
   ]
  },
  {
   "cell_type": "code",
   "execution_count": 36,
   "metadata": {},
   "outputs": [
    {
     "name": "stdout",
     "output_type": "stream",
     "text": [
      "[[1 2 0 0]\n",
      " [2 1 0 0]\n",
      " [0 0 2 3]\n",
      " [0 0 3 2]]\n"
     ]
    }
   ],
   "source": [
    "a = np.array([[1, 2, 0, 0],[2, 1, 0, 0], [0, 0, 2, 3],[0, 0, 3, 2]])\n",
    "print(a)"
   ]
  },
  {
   "cell_type": "code",
   "execution_count": 37,
   "metadata": {},
   "outputs": [
    {
     "name": "stdout",
     "output_type": "stream",
     "text": [
      "[ 3. -1.  5. -1.]\n",
      "[[ 0.7071 -0.7071  0.      0.    ]\n",
      " [ 0.7071  0.7071  0.      0.    ]\n",
      " [ 0.      0.      0.7071 -0.7071]\n",
      " [ 0.      0.      0.7071  0.7071]]\n"
     ]
    }
   ],
   "source": [
    "w, v = np.linalg.eig(a)\n",
    "print(w)\n",
    "print(v)"
   ]
  },
  {
   "cell_type": "markdown",
   "metadata": {},
   "source": [
    "# Principali indicatori statistici\n",
    "\n",
    "In seguito daremo una più precisa definizione degli indicatori statistici. Quella che segue è solo un'anteprima."
   ]
  },
  {
   "cell_type": "code",
   "execution_count": 38,
   "metadata": {},
   "outputs": [
    {
     "name": "stdout",
     "output_type": "stream",
     "text": [
      "0.035965159311319383 0.8978241001288835\n",
      "sum:  4.448288563682131\n",
      "mean:  0.4448288563682131\n",
      "mean:  0.4448288563682131\n",
      "mean sq:  0.2840225622335991\n",
      "variance:  0.08614985077574674\n",
      "variance:  0.08614985077574669\n",
      "std. dev:  0.2935129482250258\n",
      "std. dev:  0.2935129482250258\n"
     ]
    }
   ],
   "source": [
    "x = np.random.rand(10)\n",
    "print(x.min(),x.max())\n",
    "print(\"sum: \", x.sum())\n",
    "print(\"mean: \", x.sum()/x.shape[0])\n",
    "print(\"mean: \", x.mean())\n",
    "print(\"mean sq: \", (x**2).mean())\n",
    "print(\"variance: \", (x**2).mean()-x.mean()**2)\n",
    "print(\"variance: \", x.var())\n",
    "print(\"std. dev: \", math.sqrt(x.var()))\n",
    "print(\"std. dev: \", x.std())"
   ]
  },
  {
   "cell_type": "code",
   "execution_count": 39,
   "metadata": {},
   "outputs": [
    {
     "name": "stdout",
     "output_type": "stream",
     "text": [
      "[[0.4736 0.985  0.6671 0.728 ]\n",
      " [0.3533 0.7319 0.4411 0.4425]\n",
      " [0.7713 0.2547 0.6654 0.0095]\n",
      " [0.6395 0.9239 0.1664 0.3007]\n",
      " [0.6139 0.3743 0.5883 0.158 ]\n",
      " [0.3753 0.8448 0.8611 0.9353]]\n",
      "sum:  13.304685553511737\n",
      "sum cols:  [3.2268 4.1146 3.3893 2.5739]\n",
      "sum rows:  [2.8537 1.9687 1.7009 2.0305 1.7344 3.0165]\n"
     ]
    }
   ],
   "source": [
    "m = np.random.rand(6, 4)\n",
    "print(m)\n",
    "print(\"sum: \", m.sum())\n",
    "print(\"sum cols: \", m.sum(axis = 0))\n",
    "print(\"sum rows: \", m.sum(axis = 1))"
   ]
  },
  {
   "cell_type": "markdown",
   "metadata": {},
   "source": [
    "# Altre manipolazioni"
   ]
  },
  {
   "cell_type": "code",
   "execution_count": 40,
   "metadata": {},
   "outputs": [
    {
     "name": "stdout",
     "output_type": "stream",
     "text": [
      "[[1 2 3 4]\n",
      " [5 6 7 8]]\n"
     ]
    }
   ],
   "source": [
    "v1 = np.array([1,2,3,4])\n",
    "v2 = np.array([5,6,7,8])\n",
    "v = np.vstack([v1,v2])\n",
    "print(v)"
   ]
  },
  {
   "cell_type": "code",
   "execution_count": 41,
   "metadata": {},
   "outputs": [
    {
     "name": "stdout",
     "output_type": "stream",
     "text": [
      "[[ 1  2  5  6  7]\n",
      " [ 3  4  8  9 10]]\n"
     ]
    }
   ],
   "source": [
    "h1 = np.array([[1,2], [3, 4]])\n",
    "h2 = np.array([[5, 6, 7], [8, 9, 10]])\n",
    "h = np.hstack([h1, h2])\n",
    "print(h)"
   ]
  },
  {
   "cell_type": "markdown",
   "metadata": {},
   "source": [
    "Non è una funzione ```numpy```, ma è un modo comodo per iterare contemporaneamente su due o più array:"
   ]
  },
  {
   "cell_type": "code",
   "execution_count": 42,
   "metadata": {},
   "outputs": [
    {
     "name": "stdout",
     "output_type": "stream",
     "text": [
      "<zip object at 0x7f4078668c08>\n",
      "1 5\n",
      "2 6\n",
      "3 7\n",
      "4 8\n"
     ]
    }
   ],
   "source": [
    "v = zip(v1, v2)\n",
    "print(v)\n",
    "for a, b in zip(v1, v2):\n",
    "    print(a, b)"
   ]
  },
  {
   "cell_type": "markdown",
   "metadata": {},
   "source": [
    "# Input da file\n",
    "I numeri sono di default interpretati come float"
   ]
  },
  {
   "cell_type": "code",
   "execution_count": 43,
   "metadata": {},
   "outputs": [
    {
     "name": "stdout",
     "output_type": "stream",
     "text": [
      "[[1. 2.]\n",
      " [3. 4.]\n",
      " [5. 6.]\n",
      " [7. 8.]]\n",
      "[[1 2]\n",
      " [3 4]\n",
      " [5 6]\n",
      " [7 8]]\n"
     ]
    }
   ],
   "source": [
    "m = np.genfromtxt('data/np-data.txt', delimiter=',')\n",
    "print(m)\n",
    "m = m.astype('int32')\n",
    "print(m)"
   ]
  },
  {
   "cell_type": "markdown",
   "metadata": {},
   "source": [
    "# Condizioni booleane"
   ]
  },
  {
   "cell_type": "code",
   "execution_count": 44,
   "metadata": {},
   "outputs": [
    {
     "data": {
      "text/plain": [
       "array([[False, False],\n",
       "       [False,  True],\n",
       "       [ True,  True],\n",
       "       [ True,  True]])"
      ]
     },
     "execution_count": 44,
     "metadata": {},
     "output_type": "execute_result"
    }
   ],
   "source": [
    "(m > 3)"
   ]
  },
  {
   "cell_type": "code",
   "execution_count": 45,
   "metadata": {},
   "outputs": [
    {
     "data": {
      "text/plain": [
       "array([[False, False],\n",
       "       [False,  True],\n",
       "       [ True,  True],\n",
       "       [False, False]])"
      ]
     },
     "execution_count": 45,
     "metadata": {},
     "output_type": "execute_result"
    }
   ],
   "source": [
    "((m > 3) & (m < 7))"
   ]
  },
  {
   "cell_type": "markdown",
   "metadata": {},
   "source": [
    "Selezione degli elementi secondo una condizione"
   ]
  },
  {
   "cell_type": "code",
   "execution_count": 46,
   "metadata": {},
   "outputs": [
    {
     "name": "stdout",
     "output_type": "stream",
     "text": [
      "[0.6156 0.3613 0.4342 0.3414 0.3009 0.3615 0.7282 0.7416 0.1453 0.9849]\n",
      "[ True False False False False False  True  True False  True]\n",
      "[0.6156 0.7282 0.7416 0.9849]\n"
     ]
    }
   ],
   "source": [
    "x = np.random.rand(10)\n",
    "print(x)\n",
    "print(x>0.5)\n",
    "x1 = x[x>0.5]\n",
    "print(x1)"
   ]
  }
 ],
 "metadata": {
  "kernelspec": {
   "display_name": "Python 3",
   "language": "python",
   "name": "python3"
  },
  "language_info": {
   "codemirror_mode": {
    "name": "ipython",
    "version": 3
   },
   "file_extension": ".py",
   "mimetype": "text/x-python",
   "name": "python",
   "nbconvert_exporter": "python",
   "pygments_lexer": "ipython3",
   "version": "3.7.3"
  }
 },
 "nbformat": 4,
 "nbformat_minor": 4
}
