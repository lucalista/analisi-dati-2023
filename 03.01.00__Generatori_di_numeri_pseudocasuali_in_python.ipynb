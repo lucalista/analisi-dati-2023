{
 "cells": [
  {
   "cell_type": "markdown",
   "metadata": {},
   "source": [
    "# Generatori di numeri pseudocasuali in python\n",
    "\n",
    "Cominciamo ad utilizzare il modulo ```random``` che contiene un algoritmo per la generazione di numeri casuali uniformi tra 0 e 1. \n",
    "\n",
    "Nel seguito introdurremo altre librerie che contengono generatori con distribuzioni non uniformi, dopo che avremo definito meglio cosa si intende per *distribuzione*.\n",
    "\n",
    "La documentazione si trova facilmente con Google. Di seguito alcuni link:\n",
    "* <a href=\"https://docs.python.org/3/library/random.html\">random</a> (python.org)\n",
    "* <a href=\"https://www.w3schools.com/python/module_random.asp\">Python Random Module</a> (W3School)"
   ]
  },
  {
   "cell_type": "code",
   "execution_count": 1,
   "metadata": {},
   "outputs": [
    {
     "name": "stdout",
     "output_type": "stream",
     "text": [
      "Help on built-in function random:\n",
      "\n",
      "random(...) method of random.Random instance\n",
      "    random() -> x in the interval [0, 1).\n",
      "\n"
     ]
    }
   ],
   "source": [
    "import random\n",
    "help(random.random)"
   ]
  },
  {
   "cell_type": "markdown",
   "metadata": {},
   "source": [
    "Da notare: usando lo stesso *seed* la sequenza è riproducibile.\n",
    "\n",
    "Se non si inizializza il *seed*, viene inizializzato dall'orario di sistema."
   ]
  },
  {
   "cell_type": "code",
   "execution_count": 2,
   "metadata": {},
   "outputs": [],
   "source": [
    "random.seed(12345)"
   ]
  },
  {
   "cell_type": "code",
   "execution_count": 3,
   "metadata": {},
   "outputs": [
    {
     "name": "stdout",
     "output_type": "stream",
     "text": [
      "0.41661987254534116\n",
      "0.010169169457068361\n",
      "0.8252065092537432\n",
      "0.2986398551995928\n",
      "0.3684116894884757\n",
      "0.19366134904507426\n",
      "0.5660081687288613\n",
      "0.1616878239293682\n",
      "0.12426688428353017\n",
      "0.4329362680099159\n"
     ]
    }
   ],
   "source": [
    "for i in range(10):\n",
    "    print(random.random())"
   ]
  },
  {
   "cell_type": "markdown",
   "metadata": {},
   "source": [
    "Per generare numeri casuali da un minimo $a$ ad un massimo $b$ basta:\n",
    "* generare un numero casuale con ```random.random()```\n",
    "* moltiplicare per $b-a$\n",
    "* sommare $a$\n",
    "Il risultato sarà compreso in $[a,\\,b)$"
   ]
  },
  {
   "cell_type": "code",
   "execution_count": 4,
   "metadata": {},
   "outputs": [
    {
     "name": "stdout",
     "output_type": "stream",
     "text": [
      "0.24831395230337172\n",
      "-1.3026257571050728\n",
      "0.21288434227731923\n",
      "-0.5803944546536051\n",
      "1.8322591403981945\n",
      "-1.6348236044930595\n",
      "1.9145599822816401\n",
      "-0.351522428242796\n",
      "0.015741472440149895\n",
      "-1.4074153242792433\n"
     ]
    }
   ],
   "source": [
    "def rnd_ab(a, b):\n",
    "    return a+(b-a)*random.random()\n",
    "for i in range(10):\n",
    "    print(rnd_ab(-2,2))"
   ]
  },
  {
   "cell_type": "markdown",
   "metadata": {},
   "source": [
    "...ma questa funzionalità si ottiene dando $a$ e $b$ come argomenti della funzione ```random```:"
   ]
  },
  {
   "cell_type": "code",
   "execution_count": 5,
   "metadata": {},
   "outputs": [
    {
     "name": "stdout",
     "output_type": "stream",
     "text": [
      "0.8758685612035402\n",
      "-1.2401144851127186\n",
      "-0.6337582969057913\n",
      "-1.9059151274311978\n",
      "-0.6419289104083172\n",
      "1.8699298355194856\n",
      "1.9151938167426272\n",
      "0.9781201605641385\n",
      "-1.9861815569796177\n",
      "1.7609540123909713\n"
     ]
    }
   ],
   "source": [
    "for i in range(10):\n",
    "    print(random.uniform(-2,2))"
   ]
  },
  {
   "cell_type": "markdown",
   "metadata": {},
   "source": [
    "... a questo punto, abbiamo degli strumenti per generare numeri casuali e simulare, quindi, i risultati di un esperimento.\n",
    "\n",
    "Però, dobbiamo definire meglio cosa significa:\n",
    "* Probabilità\n",
    "* Distrubuzione di probabilità"
   ]
  },
  {
   "cell_type": "markdown",
   "metadata": {},
   "source": [
    "# Spunti per esercizi\n",
    "\n",
    "Generare grafici delle distribuzioni d numeri casuali generati con il modulo ```random```:\n",
    "1. uniformi tra 0 e 1, come dalla funzione ```random()```\n",
    "* uniformi tra due valori $a$ e $b$, come indicato sopra\n",
    "* graficare la distribuzione di $x^2$, dove $x$ è un numero random uniformemente distribuito oppure di $e^x$ o $\\mathrm{log}(x)$ o $1/x$"
   ]
  },
  {
   "cell_type": "code",
   "execution_count": null,
   "metadata": {},
   "outputs": [],
   "source": []
  }
 ],
 "metadata": {
  "kernelspec": {
   "display_name": "Python 3",
   "language": "python",
   "name": "python3"
  },
  "language_info": {
   "codemirror_mode": {
    "name": "ipython",
    "version": 3
   },
   "file_extension": ".py",
   "mimetype": "text/x-python",
   "name": "python",
   "nbconvert_exporter": "python",
   "pygments_lexer": "ipython3",
   "version": "3.7.3"
  }
 },
 "nbformat": 4,
 "nbformat_minor": 4
}
