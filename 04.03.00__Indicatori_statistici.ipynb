{
 "cells": [
  {
   "cell_type": "markdown",
   "metadata": {},
   "source": [
    "# Indicatori statistici\n",
    "\n",
    "Gli indicatori statistici sono delle funzioni di un campione di dati che ne esprimono, in maniera sintetica, alcune proprietà.\n",
    "\n",
    "In questa sezione definiremo gli indicatori per un campione finito di dati. Sarà possibile estendere queste definizioni a distribuzioni di probabilità, sia discrete che continue, nel seguito.\n",
    "\n",
    "Assumiamo di seguito di avere un campione di valori $\\{x_1, \\cdots, x_n\\}$."
   ]
  },
  {
   "cell_type": "markdown",
   "metadata": {},
   "source": [
    "## Media\n",
    "\n",
    "La media aritmetia di un campione $\\{x_1, \\cdots, x_n\\}$ è definita come:\n",
    "\n",
    "$\\displaystyle \\bar{x} = \\frac{1}{n}\\sum_{i=1}^n x_i$"
   ]
  },
  {
   "cell_type": "markdown",
   "metadata": {},
   "source": [
    "Ricaviamo l'età media dei passeggeri del Titanic:"
   ]
  },
  {
   "cell_type": "code",
   "execution_count": 1,
   "metadata": {},
   "outputs": [],
   "source": [
    "import pandas as pd\n",
    "import numpy as np\n",
    "import math\n",
    "df = pd.read_csv('data/titanic passenger list.csv')"
   ]
  },
  {
   "cell_type": "code",
   "execution_count": 2,
   "metadata": {},
   "outputs": [
    {
     "data": {
      "text/plain": [
       "29.881137667304014"
      ]
     },
     "execution_count": 2,
     "metadata": {},
     "output_type": "execute_result"
    }
   ],
   "source": [
    "df['age'].mean()"
   ]
  },
  {
   "cell_type": "markdown",
   "metadata": {},
   "source": [
    "La media di una funzione di $x$, $f(x)$, si definisce allo stesso modo, come la media del campione $\\{f(x_1), \\cdots, f(x_n)\\}$:\n",
    "    \n",
    "$\\displaystyle \\overline{f(x)} = \\frac{1}{n}\\sum_{i=1}^n f(x_i)$"
   ]
  },
  {
   "cell_type": "code",
   "execution_count": 3,
   "metadata": {},
   "outputs": [
    {
     "data": {
      "text/plain": [
       "1100.4325622370939"
      ]
     },
     "execution_count": 3,
     "metadata": {},
     "output_type": "execute_result"
    }
   ],
   "source": [
    "(df['age']**2).mean()"
   ]
  },
  {
   "cell_type": "markdown",
   "metadata": {},
   "source": [
    "## Mediana\n",
    "\n",
    "La mediana è il valore che divide a metà un campione $\\{x_1, \\cdots, x_n\\}$. Se $n$ è dispari, la mediana è definita come $x_{(n+1)/2}$, altrimenti vale $\\frac{1}{2}(x_{n/2}+x_{n/2+1})$.\n"
   ]
  },
  {
   "cell_type": "markdown",
   "metadata": {},
   "source": [
    "Ricaviamo la mediana delle età dei passeggeri del Titanic:"
   ]
  },
  {
   "cell_type": "code",
   "execution_count": 4,
   "metadata": {},
   "outputs": [
    {
     "data": {
      "text/plain": [
       "28.0"
      ]
     },
     "execution_count": 4,
     "metadata": {},
     "output_type": "execute_result"
    }
   ],
   "source": [
    "df['age'].median()"
   ]
  },
  {
   "cell_type": "markdown",
   "metadata": {},
   "source": [
    "## Moda \n",
    "\n",
    "La moda è il valore più frequente. In caso di più valori con la stessa frequenza massima, si parla di campione *multimodale*."
   ]
  },
  {
   "cell_type": "code",
   "execution_count": 5,
   "metadata": {},
   "outputs": [
    {
     "data": {
      "text/plain": [
       "0    24.0\n",
       "dtype: float64"
      ]
     },
     "execution_count": 5,
     "metadata": {},
     "output_type": "execute_result"
    }
   ],
   "source": [
    "df['age'].mode()"
   ]
  },
  {
   "cell_type": "markdown",
   "metadata": {},
   "source": [
    "In caso di più valori con la stessa frequenza massima, saranno tutti riprotati. Di seguito, si estrae il primo valore."
   ]
  },
  {
   "cell_type": "code",
   "execution_count": 6,
   "metadata": {},
   "outputs": [
    {
     "data": {
      "text/plain": [
       "24.0"
      ]
     },
     "execution_count": 6,
     "metadata": {},
     "output_type": "execute_result"
    }
   ],
   "source": [
    "df['age'].mode().values[0]"
   ]
  },
  {
   "cell_type": "markdown",
   "metadata": {},
   "source": [
    "## Deviazione standard\n",
    "\n",
    "Indica quanto è grande la dispersione del campione intorno alla media $\\bar{x}$. È definito come:\n",
    "\n",
    "$\\displaystyle \\sigma_x = \\sqrt{\\frac{1}{n}\\sum_{i=1}^n(x_i - \\bar{x})^2}$\n",
    "\n",
    "La somma sotto radice si può sviluppare, ottenendo:\n",
    "\n",
    "$\\displaystyle \\frac{1}{n}\\sum_{i=1}^n(x_i - \\bar{x})^2 = \\frac{1}{n}\\sum_{i=1}^n(x_i^2 - 2\\bar{x}x_i + \\bar{x}^2) = \\frac{1}{n}\\sum_{i=1}^nx_i^2 - 2\\bar{x}\\frac{1}{n}\\sum_{i=1}^nx_i + \\bar{x}^2 = $\n",
    "\n",
    "Quindi:\n",
    "\n",
    "$\\displaystyle \\sigma_x = \\sqrt{\\overline{x^2} - \\bar{x}^2}$\n"
   ]
  },
  {
   "cell_type": "markdown",
   "metadata": {},
   "source": [
    "Calcoliamo la deviazione standard delle età dei passaggeri del Titanic:"
   ]
  },
  {
   "cell_type": "code",
   "execution_count": 14,
   "metadata": {},
   "outputs": [
    {
     "data": {
      "text/plain": [
       "14.413493211271321"
      ]
     },
     "execution_count": 14,
     "metadata": {},
     "output_type": "execute_result"
    }
   ],
   "source": [
    "df['age'].std()"
   ]
  },
  {
   "cell_type": "code",
   "execution_count": 13,
   "metadata": {},
   "outputs": [
    {
     "data": {
      "text/plain": [
       "14.406601748667834"
      ]
     },
     "execution_count": 13,
     "metadata": {},
     "output_type": "execute_result"
    }
   ],
   "source": [
    "math.sqrt((df['age']**2).mean()-(df['age'].mean())**2)"
   ]
  },
  {
   "cell_type": "markdown",
   "metadata": {},
   "source": [
    "La lieve differenza viene spiegata dal fatto che spesso si preferisce definire la deviazione standard utilizzando $n-1$ al denominatore. La motivazione sarà più chiara nel seguito.\n",
    "\n",
    "$\\displaystyle \\sigma_x = \\sqrt{\\frac{1}{n-1}\\sum_{i=1}^n(x_i - \\bar{x})^2}$\n",
    "\n",
    "In pandas si può usare il parametro ```ddof``` che indica quanto sottrarre ad $n$ nel denominatore. Di default ```ddof``` vale 1. Ponendolo a zero si ottiene la definizione che usa $n$ al denominatore. Se usiamo un valore $k$, al denominatore sotto radice verrà usato $n-k$ anziché $n$.\n"
   ]
  },
  {
   "cell_type": "code",
   "execution_count": 16,
   "metadata": {},
   "outputs": [
    {
     "data": {
      "text/plain": [
       "14.406601748667825"
      ]
     },
     "execution_count": 16,
     "metadata": {},
     "output_type": "execute_result"
    }
   ],
   "source": [
    "df['age'].std(ddof=0)"
   ]
  },
  {
   "cell_type": "markdown",
   "metadata": {},
   "source": [
    "## Altri indicatori\n",
    "\n",
    "Esistono altri indicatori che misurano altre proprietà dei capioni. Ad esempio, la *skewness*  misura quanto il campione è distribuito asimmetricamente intorno al valor medio $\\bar{x}$, spesso definita come segue, oppure con variazioni sul tema:\n",
    "\n",
    "$\\displaystyle g_1=\\frac{\\frac{1}{n}\\sum_{i=1}^n(x_i-\\bar{x})^3}{\\left[\\frac{1}{n}\\sum_{i=1}^n(x_i - \\bar{x})^2\\right]^{3/2}},\\,\\,\\, \n",
    " b_1=\\frac{\\frac{1}{n-2}\\sum_{i=1}^n(x_i-\\bar{x})^3}{\\left[\\frac{1}{n-1}\\sum_{i=1}^n(x_i - \\bar{x})^2\\right]^{3/2}}$\n",
    "\n",
    "$g_1$ vale zero se la distribuzione è simmetrica.\n",
    "\n",
    "A volte viene anche usata la *kurtosis*, definita a partire dal valor medio di $(x_i-\\bar{x})^4$, ma non la useremo in questo corso."
   ]
  },
  {
   "cell_type": "code",
   "execution_count": 28,
   "metadata": {},
   "outputs": [
    {
     "data": {
      "text/plain": [
       "0.4076745597436226"
      ]
     },
     "execution_count": 28,
     "metadata": {},
     "output_type": "execute_result"
    }
   ],
   "source": [
    "df['age'].skew()"
   ]
  },
  {
   "cell_type": "markdown",
   "metadata": {},
   "source": [
    "<span style=\"color:blue\">Quale sia la definizione usata in una libreria potrebbe non essere ovvio. Conviene, di volta in volta, verificare quali siano le definizioni matematiche dietro le definizioni delle funzioni di libreria.</span>\n",
    "\n",
    "\n",
    "<span style=\"color:blue\">Per esempio [questa](https://github.com/scipy/scipy/blob/v1.6.1/scipy/stats/stats.py#L1147-L1247) è l'implementazione della funzione ```skew``` di ```numpy```. Nella documentazione del codice troviamo:</span>\n",
    "\n",
    "*The sample skewness is computed as the Fisher-Pearson coefficient of skewness, i.e.*\n",
    "\n",
    "$\\displaystyle g_1=\\frac{m_3}{m_2^{3/2}}$\n",
    "\n",
    "*where*\n",
    "\n",
    "$\\displaystyle m_i=\\frac{1}{N}\\sum_{n=1}^N(x_n-\\bar{x})^i$\n",
    "\n",
    "*is the biased sample $i^\\texttt{th}$ central moment, and $\\bar{x}$ is\n",
    "the sample mean.  If ``bias`` is False, the calculations are\n",
    "corrected for bias and the value computed is the adjusted\n",
    "Fisher-Pearson standardized moment coefficient, i.e.:*\n",
    "\n",
    "$\\displaystyle        G_1=\\frac{k_3}{k_2^{3/2}}=\n",
    "            \\frac{\\sqrt{N(N-1)}}{N-2}\\frac{m_3}{m_2^{3/2}}$\n",
    "            \n",
    "#### References\n",
    "[1] Zwillinger, D. and Kokoska, S. (2000). CRC Standard\n",
    "Probability and Statistics Tables and Formulae. Chapman & Hall: New\n",
    "York. 2000.\n",
    "Section 2.2.24.1\n"
   ]
  },
  {
   "cell_type": "markdown",
   "metadata": {},
   "source": [
    "<hr>\n",
    "\n",
    "# Indicatori per distribuzioni di probabilità discrete\n",
    "\n",
    "Si possono definire una serie di indicatori legati alle distribuzioni di probabilità. Lo faremo ora per le distribuzioni di probabilità discrete finora considerate. Di seguito, si estenderanno queste definizioni ai casi continui."
   ]
  },
  {
   "cell_type": "markdown",
   "metadata": {},
   "source": [
    "## Valore atteso\n",
    "\n",
    "$\\displaystyle \\mathbb{E}[x] = \\sum_x x P(x)$\n",
    "\n",
    "Viene anche usata la notazione $\\left< x\\right>$ che ha similitudini con le notazioni usate in meccanica quantistica.\n",
    "\n",
    "Ad esempio, nel caso del lancio dei dadi, con $x=1, \\cdots, 6$ e $P(x)=1/6$, abbiamo:\n",
    "\n",
    "$\\displaystyle \\mathbb{E}[x] = \\sum_{x=1}^6 \\frac{1}{6} x = \\frac{1+\\cdots+6}{6}=\\frac{21}{6}=3.5$"
   ]
  },
  {
   "cell_type": "markdown",
   "metadata": {},
   "source": [
    "## Varianza\n",
    "\n",
    "$\\displaystyle \\mathbb{V}\\mathrm{ar}[x] = \\mathbb{E}[(x-\\mathbb{E}[x])^2]$\n",
    "\n",
    "Per il lancio dei dadi:\n",
    "\n",
    "$\\displaystyle \\mathbb{V}\\mathrm{ar}[x] = \\sum_{x=1}^6\\frac{1}{6}(x-3.5)^2 =\n",
    "\\frac{2(2.5^2+1.5^2+0.5^2)}{6}=\\frac{6.25+2.25+0.25}{3}=\\frac{8.75}{3}=2.916666667...$\n"
   ]
  },
  {
   "cell_type": "markdown",
   "metadata": {},
   "source": [
    "## Deviazione standard\n",
    "\n",
    "$\\displaystyle \\sigma_x = \\sqrt{\\mathbb{V}\\mathrm{ar}[x]}$\n",
    "\n",
    "Per il lancio dei dadi:\n",
    "\n",
    "$\\displaystyle \\sigma_x = \\sqrt{2.916666667...}=1.7078251...$"
   ]
  },
  {
   "cell_type": "code",
   "execution_count": 17,
   "metadata": {},
   "outputs": [
    {
     "name": "stdout",
     "output_type": "stream",
     "text": [
      "mean: 3.5\n",
      "variance: 2.9166666666666665\n",
      "std. dev.: 1.707825127659933\n"
     ]
    }
   ],
   "source": [
    "dice=np.array([1, 2, 3, 4, 5, 6])\n",
    "print(\"mean:\", dice.mean())\n",
    "print(\"variance:\", dice.var())\n",
    "print(\"std. dev.:\", dice.std())"
   ]
  },
  {
   "cell_type": "markdown",
   "metadata": {},
   "source": [
    "# Linearità\n",
    "\n",
    "Valore atteso e varianza sono lineari, si può dimostrare che:\n",
    "\n",
    "$\\mathbb{E}[x+y] = \\mathbb{E}[x]+\\mathbb{E}[y]$\n",
    "\n",
    "(la dimostrazione richiede elementi che saranno visti nelle prossime lezioni).\n",
    "\n",
    "Se $x$ e $y$ sono indipendenti:\n",
    "\n",
    "$\\mathbb{V}\\mathrm{ar}[x+y] = \\mathbb{V}\\mathrm{ar}[x]+\\mathbb{V}\\mathrm{ar}[y]$\n",
    "\n",
    "Di conseguenza, la deviazione standard non è lineare. Ma, dalla linearità della varianza, deriva che le deviazioni standard si sommano *in quadratura*:\n",
    "\n",
    "$\\sigma_{x+y}^2 = \\sigma_{x}^2+\\sigma_{y}^2$\n",
    "\n",
    "ossia:\n",
    "\n",
    "$\\sigma_{x+y} = \\sqrt{\\sigma_{x}^2+\\sigma_{y}^2}$\n",
    "\n",
    "Inoltre:\n",
    "\n",
    "$\\mathbb{E}[\\alpha\\,x] = \\alpha\\,\\mathbb{E}[x]$\n",
    "\n",
    "$\\mathbb{V}\\mathrm{ar}[\\alpha\\,x] = \\alpha^2\\,\\mathbb{V}\\mathrm{ar}[x]$\n",
    "\n",
    "$\\sigma_{\\alpha\\,x} = |\\alpha|\\,\\sigma_x$\n",
    "\n",
    "In particolare, se:\n",
    "\n",
    "$\\displaystyle \\bar{x} = \\frac{1}{N}\\sum_{i=1}^N x_i$\n",
    "\n",
    "e per ogni $i$ $\\mathbb{E}[x_i]=\\mu$ e $\\mathbb{V}\\mathrm{ar}[x_i] =\\sigma^2$, abbiamo che:\n",
    "\n",
    "$\\mathbb{E}[\\bar{x}] = \\mu$\n",
    "\n",
    "$\\displaystyle\\mathbb{V}\\mathrm{ar}[\\bar{x}] = \\frac{\\sigma^2}{N}$\n",
    "\n",
    "$\\displaystyle\\sigma_{\\bar{x}} = \\frac{\\sigma}{\\sqrt{N}}$"
   ]
  },
  {
   "cell_type": "markdown",
   "metadata": {},
   "source": [
    "# Variabile di Bernoulli\n",
    "\n",
    "Per una variabile di Bernoulli $x$, abbiamo due possibili valori: $x=0, 1$ con probabilità $P(0)=1-p$, $P(1)=p$. Quindi abbiamo:\n",
    "\n",
    "$\\mathbb{E}[x] = 0\\cdot P(0) + 1\\cdot P(1) = p$\n",
    "\n",
    "$\\mathbb{V}\\mathrm{ar}[x] = (0-p)^2\\cdot P(0) + (1-p)^2\\cdot P(1) = p^2(1-p)+(1-p)^2p = p(1-p)$\n",
    "\n",
    "$\\sigma_x = \\sqrt{p(1-p)}$"
   ]
  },
  {
   "cell_type": "code",
   "execution_count": 18,
   "metadata": {},
   "outputs": [
    {
     "name": "stdout",
     "output_type": "stream",
     "text": [
      "mean: 0.3\n",
      "variance: 0.21\n",
      "std. dev.: 0.458257569495584\n"
     ]
    }
   ],
   "source": [
    "from scipy.stats import bernoulli\n",
    "p = 0.3\n",
    "print(\"mean:\", bernoulli.mean(p))\n",
    "print(\"variance:\", bernoulli.var(p))\n",
    "print(\"std. dev.:\", bernoulli.std(p))"
   ]
  },
  {
   "cell_type": "markdown",
   "metadata": {},
   "source": [
    "# Variabile Binomiale\n",
    "\n",
    "Una variabile binomiale $x$ caratterizzata da un numero di prove $n$ ed una probabilità individuale di successo $p$, è la somma di $N$ variabili di Bernoulli. Per la linearità del valore atteso e della varianza, abbiamo:\n",
    "\n",
    "$\\mathbb{E}[x] = Np$\n",
    "\n",
    "$\\mathbb{V}\\mathrm{ar}[x] = Np\\,(1-p)$\n",
    "\n",
    "$\\sigma_x = \\sqrt{Np\\,(1-p)}$\n"
   ]
  },
  {
   "cell_type": "code",
   "execution_count": 19,
   "metadata": {},
   "outputs": [
    {
     "name": "stdout",
     "output_type": "stream",
     "text": [
      "mean: 3.0\n",
      "variance: 2.0999999999999996\n",
      "std. dev.: 1.4491376746189437\n"
     ]
    }
   ],
   "source": [
    "from scipy.stats import binom\n",
    "n, p = 10, 0.3\n",
    "print(\"mean:\", binom.mean(n, p))\n",
    "print(\"variance:\", binom.var(n, p))\n",
    "print(\"std. dev.:\", binom.std(n, p))"
   ]
  },
  {
   "cell_type": "markdown",
   "metadata": {},
   "source": [
    "# Variabile di Poisson\n",
    "\n",
    "Una variabile di Poisson $x$ si ottiene da una variabile binomiale nel limite per $p\\rightarrow 0$, $N\\rightarrow\\infty$ con rapporto $Np=\\nu$.\n",
    "\n",
    "Si ottiene quindi facilmente:\n",
    "\n",
    "$\\mathbb{E}[x] = \\nu$\n",
    "\n",
    "$\\mathbb{V}\\mathrm{ar}[x] = \\nu$\n",
    "\n",
    "$\\sigma_x = \\sqrt{\\nu}$\n"
   ]
  },
  {
   "cell_type": "code",
   "execution_count": 20,
   "metadata": {},
   "outputs": [
    {
     "name": "stdout",
     "output_type": "stream",
     "text": [
      "mean: 3.5\n",
      "variance: 3.5\n",
      "std. dev.: 1.8708286933869707\n"
     ]
    }
   ],
   "source": [
    "from scipy.stats import poisson\n",
    "nu = 3.5\n",
    "print(\"mean:\", poisson.mean(nu))\n",
    "print(\"variance:\", poisson.var(nu))\n",
    "print(\"std. dev.:\", poisson.std(nu))"
   ]
  },
  {
   "cell_type": "markdown",
   "metadata": {},
   "source": [
    "## Correlazione\n",
    "\n",
    "Per distribuzioni a due o più variabili, oltre che alla varianza di ciascuna variabile, si definisce la **covarianza** di due variabili come:\n",
    "\n",
    "$\\mathbb{C}\\mathrm{ov}(x, y) = \\mathbb{E}[x y] - \\mathbb{E}[x] \\mathbb{E}[y]$\n",
    "\n",
    "Il coefficiente di correlazione si definisce come:\n",
    "\n",
    "$\\displaystyle \\rho_{xy} = \\frac{\\mathbb{C}\\mathrm{ov}(x, y)}{\\sigma_x\\,\\sigma_y}$\n",
    "\n",
    "Per costruzione, si dimostra che $0\\le \\rho_{xy} \\le 1$.\n",
    "\n",
    "Si dimostra anche che:\n",
    "\n",
    "$\\mathbb{V}\\mathrm{ar}[x+y] = \\mathbb{V}\\mathrm{ar}[x] + \\mathbb{V}\\mathrm{ar}[y] + 2\\,\\mathbb{C}\\mathrm{ov}(x, y)$\n"
   ]
  }
 ],
 "metadata": {
  "kernelspec": {
   "display_name": "Python 3",
   "language": "python",
   "name": "python3"
  },
  "language_info": {
   "codemirror_mode": {
    "name": "ipython",
    "version": 3
   },
   "file_extension": ".py",
   "mimetype": "text/x-python",
   "name": "python",
   "nbconvert_exporter": "python",
   "pygments_lexer": "ipython3",
   "version": "3.7.3"
  }
 },
 "nbformat": 4,
 "nbformat_minor": 4
}
