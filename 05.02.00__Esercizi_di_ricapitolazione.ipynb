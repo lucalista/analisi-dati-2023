{
 "cells": [
  {
   "cell_type": "markdown",
   "metadata": {},
   "source": [
    "# Esercizi di ricapitolazione"
   ]
  },
  {
   "cell_type": "markdown",
   "metadata": {},
   "source": [
    "1. In un anno si stima che circa 17000 meteoriti colpiscano la terra con una massa da qualche grammo a mezzo chilo[*] . Calcolare la probabilità che entro vent'anni cada almeno un meteorite sul terrazzo di copertura di un edificio. Assumere una superficie di 300 metri quadri.\n",
    "\n",
    "$[*]$ [Meteorites on Earth: how many fall per year and why don't we see them?](https://www.iberdrola.com/innovation/meteorites-earth)"
   ]
  },
  {
   "cell_type": "markdown",
   "metadata": {},
   "source": [
    "**Solutione:**\n",
    "\n",
    "La probabilità che un meteorite che arriva sulla Terra arrivi sul terrazzo è:\n",
    "\n",
    "$p = S_t/S_T$\n",
    "\n",
    "Dove $S_T= 510.065.285\\mathrm{km}^2$ e $S_t=300\\mathrm{m}^2$.\n",
    "\n",
    "Quindi $p=5.88\\times 10^{-13}$.\n",
    "\n",
    "In vent'anni arrivano sulla Terra **in media** $\\nu_T = 17.000\\times 20 = 3.4\\times 10^{5}$, quindi\n",
    "sul terrazzo ne arrivano $\\nu_t=p \\nu_T = 2\\times 10^{-7}$\n",
    "\n",
    "Il numero di meteoriti che arriva sul terrazzo $n_t$ segue la distribuzione di Poisson con parametro $\\nu_t$.\n",
    "\n",
    "La probabilità che ne arrivi almeno uno, $P(n_t\\ge 1)$ è uguale a $1 - P(n_t=0)$.\n",
    "\n",
    "Quindi è pari a $P(n_t\\ge 1)= 1-e^{-\\nu_t}\\simeq 1 - (1 - \\nu_t + \\nu_t^2/2 + \\cdots)\\simeq \\nu_t = 2\\times 10^{-7}$.\n",
    "\n",
    "Attenzione: l'articolo stima che 17.000 meteriti non sono quelli che raggiungono il livello del mare, ma molti si disintegrano nell'atmosfera!"
   ]
  },
  {
   "cell_type": "markdown",
   "metadata": {},
   "source": [
    "2. in un prato cadono 25mm di pioggia, che vengono misurati con un pluviometro che ha una base di 10cm$^2$. Calcolare la varianza e la deviazione standard della misura, assumendo che le gocce di pioggia abbiano tutte un volume di 0.1ml[*]\n",
    "\n",
    "$[*]$ [Rain drop size and speed of a falling rain drop](https://www.baranidesign.com/faq-articles/2020/1/19/rain-drop-size-and-speed-of-a-falling-rain-drop)"
   ]
  },
  {
   "cell_type": "markdown",
   "metadata": {},
   "source": [
    "**Soluzione:**\n",
    "\n",
    "Il numero di gocce assumo *approssimativamente* il rapporto tra il volume misurato e il volume di una goccia.\n",
    "\n",
    "Il volume $V$ è $25\\mathrm{cm}^3 = 25\\mathrm{ml}$.\n",
    "\n",
    "Il numero di gocce *osservate* è $n = V/v = 25/0.1 = 250$.\n",
    "\n",
    "$\\nu$ **non lo conosco**, ma posso *stimarlo* come $\\nu\\simeq n$. In questa approssimazione la varianza è $\\sigma_n^2 = \\nu$ e quindi $\\sigma_n = \\sqrt{250} \\simeq 16$. La mia stima è quindi:\n",
    "\n",
    "$\\nu = 250 \\pm 16$ che corrisponde a:\n",
    "\n",
    "$h = (25.0 \\pm 1.6)\\mathrm{mm}$.\n",
    "\n",
    "L'**errore relativo** è $\\sigma_n/n = 1/\\sqrt{n} = 6.4\\%$"
   ]
  },
  {
   "cell_type": "markdown",
   "metadata": {},
   "source": [
    "3. in Italia ad una certa data del 2022 c'erano 50.701.722 persone vaccinate con almeno due dosi contro il Sars-Cov-2 su una popolazione di circa 59.816.673 abitanti. Il 56% delle persone in terapia intensiva risultava vaccinata con almeno due dosi. Calcolare il rischio relativo di andare in terapia infettiva per vaccinati e non."
   ]
  },
  {
   "cell_type": "markdown",
   "metadata": {},
   "source": [
    "**Soluzione:**\n",
    "..."
   ]
  },
  {
   "cell_type": "markdown",
   "metadata": {},
   "source": [
    "4. un campo di calcio regolamentare in una zona di guerra misura 105$\\times$68m$^2$, ed è noto che nasconde nel suo sottosuolo un bunker di circa 100m$^2$. L'aviazione sa che per distriggere il bunker deve essere colpito da almeno tre missili. Calcolare quanti missili vanno lanciati sul campo di calcio in modo da avere almeno il 90% di probabilità di distruggere il bunker. Per semplicità si considerino le aree di impatto dei missili come puntiformi, anche se questa ipotesi è chiaramente irrealistica."
   ]
  },
  {
   "cell_type": "markdown",
   "metadata": {},
   "source": [
    "**Soluzione:**\n",
    "..."
   ]
  },
  {
   "cell_type": "markdown",
   "metadata": {},
   "source": [
    "5. In una città gli autobus partono ad orari a caso anziché secondo un orario regolare. In un'ora passano 3 autobus, in media. Calcolare la probabilità che entro 5 minuti successivi al passaggio di un autobus ne passi almeno un altro."
   ]
  },
  {
   "cell_type": "markdown",
   "metadata": {},
   "source": [
    "**Soluzione:**\n",
    "..."
   ]
  },
  {
   "cell_type": "markdown",
   "metadata": {},
   "source": [
    "6. si vuole misurare l'efficienza di un rivelatore contando le particelle che vengono rivelate. Assumendo che l'efficienza sia vicina al 90%, calcolare quante particelle vanno acquisite in modo da avere una deviazione standard del valore misurto intorno all'1%."
   ]
  },
  {
   "cell_type": "markdown",
   "metadata": {},
   "source": [
    "**Soluzione:**\n",
    "..."
   ]
  },
  {
   "cell_type": "markdown",
   "metadata": {},
   "source": [
    "7. si vuole misurare l'intensità dei fasci di un collider di elettroni e positroni[*] contando in numero di coppie elettrone-positrone prodotti attravreso un rivelatore posto a piccolo angolo. In un anno vengono acquisti 123456 eventi di questo tipo. Stimare l'incertezza relativa nella misura di intensità come rapporto tra deviazione standard e valore atteso.\n",
    "\n",
    "$[*]$ tecnicamente, questa si chiama misura di *luminosità integrata*"
   ]
  },
  {
   "cell_type": "markdown",
   "metadata": {},
   "source": [
    "**Soluzione:**\n",
    "..."
   ]
  },
  {
   "cell_type": "markdown",
   "metadata": {},
   "source": [
    "8. Ad una certa data, in Italia 1.200.000 persone erano infette (e in isolamneto) da Covid-19. Assumendo che altrettante persone siano infette e circolassero tranquillamente senza sapere di essere infetti. In un treno ci sono 200 persone. Trovare la probabilità che almeno 4 siano infette."
   ]
  },
  {
   "cell_type": "markdown",
   "metadata": {},
   "source": [
    "**Soluzione:**\n",
    "..."
   ]
  },
  {
   "cell_type": "markdown",
   "metadata": {},
   "source": [
    "9. Un rivelatore posto in un esperimento su un acceleratore è attraversato da 100 particelle in media per ogni collissione registrata. Considerando che il sistema di acquisizione riesce ad acquisire segnali di 150 particelle contemporaneamente, al massimo, calcolare la frazione di collisioni per la quale il sistema di aquisizione va in \"saturazione\". Si assuma, per semplicità, che il numero di particelle che attraversa il rivelatore segua una distribuzione di Poisson, anche se questo non è necessariamente vero.\n",
    "\n",
    "$[*]$ questa frazione si chiama tecnicamente frazione di *tempo morto* del sistema di acquisizione."
   ]
  },
  {
   "cell_type": "markdown",
   "metadata": {},
   "source": [
    "**Soluzione:**\n",
    "..."
   ]
  },
  {
   "cell_type": "markdown",
   "metadata": {},
   "source": []
  }
 ],
 "metadata": {
  "kernelspec": {
   "display_name": "Python 3",
   "language": "python",
   "name": "python3"
  },
  "language_info": {
   "codemirror_mode": {
    "name": "ipython",
    "version": 3
   },
   "file_extension": ".py",
   "mimetype": "text/x-python",
   "name": "python",
   "nbconvert_exporter": "python",
   "pygments_lexer": "ipython3",
   "version": "3.7.3"
  }
 },
 "nbformat": 4,
 "nbformat_minor": 4
}
