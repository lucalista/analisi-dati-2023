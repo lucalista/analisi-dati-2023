{
 "cells": [
  {
   "cell_type": "markdown",
   "metadata": {},
   "source": [
    "# Esercizi di ricapitolazione"
   ]
  },
  {
   "cell_type": "markdown",
   "metadata": {},
   "source": [
    "1. in un prato cadono 25mm di pioggia, che vengono misurati con un pluviometro che ha una base di 10cm$^2$. Calcolare la varianza e la deviazione standard della misura, assumendo che le gocce di pioggia abbiano tutte un volume di 0.1ml[*]\n",
    "\n",
    "$[*]$ [Rain drop size and speed of a falling rain drop](https://www.baranidesign.com/faq-articles/2020/1/19/rain-drop-size-and-speed-of-a-falling-rain-drop)"
   ]
  },
  {
   "cell_type": "markdown",
   "metadata": {},
   "source": [
    "**Soluzione:**\n",
    "..."
   ]
  },
  {
   "cell_type": "markdown",
   "metadata": {},
   "source": [
    "2. in Italia ci sono 50.701.722 persone vaccinate con almeno due dosi contro il Sars-Cov-2 su una popolazione di circa 59.816.673 abitanti. Il 56% delle persone in terapia intensiva è vaccinata con almeno due dosi. Calcolare il rischio relativo di andare in terapia infettiva per vaccinati e non."
   ]
  },
  {
   "cell_type": "markdown",
   "metadata": {},
   "source": [
    "**Soluzione:**\n",
    "..."
   ]
  },
  {
   "cell_type": "markdown",
   "metadata": {},
   "source": [
    "3. un campo di calcio regolamentare in una zona di guerra misura 105$\\times$68m$^2$, ed è noto che nasconde nel suo sottosuolo un bunker di circa 100m$^2$. L'aviazione sa che per distriggere il bunker deve essere colpito da almeno tre missili. Calcolare quanti missili vanno lanciati sul campo di calcio in modo da avere almeno il 90% di probabilità di distruggere il bunker. Per semplicità si considerino le aree di impatto dei missili come puntiformi, anche se questa ipotesi è chiaramente irrealistica."
   ]
  },
  {
   "cell_type": "markdown",
   "metadata": {},
   "source": [
    "**Soluzione:**\n",
    "..."
   ]
  },
  {
   "cell_type": "markdown",
   "metadata": {},
   "source": [
    "4. In una città gli autobus partono ad orari a caso anziché secondo un orario regolare. In un'ora passano 3 autobus, in media. Calcolare la probabilità che entro 5 minuti successivi al passaggio di un autobus ne passi almeno un altro."
   ]
  },
  {
   "cell_type": "markdown",
   "metadata": {},
   "source": [
    "**Soluzione:**\n",
    "..."
   ]
  },
  {
   "cell_type": "markdown",
   "metadata": {},
   "source": [
    "5. si vuole misurare l'efficienza di un rivelatore contando le particelle che vengono rivelate. Assumendo che l'efficienza sia vicina al 90%, calcolare quante particelle vanno acquisite in modo da avere una incertezza sulla misura intorno all'1%."
   ]
  },
  {
   "cell_type": "markdown",
   "metadata": {},
   "source": [
    "**Soluzione:**\n",
    "..."
   ]
  },
  {
   "cell_type": "markdown",
   "metadata": {},
   "source": [
    "6. si vuole misurare l'intensità dei fasci di un collider di elettroni e positroni[*] contando in numero di coppie elettrone-positrone prodotti attravreso un rivelatore posto a piccolo angolo. In un anno vengono acquisti 123456 eventi di questo tipo. Calcolare l'incertezza relativa nella misura di intensità.\n",
    "\n",
    "$[*]$ tecnicamente, questa si chiama misura di *luminosità integrata*"
   ]
  },
  {
   "cell_type": "markdown",
   "metadata": {},
   "source": [
    "**Soluzione:**\n",
    "..."
   ]
  },
  {
   "cell_type": "markdown",
   "metadata": {},
   "source": [
    "7. attualmente, in Italia 1.200.000 persone sono infette (e in isolamneto) da Covid-19. Si assuma che altrettante persone sono infette e circolino tranquillamente senza sapere di essere infetti. In un treno ci sono 200 persone. Trovare la probabilità che almeno 4 siano infette."
   ]
  },
  {
   "cell_type": "markdown",
   "metadata": {},
   "source": [
    "**Soluzione:**\n",
    "..."
   ]
  },
  {
   "cell_type": "markdown",
   "metadata": {},
   "source": [
    "8. Un rivelatore posto in un esperimento su un acceleratore è attraversato da 100 particelle in media per ogni collissione registrata. Considerando che il sistema di acquisizione riesce ad acquisire segnali di 150 particelle contemporaneamente, al massimo, calcolare la frazione di collisioni per la quale il sistema di aquisizione va in \"saturazione\". Si assuma, per semplicità, che il numero di particelle che attraversa il rivelatore segua una distribuzione di Poisson, anche se questo non è necessariamente vero.\n",
    "\n",
    "$[*]$ questa frazione si chiama tecnicamente frazione di *tempo morto* del sistema di acquisizione."
   ]
  },
  {
   "cell_type": "markdown",
   "metadata": {},
   "source": [
    "**Soluzione:**\n",
    "..."
   ]
  },
  {
   "cell_type": "markdown",
   "metadata": {},
   "source": [
    "9. In un anno si stima che circa 17000 meteoriti colpiscano la terra con una massa da qualche grammo a mezzo chilo [[fonte](https://www.iberdrola.com/innovation/meteorites-earth)]. Calcolare la probabilità che entro vent'anni cada almeno un meteorite sul terrazzo di copertura di un edificio. Assumere una superficie di 300 metri quadri\n"
   ]
  },
  {
   "cell_type": "markdown",
   "metadata": {},
   "source": [
    "**Soluzione:**\n",
    "..."
   ]
  },
  {
   "cell_type": "code",
   "execution_count": null,
   "metadata": {},
   "outputs": [],
   "source": []
  }
 ],
 "metadata": {
  "kernelspec": {
   "display_name": "Python 3",
   "language": "python",
   "name": "python3"
  },
  "language_info": {
   "codemirror_mode": {
    "name": "ipython",
    "version": 3
   },
   "file_extension": ".py",
   "mimetype": "text/x-python",
   "name": "python",
   "nbconvert_exporter": "python",
   "pygments_lexer": "ipython3",
   "version": "3.7.3"
  }
 },
 "nbformat": 4,
 "nbformat_minor": 4
}
