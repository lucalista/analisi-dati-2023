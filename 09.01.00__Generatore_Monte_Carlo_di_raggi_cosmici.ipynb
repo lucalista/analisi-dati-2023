{
 "cells": [
  {
   "cell_type": "markdown",
   "metadata": {},
   "source": [
    "# Generatore Monte Carlo di raggi cosmici\n",
    "\n",
    "La distribuzione angolare dei raggi cosmici che raggiungono il suolo terresrre segue approssimativamente la legge $\\mathrm{d}P(\\theta,\\phi)/\\mathrm{d}\\Omega = k \\cos^2\\theta$ con $0\\leq\\theta<\\pi/2$.\n",
    "\n",
    "Il punto di impatto al suolo è uniformemente distribuito sulla superficie.\n",
    "\n",
    "* Scrivere un generatore di raggi cosmici distribuiti secondo questo modello.\n",
    "* Graficarne la distribuzione del punto di impatto e della direzione di provenienza.\n",
    "* Graficare un numero finito con l'utility di matplotlib [quiver](https://matplotlib.org/stable/api/_as_gen/matplotlib.pyplot.quiver.html)\n",
    "\n",
    "Opzionale:\n",
    "\n",
    "* Definire la geometria di un semplice telescopio, ad es.: fatto da due piani quadrati orizzontali posti ad una certa altezza tra di loro\n",
    "* Calcolare le intersezioni con i due piani di rivelatore dei raggi cosmici generati aventi punto di impatto sul piano di base\n",
    "* Calcolare l'accettanza geometrica del telescopio rispetto ai raggi cosmici che arrivano al rivelatore di base"
   ]
  },
  {
   "cell_type": "code",
   "execution_count": null,
   "metadata": {},
   "outputs": [],
   "source": []
  }
 ],
 "metadata": {
  "kernelspec": {
   "display_name": "Python 3",
   "language": "python",
   "name": "python3"
  },
  "language_info": {
   "codemirror_mode": {
    "name": "ipython",
    "version": 3
   },
   "file_extension": ".py",
   "mimetype": "text/x-python",
   "name": "python",
   "nbconvert_exporter": "python",
   "pygments_lexer": "ipython3",
   "version": "3.7.3"
  }
 },
 "nbformat": 4,
 "nbformat_minor": 4
}
