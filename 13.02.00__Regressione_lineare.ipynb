{
 "cells": [
  {
   "cell_type": "markdown",
   "metadata": {},
   "source": [
    "# Regressione lineare\n",
    "\n",
    "L'applicazione del metodo del minimo $\\chi^2$ è nel caso di una funzione $f$ lineare:\n",
    "\n",
    "$y=f(x;a,b) = a+b\\,x$\n",
    "\n",
    "dobbiamo minimizzare:\n",
    "\n",
    "$\\displaystyle \\chi^2(a,b) = -2\\log p = \\sum_{i=1}^N\\frac{(y_i-a-b\\,x_i)^2}{\\sigma_i^2} + \\text{const.}$\n",
    "\n",
    "L'equazione sopra è vera *a meno di un termine costante* che non contribuisce alla minimizzazione."
   ]
  },
  {
   "cell_type": "markdown",
   "metadata": {},
   "source": [
    "## Pesi\n",
    "\n",
    "Conviene definire i *persi* $w_i$:\n",
    "\n",
    "$\\displaystyle w_i = \\frac{1/\\sigma_i^2}{1/\\sigma^2}$\n",
    "\n",
    "dove a sua volta $\\sigma$ è definito da:\n",
    "\n",
    "$\\displaystyle \\frac{1}{\\sigma^2} = \\sum_{i=1}^N\\frac{1}{\\sigma_i^2}$\n",
    "\n",
    "Questa scelta garantisce che $\\sum_{i=1}^Nw_i=1$."
   ]
  },
  {
   "cell_type": "markdown",
   "metadata": {},
   "source": [
    "## Minimizzazione del $\\chi^2$\n",
    "\n",
    "Possiamo quindi scrivere:\n",
    "\n",
    "$\\displaystyle \\chi^2(a, b) = \\frac{1}{\\sigma^2}\\sum_{i=1}^Nw_i(y_i-a-b\\,x_i)^2$"
   ]
  },
  {
   "cell_type": "markdown",
   "metadata": {},
   "source": [
    "Si può trovare il minimo di $\\chi^2(a,b)$ in maniera analitica imponendo:\n",
    "\n",
    "$\\displaystyle \\frac{\\partial \\chi^2(a,b)}{\\partial a} = 0$\n",
    "\n",
    "$\\displaystyle \\frac{\\partial \\chi^2(a,b)}{\\partial b} = 0$"
   ]
  },
  {
   "cell_type": "markdown",
   "metadata": {},
   "source": [
    "Le derivate si possono scrivere come:\n",
    "\n",
    "$\\displaystyle \\frac{\\partial \\chi^2(a,b)}{\\partial a} = \\frac{1}{\\sigma^2}\\sum_{i=1}^Nw_i\\frac{\\partial}{\\partial a}(y_i-a-b\\,x_i)^2=\n",
    "-2 \\frac{1}{\\sigma^2}\\sum_{i=1}^Nw_i(y_i-a-b\\,x_i) = \n",
    "\\frac{2}{\\sigma^2}\\left(-\\sum_{i=1}^Nw_i y_i+a+b\\sum_{i=1}^Nw_ix_i\\right)\n",
    "$\n",
    "\n",
    "$\\displaystyle \\frac{\\partial \\chi^2(a,b)}{\\partial b} = \\frac{1}{\\sigma^2}\\sum_{i=1}^N w_i\\frac{\\partial}{\\partial b}(y_i-a-b\\,x_i)^2=\n",
    "-2 \\frac{1}{\\sigma^2}\\sum_{i=1}^Nw_i(y_i-a-b\\,x_i)x_i = \n",
    "\\frac{2}{\\sigma^2}\\left(-\\sum_{i=1}^Nw_i x_i y_i + a\\sum_{i=1}^Nw_ix_i+b\\sum_{i=1}^Nw_ix_i^2\\right)\n",
    "$"
   ]
  },
  {
   "cell_type": "markdown",
   "metadata": {},
   "source": [
    "Possiamo introdurre le *medie pesate* per le quantità $\\alpha_i$, che di volta in volta potranno essere $x_i$, $y_i$, $x_i y_i$, $x_i^2$, ecc.:\n",
    "\n",
    "$\\displaystyle \\left<\\alpha\\right> = \\sum_{i=1}^Nw_i\\alpha_i$"
   ]
  },
  {
   "cell_type": "markdown",
   "metadata": {},
   "source": [
    "Riscriviamo quindi:\n",
    "\n",
    "$\\displaystyle \\frac{\\partial \\chi^2(a,b)}{\\partial a} =\n",
    "\\frac{2}{\\sigma^2}\\left(-\\left<y\\right>+a+b\\left<x\\right>\\right)\n",
    "$\n",
    "\n",
    "$\\displaystyle \\frac{\\partial \\chi^2(a,b)}{\\partial b} = \n",
    "\\frac{2}{\\sigma^2}\\left(-\\left<x y\\right> + a\\left<x\\right>+b\\left<x^2\\right>\\right)\n",
    "$"
   ]
  },
  {
   "cell_type": "markdown",
   "metadata": {},
   "source": [
    "Uguagliando le derivate a zero, si ottiene quindi:\n",
    "\n",
    "$\\displaystyle \\left<y\\right> = a+b\\left<x\\right>$\n",
    "\n",
    "$\\displaystyle \\left<x y\\right> = a\\left<x\\right>  + b\\left<x^2\\right>$"
   ]
  },
  {
   "cell_type": "markdown",
   "metadata": {},
   "source": [
    "In forma matriciale:\n",
    "\n",
    "\n",
    "$\\displaystyle\n",
    "\\left(\\begin{array}{c}\\left<y\\right>\\\\\\left<xy\\right>\\end{array}\n",
    "\\right)=\n",
    "\\left(\\begin{array}{cc} \n",
    "1 & \\left<x\\right> \\\\\n",
    "\\left<x\\right>  & \\left<x^2\\right> \n",
    "\\end{array}\n",
    "\\right)\n",
    "\\left(\\begin{array}{c} a\\\\b\\end{array}\n",
    "\\right)\n",
    "$"
   ]
  },
  {
   "cell_type": "markdown",
   "metadata": {},
   "source": [
    "L'inversione dell'equazione matriciale dà:\n",
    "\n",
    "$\\displaystyle\n",
    "\\left(\\begin{array}{c} a\\\\b\\end{array}\n",
    "\\right)\n",
    "=\n",
    "\\left(\\begin{array}{cc} \n",
    "1 & \\left<x\\right> \\\\\n",
    "\\left<x\\right>  & \\left<x^2\\right> \n",
    "\\end{array}\n",
    "\\right)^{-1}\n",
    "\\left(\\begin{array}{c}\\left<y\\right>\\\\\\left<xy\\right>\\end{array}\n",
    "\\right)\n",
    "$"
   ]
  },
  {
   "cell_type": "markdown",
   "metadata": {},
   "source": [
    "Per calcolare l'inversione consideriamo che:\n",
    "\n",
    "$\\mathrm{det}\\left[C^{-1}\\right] = \\left<x^2\\right> - \\left<x\\right>^2 = \n",
    "\\left<(x - \\left<x\\right>)^2\\right> =\n",
    "\\mathbb{V}\\mathrm{ar}[x]$\n",
    "\n",
    "$\\displaystyle\\left(\\begin{array}{cc} \n",
    "1 & \\left<x\\right> \\\\\n",
    "\\left<x\\right>  & \\left<x^2\\right> \n",
    "\\end{array}\n",
    "\\right)^{-1}\n",
    "=\\frac{1}{\\mathbb{V}\\mathrm{ar}[x]}\n",
    "\\left(\n",
    "\\begin{array}{cc}\n",
    "\\left<x^2\\right> & -\\left<x\\right> \\\\\n",
    "-\\left<x\\right> & 1\n",
    "\\end{array}\n",
    "\\right)\n",
    "$"
   ]
  },
  {
   "cell_type": "markdown",
   "metadata": {},
   "source": [
    "Dopo qualche passaggio:\n",
    "\n",
    "$\\displaystyle b = \\hat{b} = \n",
    "\\frac{\\left<x y\\right>-\\left<x\\right>\\left<y\\right>}{\\mathbb{V}\\mathrm{ar}[x]} =\n",
    "\\frac{\\mathbb{C}\\mathrm{ov}(x, y)}{\\mathbb{V}\\mathrm{ar}[x]}$\n",
    "\n",
    "$a = \\hat{a} = \\left<y\\right> -\\hat{b}\\left<x\\right>$"
   ]
  },
  {
   "cell_type": "markdown",
   "metadata": {},
   "source": [
    "Formule equivalenti sono:\n",
    "\n",
    "$\\displaystyle\\hat{b} = \\frac{\\left<(x-\\left<x\\right>)(y-\\left<y\\right>)\\right>}{\\left<(x-\\left<x\\right>)^2\\right>} =\n",
    "\\frac{\\left<x y\\right>-\\left<x\\right>\\left<y\\right>}{\\left<x^2\\right>-\\left<x\\right>^2} =\n",
    "\\frac{\\mathbb{C}\\mathrm{ov}(x, y)}{\\sigma_x^2}\n",
    "$\n",
    "\n",
    "$\\displaystyle\\hat{a} = \\left<y\\right> - \\hat{b}\\left<x\\right>$"
   ]
  },
  {
   "cell_type": "markdown",
   "metadata": {},
   "source": [
    "## Stima degli errori con la matrice hessiana\n",
    "\n",
    "Gli errori si possono stimare come:\n",
    "\n",
    "$\\displaystyle  \\frac{1}{\\sigma_{\\hat{a}}^2} = -\\frac{\\partial^2 \\log L}{\\partial a^2} = \\frac{1}{2}\\frac{\\partial^2 \\chi^2}{\\partial a^2}$\n",
    "\n",
    "$\\displaystyle  \\frac{1}{\\sigma_{\\hat{b}}^2} = -\\frac{\\partial^2 \\log L}{\\partial b^2} = \\frac{1}{2}\\frac{\\partial^2 \\chi^2}{\\partial b^2}$\n",
    "\n",
    "Questi sono gli elementi diagonali della matrice di covarianza inversa, che ha come elemento non diagonale:\n",
    "\n",
    "$\\displaystyle  C_{ab}^{-1} = -\\frac{\\partial^2 \\log L}{\\partial a\\,\\partial b} = \\frac{1}{2}\\frac{\\partial^2 \\chi^2}{\\partial a\\,\\partial b}$"
   ]
  },
  {
   "cell_type": "markdown",
   "metadata": {},
   "source": [
    "Il calcolo delle derivate seconde si ottiene derivando le derivate prime, riportate di seguto per comodità:\n",
    "\n",
    "$\\displaystyle \\frac{\\partial \\chi^2(a,b)}{\\partial a} =\n",
    "\\frac{2}{\\sigma^2}\\left(\\left<y\\right>+a+b\\left<x\\right>\\right)\n",
    "$\n",
    "\n",
    "$\\displaystyle \\frac{\\partial \\chi^2(a,b)}{\\partial b} = \n",
    "\\frac{2}{\\sigma^2}\\left(-\\left<x y\\right> + a\\left<x\\right>+b\\left<x^2\\right>\\right)\n",
    "$"
   ]
  },
  {
   "cell_type": "markdown",
   "metadata": {},
   "source": [
    "Le derivate seconde sono quindi:\n",
    "\n",
    "$\\displaystyle \\frac{\\partial^2 \\chi^2(a,b)}{\\partial a^2} =\n",
    "\\frac{2}{\\sigma^2}\n",
    "$\n",
    "\n",
    "$\\displaystyle \\frac{\\partial^2 \\chi^2(a,b)}{\\partial b^2} = \n",
    "\\frac{2 \\left<x^2\\right>}{\\sigma^2}\n",
    "$\n",
    "\n",
    "$\\displaystyle \\frac{\\partial^2 \\chi^2(a,b)}{\\partial a\\,\\partial b} =\n",
    "\\frac{2 \\left<x\\right>}{\\sigma^2}\n",
    "$"
   ]
  },
  {
   "cell_type": "markdown",
   "metadata": {},
   "source": [
    "La matrice *inversa* di covarianza è quindi, ricordando il fattore $1/2$ davanti alla derivata seconda del $\\chi^2$:\n",
    "\n",
    "$\\displaystyle C^{-1} = \\frac{1}{\\sigma^2}\\left(\n",
    "\\begin{array}{cc}\n",
    "1 & \\left<x\\right> \\\\\n",
    "\\left<x\\right> & \\left<x^2\\right>\n",
    "\\end{array}\n",
    "\\right)$"
   ]
  },
  {
   "cell_type": "markdown",
   "metadata": {},
   "source": [
    "L'inversione è simile a quanto abbiamo già calcolato in precedenza. La matrice di covarianza è quindi:\n",
    "\n",
    "$\\displaystyle C =\\frac{\\sigma^2}{\\sigma_x^2}\\left(\n",
    "\\begin{array}{cc}\n",
    "\\left<x^2\\right> & - \\left<x\\right> \\\\\n",
    "- \\left<x\\right> & 1\n",
    "\\end{array}\n",
    "\\right)\n",
    "$"
   ]
  },
  {
   "cell_type": "markdown",
   "metadata": {},
   "source": [
    "Procedendo col calcolo si ottiene:\n",
    "\n",
    "$\\displaystyle \\sigma_{\\hat{b}}^2 = \\frac{\\sigma^2}{\\sigma_x^2}$\n",
    "\n",
    "$\\displaystyle \\sigma_{\\hat{a}}^2 = \\frac{\\sigma^2}{\\sigma_x^2} \\left<x^2\\right> = \n",
    "\\sigma_{\\hat{b}}^2 \\left<x^2\\right>\n",
    "$\n",
    "\n",
    "\n",
    "$\\displaystyle \\mathbb{C}\\mathrm{ov}(\\hat{a}, \\hat{b}) = - \\frac{\\sigma^2}{\\sigma_x^2} \\left<x\\right> = \n",
    "- \\sigma_{\\hat{b}}^2\\left<x\\right>\n",
    "$"
   ]
  },
  {
   "cell_type": "markdown",
   "metadata": {},
   "source": [
    "## Stima degli errori dai residui del fit\n",
    "\n",
    "Al posto di $\\sigma^2$ definito in precedenza, si preferisce stimare l'errore medio in base alle effettive deviazioni dei punti sperimentali dalle retta ottenuta dal fit. Si usa quindi, nelle formule precedenti, per gli errori su $\\hat{a}$ e $\\hat{b}$:\n",
    "\n",
    "$\\displaystyle \\hat{\\sigma}^2 = \\frac{1}{N-2}\\sum_{i=1}^Nw_i\\left(y_i -\\hat{y}_i\\right)^2$\n",
    "\n",
    "Dove abbiamo definito $\\hat{y}_i = f(x_i; \\hat{a}, \\hat{b}) = \\hat{a}+\\hat{b}\\, x$, ossia i valori delle $y$ sulla curva interpolata.\n",
    "\n",
    "L'uso di $N-2$ al demonimatore tiene conto del numero di gradi di libertà determinati dal fit, ossia le stime dei parametri $a$ e $b$. In questo modo si evita un possibile **bias**."
   ]
  },
  {
   "cell_type": "markdown",
   "metadata": {},
   "source": [
    "I valori $\\varepsilon_i = y_i -\\hat{y}_i$ prendono il nome di **residui**.\n",
    "\n",
    "Possiamo scrivere quindi:\n",
    "\n",
    "$\\displaystyle \\hat{\\sigma}^2 = \\frac{1}{N-2}\\left<\\varepsilon^2\\right>$"
   ]
  },
  {
   "cell_type": "markdown",
   "metadata": {},
   "source": [
    "<span style=\"color:blue\">Assumento pesi tutti uguali, l'uso di $\\hat{\\sigma}$ permette il calcolo dell'errore sui parametri $\\hat{a}$ e $\\hat{b}$ anche quandi l'errore sulle singole misure $y_i$ non sono noti.</span>"
   ]
  },
  {
   "cell_type": "markdown",
   "metadata": {},
   "source": [
    "<span style=\"color:blue\">Nota: questo calcolo dell'errore è il default nella funzione ```curve_fit``` che già abbiamo usato. Per usare gli errori $\\sigma_i$ anziché l'errore quadratico medio, bisogna abilitare l'opzione ```absolute_sigma```, che di default è ```False```."
   ]
  },
  {
   "cell_type": "markdown",
   "metadata": {},
   "source": [
    "## Il Coefficiente di determinazione $R^2$\n",
    "\n",
    "È poco usato in fisica, ma si trova in diverse liberie il **coefficiente di determinazione** $R^2$ che è definito come:\n",
    "\n",
    "$\\displaystyle R^2 = \\frac{\\sum_{i=1}^N(\\hat{y}_i-\\left<y\\right>)^2}{\\sum_{i=1}^N(y_i-\\left<y\\right>)^2}$\n",
    "\n",
    "$R^2$ varia tra 0 e 1 e talvolta è espresso come percentuale.\n",
    "\n",
    "$R^2=1$ corrisponde a punti totalmente allineati sulla curva (deve essere $\\hat{y}_i = y_i$), mentre $R^2=0$ corrisponde ad una retta perfettamente orizzontale, per cui la curva stimata prevede che $y$ sia insensibile ad $x$."
   ]
  },
  {
   "cell_type": "code",
   "execution_count": 1,
   "metadata": {},
   "outputs": [],
   "source": [
    "import math\n",
    "import numpy as np\n",
    "import matplotlib.pyplot as plt\n",
    "import pandas as pd\n",
    "from scipy import stats"
   ]
  },
  {
   "cell_type": "markdown",
   "metadata": {},
   "source": [
    "Generiamo una sequenza di punti allineati lungo una linea con dispersione verticale generata in modo gaussiano"
   ]
  },
  {
   "cell_type": "code",
   "execution_count": 2,
   "metadata": {},
   "outputs": [
    {
     "data": {
      "image/png": "[encoded data removed]",
      "text/plain": [
       "<Figure size 800x600 with 1 Axes>"
      ]
     },
     "metadata": {
      "needs_background": "light"
     },
     "output_type": "display_data"
    }
   ],
   "source": [
    "n_points = 20\n",
    "x_min = 0.0; x_max = 10.0\n",
    "sigma = 1.5\n",
    "a0 = 3.0; b0 = 1.5\n",
    "x = np.sort(np.random.uniform(x_min, x_max, size=n_points))\n",
    "y = np.random.normal(a0 + x*b0, sigma)\n",
    "plt.figure(figsize=(8,6), dpi=100)\n",
    "plt.errorbar(x, y, yerr=sigma, fmt='o')\n",
    "plt.xlabel('x')\n",
    "plt.ylabel('y')\n",
    "plt.show()"
   ]
  },
  {
   "cell_type": "markdown",
   "metadata": {},
   "source": [
    "Calcolo della media di $x$ e $y$ e dei vettori con le deviazioni"
   ]
  },
  {
   "cell_type": "code",
   "execution_count": 3,
   "metadata": {},
   "outputs": [],
   "source": [
    "x_mean, y_mean = x.mean(), y.mean()\n",
    "dx, dy = x - x_mean, y - y_mean\n",
    "dxdy = dx*dy; dx2 = dx*dx"
   ]
  },
  {
   "cell_type": "markdown",
   "metadata": {},
   "source": [
    "Calcolo dei coefficienti del fit"
   ]
  },
  {
   "cell_type": "code",
   "execution_count": 4,
   "metadata": {},
   "outputs": [
    {
     "name": "stdout",
     "output_type": "stream",
     "text": [
      "a, b = 2.7180, 1.5467\n"
     ]
    }
   ],
   "source": [
    "dxdy_mean, dx2_mean = dxdy.mean(), dx2.mean()\n",
    "b_fit = dxdy_mean/dx2_mean\n",
    "a_fit = y_mean - b_fit*x_mean\n",
    "print(\"a, b = {:.4f}, {:.4f}\".format(a_fit, b_fit))\n",
    "def fit_line(x):\n",
    "    return a_fit + x*b_fit"
   ]
  },
  {
   "cell_type": "code",
   "execution_count": 5,
   "metadata": {},
   "outputs": [
    {
     "data": {
      "image/png": "[encoded data removed]",
      "text/plain": [
       "<Figure size 800x600 with 1 Axes>"
      ]
     },
     "metadata": {
      "needs_background": "light"
     },
     "output_type": "display_data"
    }
   ],
   "source": [
    "plt.figure(figsize=(8,6), dpi=100)\n",
    "plt.errorbar(x, y, yerr=sigma, fmt='o')\n",
    "plt.plot([x_min,x_max],[fit_line(x_min), fit_line(x_max)])\n",
    "plt.xlabel('x')\n",
    "plt.ylabel('y')\n",
    "plt.show()"
   ]
  },
  {
   "cell_type": "markdown",
   "metadata": {},
   "source": [
    "Calcolo dei valori interpolati e dei residui"
   ]
  },
  {
   "cell_type": "code",
   "execution_count": 6,
   "metadata": {},
   "outputs": [],
   "source": [
    "y_fit = fit_line(x)\n",
    "res = y - y_fit\n",
    "res2 = res*res"
   ]
  },
  {
   "cell_type": "markdown",
   "metadata": {},
   "source": [
    "Calcoliamo la stima degli errori. Il significato del $p$-value sarà definito nelle prossime lezioni."
   ]
  },
  {
   "cell_type": "code",
   "execution_count": 7,
   "metadata": {},
   "outputs": [
    {
     "name": "stdout",
     "output_type": "stream",
     "text": [
      "b = 1.547 ± 0.083\n",
      "a = 2.718 ± 0.551\n",
      "cov(a,b) = -0.03864758\n",
      "chi^2 = 13.917/18 ndof\n",
      "p = 0.734\n"
     ]
    }
   ],
   "source": [
    "x2 = x*x\n",
    "x2_mean = x2.mean()\n",
    "res2_mean = res2.mean()\n",
    "chi2 = res2_mean*n_points/(sigma*sigma)\n",
    "ndof = n_points-2\n",
    "var_b = res2_mean/dx2_mean/(n_points-2)\n",
    "var_a = var_b*x2_mean\n",
    "cov_ab = -var_b*x_mean\n",
    "err_b = math.sqrt(var_b)\n",
    "err_a = math.sqrt(var_a)\n",
    "print('b = {:.3f} ± {:.3f}'.format(b_fit, err_b))\n",
    "print('a = {:.3f} ± {:.3f}'.format(a_fit, err_a))\n",
    "print('cov(a,b) = {:.8f}'.format(cov_ab))\n",
    "print('chi^2 = {:.3f}/{:d} ndof'.format(chi2, ndof))\n",
    "print('p = {:.3f}'.format(1 - stats.chi2.cdf(chi2, ndof)))"
   ]
  },
  {
   "cell_type": "markdown",
   "metadata": {},
   "source": [
    "Confrontiamo con [```scipy.stats.linregres```](https://docs.scipy.org/doc/scipy/reference/generated/scipy.stats.linregress.html).\n",
    "\n",
    "<span style=\"color: blue\">Da notare che il $p$-value è relativo all'ipotesi che la pendenza sia zero, non è relativo al $\\chi^2$ del fit. Non va quindi confrontato con il precedente. Il significato del $p$-value sarà più chiaro nelle prossime lezioni.</span>\n",
    "\n",
    "<span style=\"color: red\">La funzione non implementa fit pesati.</span>"
   ]
  },
  {
   "cell_type": "code",
   "execution_count": 8,
   "metadata": {},
   "outputs": [
    {
     "name": "stdout",
     "output_type": "stream",
     "text": [
      "b =  1.546694330031429\n",
      "a =  2.717955868993826\n",
      "err =  0.08312958357641465\n",
      "R^2 =  0.9505734380277573\n",
      "p =  3.3404363354058265e-13\n"
     ]
    }
   ],
   "source": [
    "slope, intercept, r_value, p_value, std_err = stats.linregress(x, y)\n",
    "print('b = ', slope)\n",
    "print('a = ', intercept)\n",
    "print('err = ', std_err)\n",
    "print('R^2 = ', r_value*r_value)\n",
    "print('p = ', p_value)"
   ]
  },
  {
   "cell_type": "markdown",
   "metadata": {},
   "source": [
    "Propagazione degli errori su $a$ e $b$, considerando il coefficiente di covarianza:\n",
    "\n",
    "$y = a + b x$\n",
    "\n",
    "$\\sigma_y^2 = \\sigma_a^2 + 2x\\,\\mathrm{cov}(a,b) + x^2\\sigma_b^2$"
   ]
  },
  {
   "cell_type": "code",
   "execution_count": 9,
   "metadata": {},
   "outputs": [],
   "source": [
    "y_err_fit = np.sqrt(var_a + 2*x*cov_ab + x2*var_b)\n",
    "y_lo_fit = y_fit - y_err_fit\n",
    "y_hi_fit = y_fit + y_err_fit"
   ]
  },
  {
   "cell_type": "code",
   "execution_count": 10,
   "metadata": {},
   "outputs": [
    {
     "data": {
      "image/png": "[encoded data removed]",
      "text/plain": [
       "<Figure size 800x600 with 1 Axes>"
      ]
     },
     "metadata": {
      "needs_background": "light"
     },
     "output_type": "display_data"
    }
   ],
   "source": [
    "plt.figure(figsize=(8,6), dpi=100)\n",
    "plt.fill_between(x, y_lo_fit, y_hi_fit, facecolor='orange')\n",
    "plt.errorbar(x, y, yerr=sigma, fmt='o')\n",
    "plt.plot([x_min,x_max],[fit_line(x_min), fit_line(x_max)], color='darkred')\n",
    "plt.xlabel('x')\n",
    "plt.ylabel('y')\n",
    "plt.show()"
   ]
  },
  {
   "cell_type": "markdown",
   "metadata": {},
   "source": [
    "Possiamo costruzione un ```DataFrame``` pandas per visualizzazione della tabella e salvarlo in formato csv per poterlo importare in un foglio di calcolo."
   ]
  },
  {
   "cell_type": "code",
   "execution_count": 12,
   "metadata": {},
   "outputs": [
    {
     "data": {
      "text/html": [
       "<div>\n",
       "<style scoped>\n",
       "    .dataframe tbody tr th:only-of-type {\n",
       "        vertical-align: middle;\n",
       "    }\n",
       "\n",
       "    .dataframe tbody tr th {\n",
       "        vertical-align: top;\n",
       "    }\n",
       "\n",
       "    .dataframe thead th {\n",
       "        text-align: right;\n",
       "    }\n",
       "</style>\n",
       "<table border=\"1\" class=\"dataframe\">\n",
       "  <thead>\n",
       "    <tr style=\"text-align: right;\">\n",
       "      <th></th>\n",
       "      <th>x</th>\n",
       "      <th>y</th>\n",
       "      <th>dx</th>\n",
       "      <th>dy</th>\n",
       "      <th>x2</th>\n",
       "      <th>dxdy</th>\n",
       "      <th>dx2</th>\n",
       "      <th>y_fit</th>\n",
       "      <th>res</th>\n",
       "      <th>res2</th>\n",
       "      <th>y_err_fit</th>\n",
       "      <th>y_lo_fit</th>\n",
       "      <th>y_hi_fit</th>\n",
       "    </tr>\n",
       "  </thead>\n",
       "  <tbody>\n",
       "    <tr>\n",
       "      <th>0</th>\n",
       "      <td>0.006779</td>\n",
       "      <td>1.283839</td>\n",
       "      <td>-5.585788</td>\n",
       "      <td>-10.084107</td>\n",
       "      <td>0.000046</td>\n",
       "      <td>56.327680</td>\n",
       "      <td>31.201023</td>\n",
       "      <td>2.728440</td>\n",
       "      <td>-1.444601</td>\n",
       "      <td>2.086872</td>\n",
       "      <td>0.550090</td>\n",
       "      <td>2.178350</td>\n",
       "      <td>3.278530</td>\n",
       "    </tr>\n",
       "    <tr>\n",
       "      <th>1</th>\n",
       "      <td>0.019130</td>\n",
       "      <td>2.222480</td>\n",
       "      <td>-5.573436</td>\n",
       "      <td>-9.145466</td>\n",
       "      <td>0.000366</td>\n",
       "      <td>50.971673</td>\n",
       "      <td>31.063192</td>\n",
       "      <td>2.747544</td>\n",
       "      <td>-0.525064</td>\n",
       "      <td>0.275692</td>\n",
       "      <td>0.549223</td>\n",
       "      <td>2.198321</td>\n",
       "      <td>3.296767</td>\n",
       "    </tr>\n",
       "    <tr>\n",
       "      <th>2</th>\n",
       "      <td>0.027517</td>\n",
       "      <td>3.512691</td>\n",
       "      <td>-5.565049</td>\n",
       "      <td>-7.855255</td>\n",
       "      <td>0.000757</td>\n",
       "      <td>43.714878</td>\n",
       "      <td>30.969770</td>\n",
       "      <td>2.760517</td>\n",
       "      <td>0.752175</td>\n",
       "      <td>0.565767</td>\n",
       "      <td>0.548635</td>\n",
       "      <td>2.211881</td>\n",
       "      <td>3.309152</td>\n",
       "    </tr>\n",
       "    <tr>\n",
       "      <th>3</th>\n",
       "      <td>1.776164</td>\n",
       "      <td>4.430771</td>\n",
       "      <td>-3.816402</td>\n",
       "      <td>-6.937175</td>\n",
       "      <td>3.154758</td>\n",
       "      <td>26.475053</td>\n",
       "      <td>14.564928</td>\n",
       "      <td>5.465138</td>\n",
       "      <td>-1.034367</td>\n",
       "      <td>1.069915</td>\n",
       "      <td>0.433168</td>\n",
       "      <td>5.031970</td>\n",
       "      <td>5.898306</td>\n",
       "    </tr>\n",
       "    <tr>\n",
       "      <th>4</th>\n",
       "      <td>1.880277</td>\n",
       "      <td>5.354049</td>\n",
       "      <td>-3.712289</td>\n",
       "      <td>-6.013897</td>\n",
       "      <td>3.535441</td>\n",
       "      <td>22.325327</td>\n",
       "      <td>13.781093</td>\n",
       "      <td>5.626169</td>\n",
       "      <td>-0.272120</td>\n",
       "      <td>0.074049</td>\n",
       "      <td>0.426870</td>\n",
       "      <td>5.199299</td>\n",
       "      <td>6.053039</td>\n",
       "    </tr>\n",
       "    <tr>\n",
       "      <th>5</th>\n",
       "      <td>2.003020</td>\n",
       "      <td>8.258512</td>\n",
       "      <td>-3.589546</td>\n",
       "      <td>-3.109434</td>\n",
       "      <td>4.012090</td>\n",
       "      <td>11.161457</td>\n",
       "      <td>12.884840</td>\n",
       "      <td>5.816016</td>\n",
       "      <td>2.442496</td>\n",
       "      <td>5.965786</td>\n",
       "      <td>0.419553</td>\n",
       "      <td>5.396463</td>\n",
       "      <td>6.235569</td>\n",
       "    </tr>\n",
       "    <tr>\n",
       "      <th>6</th>\n",
       "      <td>2.579078</td>\n",
       "      <td>5.464360</td>\n",
       "      <td>-3.013489</td>\n",
       "      <td>-5.903586</td>\n",
       "      <td>6.651641</td>\n",
       "      <td>17.790389</td>\n",
       "      <td>9.081114</td>\n",
       "      <td>6.707001</td>\n",
       "      <td>-1.242640</td>\n",
       "      <td>1.544155</td>\n",
       "      <td>0.386961</td>\n",
       "      <td>6.320040</td>\n",
       "      <td>7.093961</td>\n",
       "    </tr>\n",
       "    <tr>\n",
       "      <th>7</th>\n",
       "      <td>4.145831</td>\n",
       "      <td>11.354915</td>\n",
       "      <td>-1.446736</td>\n",
       "      <td>-0.013031</td>\n",
       "      <td>17.187911</td>\n",
       "      <td>0.018853</td>\n",
       "      <td>2.093044</td>\n",
       "      <td>9.130288</td>\n",
       "      <td>2.224627</td>\n",
       "      <td>4.948963</td>\n",
       "      <td>0.318508</td>\n",
       "      <td>8.811780</td>\n",
       "      <td>9.448796</td>\n",
       "    </tr>\n",
       "    <tr>\n",
       "      <th>8</th>\n",
       "      <td>5.830278</td>\n",
       "      <td>11.789916</td>\n",
       "      <td>0.237712</td>\n",
       "      <td>0.421970</td>\n",
       "      <td>33.992140</td>\n",
       "      <td>0.100307</td>\n",
       "      <td>0.056507</td>\n",
       "      <td>11.735614</td>\n",
       "      <td>0.054302</td>\n",
       "      <td>0.002949</td>\n",
       "      <td>0.295591</td>\n",
       "      <td>11.440023</td>\n",
       "      <td>12.031204</td>\n",
       "    </tr>\n",
       "    <tr>\n",
       "      <th>9</th>\n",
       "      <td>5.838499</td>\n",
       "      <td>12.756284</td>\n",
       "      <td>0.245933</td>\n",
       "      <td>1.388338</td>\n",
       "      <td>34.088071</td>\n",
       "      <td>0.341438</td>\n",
       "      <td>0.060483</td>\n",
       "      <td>11.748329</td>\n",
       "      <td>1.007955</td>\n",
       "      <td>1.015974</td>\n",
       "      <td>0.295637</td>\n",
       "      <td>11.452692</td>\n",
       "      <td>12.043966</td>\n",
       "    </tr>\n",
       "    <tr>\n",
       "      <th>10</th>\n",
       "      <td>7.526729</td>\n",
       "      <td>13.862160</td>\n",
       "      <td>1.934163</td>\n",
       "      <td>2.494214</td>\n",
       "      <td>56.651656</td>\n",
       "      <td>4.824216</td>\n",
       "      <td>3.740988</td>\n",
       "      <td>14.359506</td>\n",
       "      <td>-0.497346</td>\n",
       "      <td>0.247353</td>\n",
       "      <td>0.335910</td>\n",
       "      <td>14.023596</td>\n",
       "      <td>14.695416</td>\n",
       "    </tr>\n",
       "    <tr>\n",
       "      <th>11</th>\n",
       "      <td>7.723718</td>\n",
       "      <td>12.939826</td>\n",
       "      <td>2.131152</td>\n",
       "      <td>1.571880</td>\n",
       "      <td>59.655819</td>\n",
       "      <td>3.349914</td>\n",
       "      <td>4.541808</td>\n",
       "      <td>14.664187</td>\n",
       "      <td>-1.724361</td>\n",
       "      <td>2.973420</td>\n",
       "      <td>0.344049</td>\n",
       "      <td>14.320138</td>\n",
       "      <td>15.008235</td>\n",
       "    </tr>\n",
       "    <tr>\n",
       "      <th>12</th>\n",
       "      <td>8.313022</td>\n",
       "      <td>15.419958</td>\n",
       "      <td>2.720456</td>\n",
       "      <td>4.052012</td>\n",
       "      <td>69.106339</td>\n",
       "      <td>11.023321</td>\n",
       "      <td>7.400881</td>\n",
       "      <td>15.575660</td>\n",
       "      <td>-0.155702</td>\n",
       "      <td>0.024243</td>\n",
       "      <td>0.371655</td>\n",
       "      <td>15.204005</td>\n",
       "      <td>15.947315</td>\n",
       "    </tr>\n",
       "    <tr>\n",
       "      <th>13</th>\n",
       "      <td>8.821933</td>\n",
       "      <td>14.795728</td>\n",
       "      <td>3.229367</td>\n",
       "      <td>3.427782</td>\n",
       "      <td>77.826498</td>\n",
       "      <td>11.069564</td>\n",
       "      <td>10.428809</td>\n",
       "      <td>16.362789</td>\n",
       "      <td>-1.567061</td>\n",
       "      <td>2.455680</td>\n",
       "      <td>0.398813</td>\n",
       "      <td>15.963976</td>\n",
       "      <td>16.761602</td>\n",
       "    </tr>\n",
       "    <tr>\n",
       "      <th>14</th>\n",
       "      <td>8.867153</td>\n",
       "      <td>18.611489</td>\n",
       "      <td>3.274587</td>\n",
       "      <td>7.243542</td>\n",
       "      <td>78.626407</td>\n",
       "      <td>23.719610</td>\n",
       "      <td>10.722921</td>\n",
       "      <td>16.432732</td>\n",
       "      <td>2.178757</td>\n",
       "      <td>4.746982</td>\n",
       "      <td>0.401353</td>\n",
       "      <td>16.031378</td>\n",
       "      <td>16.834085</td>\n",
       "    </tr>\n",
       "    <tr>\n",
       "      <th>15</th>\n",
       "      <td>8.895208</td>\n",
       "      <td>15.878158</td>\n",
       "      <td>3.302642</td>\n",
       "      <td>4.510212</td>\n",
       "      <td>79.124725</td>\n",
       "      <td>14.895613</td>\n",
       "      <td>10.907443</td>\n",
       "      <td>16.476124</td>\n",
       "      <td>-0.597966</td>\n",
       "      <td>0.357563</td>\n",
       "      <td>0.402939</td>\n",
       "      <td>16.073185</td>\n",
       "      <td>16.879062</td>\n",
       "    </tr>\n",
       "    <tr>\n",
       "      <th>16</th>\n",
       "      <td>9.028936</td>\n",
       "      <td>17.923348</td>\n",
       "      <td>3.436370</td>\n",
       "      <td>6.555402</td>\n",
       "      <td>81.521687</td>\n",
       "      <td>22.526785</td>\n",
       "      <td>11.808638</td>\n",
       "      <td>16.682960</td>\n",
       "      <td>1.240388</td>\n",
       "      <td>1.538562</td>\n",
       "      <td>0.410594</td>\n",
       "      <td>16.272366</td>\n",
       "      <td>17.093554</td>\n",
       "    </tr>\n",
       "    <tr>\n",
       "      <th>17</th>\n",
       "      <td>9.299296</td>\n",
       "      <td>16.003777</td>\n",
       "      <td>3.706730</td>\n",
       "      <td>4.635830</td>\n",
       "      <td>86.476902</td>\n",
       "      <td>17.183770</td>\n",
       "      <td>13.739844</td>\n",
       "      <td>17.101124</td>\n",
       "      <td>-1.097347</td>\n",
       "      <td>1.204171</td>\n",
       "      <td>0.426536</td>\n",
       "      <td>16.674588</td>\n",
       "      <td>17.527660</td>\n",
       "    </tr>\n",
       "    <tr>\n",
       "      <th>18</th>\n",
       "      <td>9.530345</td>\n",
       "      <td>17.889622</td>\n",
       "      <td>3.937779</td>\n",
       "      <td>6.521676</td>\n",
       "      <td>90.827479</td>\n",
       "      <td>25.680919</td>\n",
       "      <td>15.506103</td>\n",
       "      <td>17.458487</td>\n",
       "      <td>0.431136</td>\n",
       "      <td>0.185878</td>\n",
       "      <td>0.440612</td>\n",
       "      <td>17.017875</td>\n",
       "      <td>17.899098</td>\n",
       "    </tr>\n",
       "    <tr>\n",
       "      <th>19</th>\n",
       "      <td>9.738411</td>\n",
       "      <td>17.607041</td>\n",
       "      <td>4.145845</td>\n",
       "      <td>6.239095</td>\n",
       "      <td>94.836657</td>\n",
       "      <td>25.866322</td>\n",
       "      <td>17.188033</td>\n",
       "      <td>17.780302</td>\n",
       "      <td>-0.173261</td>\n",
       "      <td>0.030019</td>\n",
       "      <td>0.453610</td>\n",
       "      <td>17.326692</td>\n",
       "      <td>18.233911</td>\n",
       "    </tr>\n",
       "  </tbody>\n",
       "</table>\n",
       "</div>"
      ],
      "text/plain": [
       "           x          y        dx         dy         x2       dxdy        dx2  \\\n",
       "0   0.006779   1.283839 -5.585788 -10.084107   0.000046  56.327680  31.201023   \n",
       "1   0.019130   2.222480 -5.573436  -9.145466   0.000366  50.971673  31.063192   \n",
       "2   0.027517   3.512691 -5.565049  -7.855255   0.000757  43.714878  30.969770   \n",
       "3   1.776164   4.430771 -3.816402  -6.937175   3.154758  26.475053  14.564928   \n",
       "4   1.880277   5.354049 -3.712289  -6.013897   3.535441  22.325327  13.781093   \n",
       "5   2.003020   8.258512 -3.589546  -3.109434   4.012090  11.161457  12.884840   \n",
       "6   2.579078   5.464360 -3.013489  -5.903586   6.651641  17.790389   9.081114   \n",
       "7   4.145831  11.354915 -1.446736  -0.013031  17.187911   0.018853   2.093044   \n",
       "8   5.830278  11.789916  0.237712   0.421970  33.992140   0.100307   0.056507   \n",
       "9   5.838499  12.756284  0.245933   1.388338  34.088071   0.341438   0.060483   \n",
       "10  7.526729  13.862160  1.934163   2.494214  56.651656   4.824216   3.740988   \n",
       "11  7.723718  12.939826  2.131152   1.571880  59.655819   3.349914   4.541808   \n",
       "12  8.313022  15.419958  2.720456   4.052012  69.106339  11.023321   7.400881   \n",
       "13  8.821933  14.795728  3.229367   3.427782  77.826498  11.069564  10.428809   \n",
       "14  8.867153  18.611489  3.274587   7.243542  78.626407  23.719610  10.722921   \n",
       "15  8.895208  15.878158  3.302642   4.510212  79.124725  14.895613  10.907443   \n",
       "16  9.028936  17.923348  3.436370   6.555402  81.521687  22.526785  11.808638   \n",
       "17  9.299296  16.003777  3.706730   4.635830  86.476902  17.183770  13.739844   \n",
       "18  9.530345  17.889622  3.937779   6.521676  90.827479  25.680919  15.506103   \n",
       "19  9.738411  17.607041  4.145845   6.239095  94.836657  25.866322  17.188033   \n",
       "\n",
       "        y_fit       res      res2  y_err_fit   y_lo_fit   y_hi_fit  \n",
       "0    2.728440 -1.444601  2.086872   0.550090   2.178350   3.278530  \n",
       "1    2.747544 -0.525064  0.275692   0.549223   2.198321   3.296767  \n",
       "2    2.760517  0.752175  0.565767   0.548635   2.211881   3.309152  \n",
       "3    5.465138 -1.034367  1.069915   0.433168   5.031970   5.898306  \n",
       "4    5.626169 -0.272120  0.074049   0.426870   5.199299   6.053039  \n",
       "5    5.816016  2.442496  5.965786   0.419553   5.396463   6.235569  \n",
       "6    6.707001 -1.242640  1.544155   0.386961   6.320040   7.093961  \n",
       "7    9.130288  2.224627  4.948963   0.318508   8.811780   9.448796  \n",
       "8   11.735614  0.054302  0.002949   0.295591  11.440023  12.031204  \n",
       "9   11.748329  1.007955  1.015974   0.295637  11.452692  12.043966  \n",
       "10  14.359506 -0.497346  0.247353   0.335910  14.023596  14.695416  \n",
       "11  14.664187 -1.724361  2.973420   0.344049  14.320138  15.008235  \n",
       "12  15.575660 -0.155702  0.024243   0.371655  15.204005  15.947315  \n",
       "13  16.362789 -1.567061  2.455680   0.398813  15.963976  16.761602  \n",
       "14  16.432732  2.178757  4.746982   0.401353  16.031378  16.834085  \n",
       "15  16.476124 -0.597966  0.357563   0.402939  16.073185  16.879062  \n",
       "16  16.682960  1.240388  1.538562   0.410594  16.272366  17.093554  \n",
       "17  17.101124 -1.097347  1.204171   0.426536  16.674588  17.527660  \n",
       "18  17.458487  0.431136  0.185878   0.440612  17.017875  17.899098  \n",
       "19  17.780302 -0.173261  0.030019   0.453610  17.326692  18.233911  "
      ]
     },
     "execution_count": 12,
     "metadata": {},
     "output_type": "execute_result"
    }
   ],
   "source": [
    "df = pd.DataFrame({'x': x, 'y':y, 'dx': dx, 'dy': dy, 'x2': x2, 'dxdy': dxdy, 'dx2': dx2,\n",
    "    'y_fit': y_fit, 'res': res, 'res2': res2,\n",
    "    'y_err_fit': y_err_fit, 'y_lo_fit': y_lo_fit, 'y_hi_fit': y_hi_fit})\n",
    "df.to_csv('output/linear_regression.csv')\n",
    "df"
   ]
  },
  {
   "cell_type": "markdown",
   "metadata": {},
   "source": [
    "Implementazione con ```curve_fit```"
   ]
  },
  {
   "cell_type": "code",
   "execution_count": 16,
   "metadata": {},
   "outputs": [
    {
     "data": {
      "image/png": "[encoded data removed]",
      "text/plain": [
       "<Figure size 800x600 with 1 Axes>"
      ]
     },
     "metadata": {
      "needs_background": "light"
     },
     "output_type": "display_data"
    }
   ],
   "source": [
    "from scipy.optimize import curve_fit\n",
    "def model(x, a, b):\n",
    "    return a + b*x\n",
    "par, cov = curve_fit(model, x, y, p0=[0, 1])\n",
    "fig, ax = plt.subplots(figsize=(8, 6), dpi=100)\n",
    "ax.errorbar(x, y, xerr=0, yerr=sigma, marker='o', linestyle='')\n",
    "xs = np.linspace(df.x.values[0], df.x.values[-1], 100)\n",
    "ax.plot(xs, model(xs, *par), label='fit line')\n",
    "ax.set_xlabel('x')\n",
    "ax.set_ylabel('y')\n",
    "fig.show()"
   ]
  },
  {
   "cell_type": "code",
   "execution_count": null,
   "metadata": {},
   "outputs": [],
   "source": []
  }
 ],
 "metadata": {
  "kernelspec": {
   "display_name": "Python 3",
   "language": "python",
   "name": "python3"
  },
  "language_info": {
   "codemirror_mode": {
    "name": "ipython",
    "version": 3
   },
   "file_extension": ".py",
   "mimetype": "text/x-python",
   "name": "python",
   "nbconvert_exporter": "python",
   "pygments_lexer": "ipython3",
   "version": "3.7.3"
  }
 },
 "nbformat": 4,
 "nbformat_minor": 4
}
