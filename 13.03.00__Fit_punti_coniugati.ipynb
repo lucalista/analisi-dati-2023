{
 "cells": [
  {
   "cell_type": "markdown",
   "metadata": {},
   "source": [
    "# Legge dei punti coniugati\n",
    "\n",
    "I dati sono presi da un'esperienza di laboratorio per la verifica della legge dei punti coniugati in ottica geometrica.\n",
    "\n",
    "La legge è la seguente:\n",
    "\n",
    "$\\displaystyle \\frac{1}{p} + \\frac{1}{q} = \\frac{1}{f}$\n",
    "\n",
    "Nell'esperienza vengono misurati diversi valori di $p$ ed i corrispondenti $q$ con lo scopo di misurare $f$. Si calcolano quindi gli inversi di $p$ e $q$ e si propagani i corrispondenti errori.\n",
    "\n",
    "Si eseque quindi una regressione lineare sulle variabili $x=1/p$ e $y=1/q$.\n",
    "\n",
    "La presenza di errori, sia nella misura di $p$ (quindi di $x$) che di $q$ (quindi di $y$), non è in genere contemplata nelle procedure di regressione lineare.\n",
    "\n",
    "Tuttavia, si può propagare l'errore su $x$ in base alla funzione di *fit* ed ottenere un contributo ulteriore all'errore su $y$. Il *fit* su può quindi iterare per ottenere una nuova stima, più accurata, con i suoi errori. La procedura iterativa si può ripetere fino ad ottenere un valore stabile dei parametri del fit."
   ]
  },
  {
   "cell_type": "code",
   "execution_count": 1,
   "metadata": {},
   "outputs": [],
   "source": [
    "import pandas as pd\n",
    "import matplotlib.pyplot as plt"
   ]
  },
  {
   "cell_type": "code",
   "execution_count": 2,
   "metadata": {},
   "outputs": [],
   "source": [
    "df = pd.read_csv('data/lab_ottica_punti_coniugati.csv')"
   ]
  },
  {
   "cell_type": "code",
   "execution_count": 3,
   "metadata": {},
   "outputs": [
    {
     "data": {
      "text/html": [
       "<div>\n",
       "<style scoped>\n",
       "    .dataframe tbody tr th:only-of-type {\n",
       "        vertical-align: middle;\n",
       "    }\n",
       "\n",
       "    .dataframe tbody tr th {\n",
       "        vertical-align: top;\n",
       "    }\n",
       "\n",
       "    .dataframe thead th {\n",
       "        text-align: right;\n",
       "    }\n",
       "</style>\n",
       "<table border=\"1\" class=\"dataframe\">\n",
       "  <thead>\n",
       "    <tr style=\"text-align: right;\">\n",
       "      <th></th>\n",
       "      <th>p</th>\n",
       "      <th>q</th>\n",
       "      <th>dp</th>\n",
       "      <th>dq</th>\n",
       "      <th>Q</th>\n",
       "      <th>P</th>\n",
       "      <th>1/f</th>\n",
       "      <th>dQ</th>\n",
       "      <th>dP</th>\n",
       "    </tr>\n",
       "  </thead>\n",
       "  <tbody>\n",
       "    <tr>\n",
       "      <th>0</th>\n",
       "      <td>32.0</td>\n",
       "      <td>57.5</td>\n",
       "      <td>0.5</td>\n",
       "      <td>0.5</td>\n",
       "      <td>0.017391</td>\n",
       "      <td>0.031250</td>\n",
       "      <td>0.048641</td>\n",
       "      <td>0.000151</td>\n",
       "      <td>0.000488</td>\n",
       "    </tr>\n",
       "    <tr>\n",
       "      <th>1</th>\n",
       "      <td>42.0</td>\n",
       "      <td>38.5</td>\n",
       "      <td>0.5</td>\n",
       "      <td>0.5</td>\n",
       "      <td>0.025974</td>\n",
       "      <td>0.023810</td>\n",
       "      <td>0.049784</td>\n",
       "      <td>0.000337</td>\n",
       "      <td>0.000283</td>\n",
       "    </tr>\n",
       "    <tr>\n",
       "      <th>2</th>\n",
       "      <td>52.5</td>\n",
       "      <td>33.0</td>\n",
       "      <td>0.5</td>\n",
       "      <td>0.5</td>\n",
       "      <td>0.030303</td>\n",
       "      <td>0.019048</td>\n",
       "      <td>0.049351</td>\n",
       "      <td>0.000459</td>\n",
       "      <td>0.000181</td>\n",
       "    </tr>\n",
       "    <tr>\n",
       "      <th>3</th>\n",
       "      <td>62.5</td>\n",
       "      <td>29.5</td>\n",
       "      <td>0.5</td>\n",
       "      <td>0.5</td>\n",
       "      <td>0.033898</td>\n",
       "      <td>0.016000</td>\n",
       "      <td>0.049898</td>\n",
       "      <td>0.000575</td>\n",
       "      <td>0.000128</td>\n",
       "    </tr>\n",
       "    <tr>\n",
       "      <th>4</th>\n",
       "      <td>71.5</td>\n",
       "      <td>28.0</td>\n",
       "      <td>0.5</td>\n",
       "      <td>0.5</td>\n",
       "      <td>0.035714</td>\n",
       "      <td>0.013986</td>\n",
       "      <td>0.049700</td>\n",
       "      <td>0.000638</td>\n",
       "      <td>0.000098</td>\n",
       "    </tr>\n",
       "    <tr>\n",
       "      <th>5</th>\n",
       "      <td>87.0</td>\n",
       "      <td>25.5</td>\n",
       "      <td>0.5</td>\n",
       "      <td>0.5</td>\n",
       "      <td>0.039216</td>\n",
       "      <td>0.011494</td>\n",
       "      <td>0.050710</td>\n",
       "      <td>0.000769</td>\n",
       "      <td>0.000066</td>\n",
       "    </tr>\n",
       "    <tr>\n",
       "      <th>6</th>\n",
       "      <td>95.0</td>\n",
       "      <td>25.0</td>\n",
       "      <td>0.5</td>\n",
       "      <td>0.5</td>\n",
       "      <td>0.040000</td>\n",
       "      <td>0.010526</td>\n",
       "      <td>0.050526</td>\n",
       "      <td>0.000800</td>\n",
       "      <td>0.000055</td>\n",
       "    </tr>\n",
       "    <tr>\n",
       "      <th>7</th>\n",
       "      <td>105.0</td>\n",
       "      <td>24.5</td>\n",
       "      <td>0.5</td>\n",
       "      <td>0.5</td>\n",
       "      <td>0.040816</td>\n",
       "      <td>0.009524</td>\n",
       "      <td>0.050340</td>\n",
       "      <td>0.000833</td>\n",
       "      <td>0.000045</td>\n",
       "    </tr>\n",
       "    <tr>\n",
       "      <th>8</th>\n",
       "      <td>119.0</td>\n",
       "      <td>23.5</td>\n",
       "      <td>0.5</td>\n",
       "      <td>0.5</td>\n",
       "      <td>0.042553</td>\n",
       "      <td>0.008403</td>\n",
       "      <td>0.050957</td>\n",
       "      <td>0.000905</td>\n",
       "      <td>0.000035</td>\n",
       "    </tr>\n",
       "    <tr>\n",
       "      <th>9</th>\n",
       "      <td>144.5</td>\n",
       "      <td>22.5</td>\n",
       "      <td>0.5</td>\n",
       "      <td>0.5</td>\n",
       "      <td>0.044444</td>\n",
       "      <td>0.006920</td>\n",
       "      <td>0.051365</td>\n",
       "      <td>0.000988</td>\n",
       "      <td>0.000024</td>\n",
       "    </tr>\n",
       "  </tbody>\n",
       "</table>\n",
       "</div>"
      ],
      "text/plain": [
       "       p     q   dp   dq         Q         P       1/f        dQ        dP\n",
       "0   32.0  57.5  0.5  0.5  0.017391  0.031250  0.048641  0.000151  0.000488\n",
       "1   42.0  38.5  0.5  0.5  0.025974  0.023810  0.049784  0.000337  0.000283\n",
       "2   52.5  33.0  0.5  0.5  0.030303  0.019048  0.049351  0.000459  0.000181\n",
       "3   62.5  29.5  0.5  0.5  0.033898  0.016000  0.049898  0.000575  0.000128\n",
       "4   71.5  28.0  0.5  0.5  0.035714  0.013986  0.049700  0.000638  0.000098\n",
       "5   87.0  25.5  0.5  0.5  0.039216  0.011494  0.050710  0.000769  0.000066\n",
       "6   95.0  25.0  0.5  0.5  0.040000  0.010526  0.050526  0.000800  0.000055\n",
       "7  105.0  24.5  0.5  0.5  0.040816  0.009524  0.050340  0.000833  0.000045\n",
       "8  119.0  23.5  0.5  0.5  0.042553  0.008403  0.050957  0.000905  0.000035\n",
       "9  144.5  22.5  0.5  0.5  0.044444  0.006920  0.051365  0.000988  0.000024"
      ]
     },
     "execution_count": 3,
     "metadata": {},
     "output_type": "execute_result"
    }
   ],
   "source": [
    "df"
   ]
  },
  {
   "cell_type": "markdown",
   "metadata": {},
   "source": [
    "Grafichiamo $p$ *vs* $q$. Va notato che a questo punto avremmo gli strumenti per fare un fit direttamente di questi dati secondo la legge:\n",
    "\n",
    "$\\displaystyle q(p) = \\frac{1}{\\displaystyle\\frac{1}{f}-\\frac{1}{p}}$\n",
    "\n",
    "$f$ sarebbe il parametro da determinare nel fit."
   ]
  },
  {
   "cell_type": "code",
   "execution_count": 4,
   "metadata": {},
   "outputs": [
    {
     "data": {
      "image/png": "[encoded data removed]",
      "text/plain": [
       "<Figure size 800x600 with 1 Axes>"
      ]
     },
     "metadata": {
      "needs_background": "light"
     },
     "output_type": "display_data"
    }
   ],
   "source": [
    "fig, ax = plt.subplots(figsize=(8, 6), dpi=100)\n",
    "ax.errorbar(df.p, df.q, xerr=df.dp, yerr=df.dq, marker='o', markersize=1, linestyle='')\n",
    "ax.set_xlabel('p (cm)')\n",
    "ax.set_ylabel('q (cm)')\n",
    "fig.show()"
   ]
  },
  {
   "cell_type": "markdown",
   "metadata": {},
   "source": [
    "Implementiamo un *fit* di minimo chi-quadro utilizzando ```curve_fit```.\n",
    "\n",
    "In prima battuta, ignoriamo gli errori sulla misura di $p$. Poi riconsideremo questi errori dopo questa prima implementazione."
   ]
  },
  {
   "cell_type": "code",
   "execution_count": null,
   "metadata": {},
   "outputs": [],
   "source": []
  }
 ],
 "metadata": {
  "kernelspec": {
   "display_name": "Python 3",
   "language": "python",
   "name": "python3"
  },
  "language_info": {
   "codemirror_mode": {
    "name": "ipython",
    "version": 3
   },
   "file_extension": ".py",
   "mimetype": "text/x-python",
   "name": "python",
   "nbconvert_exporter": "python",
   "pygments_lexer": "ipython3",
   "version": "3.7.3"
  }
 },
 "nbformat": 4,
 "nbformat_minor": 4
}
