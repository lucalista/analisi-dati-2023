{
 "cells": [
  {
   "cell_type": "markdown",
   "metadata": {},
   "source": [
    "# Studio di un circuito RLC\n",
    "\n",
    "Da un progetto di esame del 2022 svolto dallo studente **Giovanni Saturno**.\n",
    "\n",
    "In questo elaborato si utilizzano le tecniche dell'analisi dei dati per lo studio di un circuito RLC, simulato con il software TINA."
   ]
  },
  {
   "cell_type": "code",
   "execution_count": 9,
   "metadata": {},
   "outputs": [],
   "source": [
    "from matplotlib import pyplot as plt\n",
    "import pandas\n",
    "import numpy as np\n",
    "from iminuit import Minuit\n",
    "from iminuit.cost import LeastSquares\n",
    "import math"
   ]
  },
  {
   "cell_type": "markdown",
   "metadata": {},
   "source": [
    "I componenti del circuito sono:"
   ]
  },
  {
   "cell_type": "code",
   "execution_count": 10,
   "metadata": {},
   "outputs": [],
   "source": [
    "R = 998          # Resitore di 0.998 kOhm\n",
    "C = 330*10**-9   # Condensatore di 330 nF\n",
    "L = 0.1          # Induttore da 100 mH\n",
    "V = 1            # Generatore di ampiezza 1V"
   ]
  },
  {
   "cell_type": "markdown",
   "metadata": {},
   "source": [
    "Si prelevano i dati e si raccolgono in un file excel, qui importato medianta apposita funzione della libreria pandas.\n",
    "Le frequenze sono espresse in Hz, le tensioni in V e i tempi in s."
   ]
  },
  {
   "cell_type": "code",
   "execution_count": 11,
   "metadata": {},
   "outputs": [
    {
     "data": {
      "text/html": [
       "<div>\n",
       "<style scoped>\n",
       "    .dataframe tbody tr th:only-of-type {\n",
       "        vertical-align: middle;\n",
       "    }\n",
       "\n",
       "    .dataframe tbody tr th {\n",
       "        vertical-align: top;\n",
       "    }\n",
       "\n",
       "    .dataframe thead th {\n",
       "        text-align: right;\n",
       "    }\n",
       "</style>\n",
       "<table border=\"1\" class=\"dataframe\">\n",
       "  <thead>\n",
       "    <tr style=\"text-align: right;\">\n",
       "      <th></th>\n",
       "      <th>Frequency</th>\n",
       "      <th>V_R</th>\n",
       "      <th>Scala V</th>\n",
       "      <th>Delta t</th>\n",
       "      <th>Scala T</th>\n",
       "    </tr>\n",
       "  </thead>\n",
       "  <tbody>\n",
       "    <tr>\n",
       "      <th>0</th>\n",
       "      <td>1.000000</td>\n",
       "      <td>0.0020</td>\n",
       "      <td>0.001</td>\n",
       "      <td>0.2480</td>\n",
       "      <td>0.040</td>\n",
       "    </tr>\n",
       "    <tr>\n",
       "      <th>1</th>\n",
       "      <td>3.019952</td>\n",
       "      <td>0.0062</td>\n",
       "      <td>0.001</td>\n",
       "      <td>0.0820</td>\n",
       "      <td>0.020</td>\n",
       "    </tr>\n",
       "    <tr>\n",
       "      <th>2</th>\n",
       "      <td>10.471285</td>\n",
       "      <td>0.0215</td>\n",
       "      <td>0.005</td>\n",
       "      <td>0.0236</td>\n",
       "      <td>0.004</td>\n",
       "    </tr>\n",
       "    <tr>\n",
       "      <th>3</th>\n",
       "      <td>20.892961</td>\n",
       "      <td>0.0430</td>\n",
       "      <td>0.010</td>\n",
       "      <td>0.0116</td>\n",
       "      <td>0.002</td>\n",
       "    </tr>\n",
       "    <tr>\n",
       "      <th>4</th>\n",
       "      <td>36.307805</td>\n",
       "      <td>0.0750</td>\n",
       "      <td>0.010</td>\n",
       "      <td>0.0066</td>\n",
       "      <td>0.002</td>\n",
       "    </tr>\n",
       "  </tbody>\n",
       "</table>\n",
       "</div>"
      ],
      "text/plain": [
       "   Frequency     V_R  Scala V  Delta t  Scala T\n",
       "0   1.000000  0.0020    0.001   0.2480    0.040\n",
       "1   3.019952  0.0062    0.001   0.0820    0.020\n",
       "2  10.471285  0.0215    0.005   0.0236    0.004\n",
       "3  20.892961  0.0430    0.010   0.0116    0.002\n",
       "4  36.307805  0.0750    0.010   0.0066    0.002"
      ]
     },
     "execution_count": 11,
     "metadata": {},
     "output_type": "execute_result"
    }
   ],
   "source": [
    "df = pandas.read_csv('data/dati-RLC.csv')\n",
    "df.head()"
   ]
  },
  {
   "cell_type": "markdown",
   "metadata": {},
   "source": [
    "I dati del data frame vengono utilizzati per calcolare le grandezze di interesse:\n",
    "* $V_R$\n",
    "* $\\phi = 2 \\pi \\frac{\\Delta t}{T}$\n",
    "\n",
    "e le rispettive incertezze."
   ]
  },
  {
   "cell_type": "code",
   "execution_count": 12,
   "metadata": {},
   "outputs": [
    {
     "data": {
      "text/plain": [
       "array([0.002 , 0.0062, 0.0215, 0.043 , 0.075 , 0.17  , 0.225 , 0.26  ,\n",
       "       0.295 , 0.335 , 0.38  , 0.44  , 0.49  , 0.56  , 0.62  , 0.7   ,\n",
       "       0.77  , 0.84  , 0.9   , 0.94  , 0.98  , 1.    , 0.98  , 0.96  ,\n",
       "       0.9   , 0.84  , 0.76  , 0.7   , 0.63  , 0.56  , 0.5   , 0.44  ,\n",
       "       0.39  , 0.34  , 0.3   , 0.26  , 0.195 , 0.15  , 0.114 , 0.076 ,\n",
       "       0.038 , 0.022 , 0.0144, 0.0032, 0.0016])"
      ]
     },
     "execution_count": 12,
     "metadata": {},
     "output_type": "execute_result"
    }
   ],
   "source": [
    "gain = df['V_R'].values\n",
    "phase = 2*math.pi*df['Delta t'].values*df['Frequency'].values\n",
    "freq = df['Frequency'].values\n",
    "gain"
   ]
  },
  {
   "cell_type": "markdown",
   "metadata": {},
   "source": [
    "Supponendo uniforme la distribuzione di probabilità all'interno della distribuzione i valori degli errori andrebbero divisi per un fattore costante $\\sqrt{12}$, che in questo elaborato è omesso per semplicità, in quanto già sappiamo come si riflette sul risultato finale."
   ]
  },
  {
   "cell_type": "code",
   "execution_count": 13,
   "metadata": {},
   "outputs": [],
   "source": [
    "err_gain=(0.1*df['Scala V'].values)\n",
    "err_phase=2*0.1*math.pi*df['Scala T'].values*df['Frequency'].values"
   ]
  },
  {
   "cell_type": "markdown",
   "metadata": {},
   "source": [
    "Si graficano poi l'ampiezza della tensione ai capi del resistore e la sua fase"
   ]
  },
  {
   "cell_type": "code",
   "execution_count": 14,
   "metadata": {},
   "outputs": [
    {
     "data": {
      "image/png": "[encoded data removed]",
      "text/plain": [
       "<Figure size 800x500 with 1 Axes>"
      ]
     },
     "metadata": {
      "needs_background": "light"
     },
     "output_type": "display_data"
    }
   ],
   "source": [
    "plt.figure(figsize=(8,5),dpi=100)\n",
    "plt.errorbar(freq , gain, err_gain, ls='none', marker=\".\")\n",
    "plt.xscale('log')\n",
    "plt.title('$V_R$ in funzione della frequenza')\n",
    "plt.xlabel('Frequenza (Hz)')\n",
    "plt.ylabel('$V_R$ (V)')\n",
    "plt.show()"
   ]
  },
  {
   "cell_type": "code",
   "execution_count": 15,
   "metadata": {},
   "outputs": [
    {
     "data": {
      "image/png": "[encoded data removed]",
      "text/plain": [
       "<Figure size 800x500 with 1 Axes>"
      ]
     },
     "metadata": {
      "needs_background": "light"
     },
     "output_type": "display_data"
    }
   ],
   "source": [
    "plt.figure(figsize=(8,5),dpi=100)\n",
    "plt.errorbar(freq , phase, err_phase, ls='none', marker=\".\")\n",
    "plt.xscale('log')\n",
    "plt.title('Sfasamento in funzione della frequenza')\n",
    "plt.xlabel('Frequenza (Hz)')\n",
    "plt.ylabel('Fase (rad)')\n",
    "plt.show()"
   ]
  },
  {
   "cell_type": "markdown",
   "metadata": {},
   "source": [
    "Dalla risoluzione teorica del circuito si ricava che la tensione ai capi del resistore è pari a:\n",
    "$$ V_R = \\frac{V_{gen}}{\\sqrt{1+ Q^2 \\left(\\frac{f}{f_0} - \\frac{f_0}{f}\\right)^2}}$$"
   ]
  },
  {
   "cell_type": "code",
   "execution_count": 16,
   "metadata": {},
   "outputs": [],
   "source": [
    "def model_ampl(x, par):\n",
    "    return V/np.sqrt(1+(((par[0])**2)*(((x/par[1])-(par[1]/x))**2)))"
   ]
  },
  {
   "cell_type": "markdown",
   "metadata": {},
   "source": [
    "Si effettua, con l'ausilio della libreiria minuit, un fit:"
   ]
  },
  {
   "cell_type": "code",
   "execution_count": 17,
   "metadata": {},
   "outputs": [],
   "source": [
    "least_squares_mode = LeastSquares(freq, gain, err_gain, model_ampl)\n",
    "m = Minuit(least_squares_mode, (0.5, 16000), name=(\"$Q$\", \"$f_0$\"))\n",
    "m.limits=((0,100000), (0, 1000000))"
   ]
  },
  {
   "cell_type": "code",
   "execution_count": 18,
   "metadata": {},
   "outputs": [
    {
     "data": {
      "text/html": [
       "<table>\n",
       "    <tr>\n",
       "        <td colspan=\"2\" style=\"text-align:left\" title=\"Minimum value of function\"> FCN = 6.026 </td>\n",
       "        <td colspan=\"3\" style=\"text-align:center\" title=\"No. of function evaluations in last call and total number\"> Nfcn = 70 </td>\n",
       "    </tr>\n",
       "    <tr>\n",
       "        <td colspan=\"2\" style=\"text-align:left\" title=\"Estimated distance to minimum and goal\"> EDM = 7.33e-06 (Goal: 0.0002) </td>\n",
       "        <td colspan=\"3\" style=\"text-align:center\" title=\"No. of gradient evaluations in last call and total number\">  </td>\n",
       "    </tr>\n",
       "    <tr>\n",
       "        <td style=\"text-align:center;background-color:#92CCA6;color:black\"> Valid Minimum </td>\n",
       "        <td style=\"text-align:center;background-color:#92CCA6;color:black\"> Valid Parameters </td>\n",
       "        <td colspan=\"3\" style=\"text-align:center;background-color:#92CCA6;color:black\"> No Parameters at limit </td>\n",
       "    </tr>\n",
       "    <tr>\n",
       "        <td colspan=\"2\" style=\"text-align:center;background-color:#92CCA6;color:black\"> Below EDM threshold (goal x 10) </td>\n",
       "        <td colspan=\"3\" style=\"text-align:center;background-color:#92CCA6;color:black\"> Below call limit </td>\n",
       "    </tr>\n",
       "    <tr>\n",
       "        <td style=\"text-align:center;background-color:#92CCA6;color:black\"> Covariance </td>\n",
       "        <td style=\"text-align:center;background-color:#92CCA6;color:black\"> Hesse ok </td>\n",
       "        <td style=\"text-align:center;background-color:#92CCA6;color:black\" title=\"Is covariance matrix accurate?\"> Accurate </td>\n",
       "        <td style=\"text-align:center;background-color:#92CCA6;color:black\" title=\"Is covariance matrix positive definite?\"> Pos. def. </td>\n",
       "        <td style=\"text-align:center;background-color:#92CCA6;color:black\" title=\"Was positive definiteness enforced by Minuit?\"> Not forced </td>\n",
       "    </tr>\n",
       "</table><table>\n",
       "    <tr>\n",
       "        <td></td>\n",
       "        <th title=\"Variable name\"> Name </th>\n",
       "        <th title=\"Value of parameter\"> Value </th>\n",
       "        <th title=\"Hesse error\"> Hesse Error </th>\n",
       "        <th title=\"Minos lower error\"> Minos Error- </th>\n",
       "        <th title=\"Minos upper error\"> Minos Error+ </th>\n",
       "        <th title=\"Lower limit of the parameter\"> Limit- </th>\n",
       "        <th title=\"Upper limit of the parameter\"> Limit+ </th>\n",
       "        <th title=\"Is the parameter fixed in the fit\"> Fixed </th>\n",
       "    </tr>\n",
       "    <tr>\n",
       "        <th> 0 </th>\n",
       "        <td> $Q$ </td>\n",
       "        <td> 0.5522 </td>\n",
       "        <td> 0.0019 </td>\n",
       "        <td>  </td>\n",
       "        <td>  </td>\n",
       "        <td> 0 </td>\n",
       "        <td> 1E+05 </td>\n",
       "        <td>  </td>\n",
       "    </tr>\n",
       "    <tr>\n",
       "        <th> 1 </th>\n",
       "        <td> $f_0$ </td>\n",
       "        <td> 876.2 </td>\n",
       "        <td> 2.7 </td>\n",
       "        <td>  </td>\n",
       "        <td>  </td>\n",
       "        <td> 0 </td>\n",
       "        <td> 1E+06 </td>\n",
       "        <td>  </td>\n",
       "    </tr>\n",
       "</table><table>\n",
       "    <tr>\n",
       "        <td></td>\n",
       "        <th> $Q$ </th>\n",
       "        <th> $f_0$ </th>\n",
       "    </tr>\n",
       "    <tr>\n",
       "        <th> $Q$ </th>\n",
       "        <td> 3.52e-06 </td>\n",
       "        <td style=\"background-color:rgb(250,231,231);color:black\"> 0.000659 <strong>(0.129)</strong> </td>\n",
       "    </tr>\n",
       "    <tr>\n",
       "        <th> $f_0$ </th>\n",
       "        <td style=\"background-color:rgb(250,231,231);color:black\"> 0.000659 <strong>(0.129)</strong> </td>\n",
       "        <td> 7.39 </td>\n",
       "    </tr>\n",
       "</table>"
      ],
      "text/plain": [
       "┌──────────────────────────────────┬──────────────────────────────────────┐\n",
       "│ FCN = 6.026                      │              Nfcn = 70               │\n",
       "│ EDM = 7.33e-06 (Goal: 0.0002)    │                                      │\n",
       "├───────────────┬──────────────────┼──────────────────────────────────────┤\n",
       "│ Valid Minimum │ Valid Parameters │        No Parameters at limit        │\n",
       "├───────────────┴──────────────────┼──────────────────────────────────────┤\n",
       "│ Below EDM threshold (goal x 10)  │           Below call limit           │\n",
       "├───────────────┬──────────────────┼───────────┬─────────────┬────────────┤\n",
       "│  Covariance   │     Hesse ok     │ Accurate  │  Pos. def.  │ Not forced │\n",
       "└───────────────┴──────────────────┴───────────┴─────────────┴────────────┘\n",
       "┌───┬───────┬───────────┬───────────┬────────────┬────────────┬─────────┬─────────┬───────┐\n",
       "│   │ Name  │   Value   │ Hesse Err │ Minos Err- │ Minos Err+ │ Limit-  │ Limit+  │ Fixed │\n",
       "├───┼───────┼───────────┼───────────┼────────────┼────────────┼─────────┼─────────┼───────┤\n",
       "│ 0 │ $Q$   │  0.5522   │  0.0019   │            │            │    0    │ 100000  │       │\n",
       "│ 1 │ $f_0$ │   876.2   │    2.7    │            │            │    0    │  1e+06  │       │\n",
       "└───┴───────┴───────────┴───────────┴────────────┴────────────┴─────────┴─────────┴───────┘\n",
       "┌───────┬───────────────────┐\n",
       "│       │      $Q$    $f_0$ │\n",
       "├───────┼───────────────────┤\n",
       "│   $Q$ │ 3.52e-06 0.000659 │\n",
       "│ $f_0$ │ 0.000659     7.39 │\n",
       "└───────┴───────────────────┘"
      ]
     },
     "execution_count": 18,
     "metadata": {},
     "output_type": "execute_result"
    }
   ],
   "source": [
    "m.migrad()"
   ]
  },
  {
   "cell_type": "code",
   "execution_count": 22,
   "metadata": {},
   "outputs": [
    {
     "data": {
      "image/png": "[encoded data removed]",
      "text/plain": [
       "<Figure size 1000x500 with 1 Axes>"
      ]
     },
     "metadata": {
      "needs_background": "light"
     },
     "output_type": "display_data"
    },
    {
     "data": {
      "image/png": "[encoded data removed]",
      "text/plain": [
       "<Figure size 1000x100 with 1 Axes>"
      ]
     },
     "metadata": {
      "needs_background": "light"
     },
     "output_type": "display_data"
    }
   ],
   "source": [
    "x=np.logspace(0, 6, num=200, base=10.0)\n",
    "plt.figure(figsize=(10,5),dpi=100)\n",
    "plt.plot(x , model_ampl(x, m.values), color=\"red\", zorder=2)\n",
    "plt.errorbar(freq, gain, err_gain, ls='none', marker=\"o\", zorder=1)\n",
    "plt.xscale('log')\n",
    "plt.xlabel('Freq. (Hz)')\n",
    "plt.ylabel('$V_R$ (V)')\n",
    "plt.show()\n",
    "plt.figure(figsize=(10,1),dpi=100)\n",
    "plt.errorbar(freq, (gain-model_ampl(freq, m.values))/err_gain, 1, fmt=\"o\", zorder=1)\n",
    "plt.plot([freq[0], freq[-1]], [0,0], zorder=2)\n",
    "plt.xlabel('Frequenza (Hz)')\n",
    "plt.ylabel('pull (res./err)')\n",
    "plt.xscale('log')\n",
    "plt.show()"
   ]
  },
  {
   "cell_type": "markdown",
   "metadata": {},
   "source": [
    "Dal grafico dei *pull* (= residuo /errore) sembra che gli errori siano stati sovrastimati."
   ]
  },
  {
   "cell_type": "markdown",
   "metadata": {},
   "source": [
    "Si ricava quindi una stima della frequenza di risonanza e del fattore di merito."
   ]
  },
  {
   "cell_type": "code",
   "execution_count": 24,
   "metadata": {},
   "outputs": [
    {
     "name": "stdout",
     "output_type": "stream",
     "text": [
      "Q = 0.5522 +/- 0.0019\n",
      "f0 = 876.18 +/- 2.7\n"
     ]
    }
   ],
   "source": [
    "print(\"Q = {:.4f} +/- {:.4f}\".format(m.values[r\"$Q$\"], m.errors[r\"$Q$\"]))\n",
    "print(\"f0 = {:.2f} +/- {:.1f}\".format(m.values[r\"$f_0$\"], m.errors[r\"$f_0$\"]))"
   ]
  },
  {
   "cell_type": "markdown",
   "metadata": {},
   "source": [
    "Si ripete poi lo stesso per la fase utilizzando il modello\n",
    "$$\\phi = -arctan\\left(Q \\left(\\frac{f}{f_0} - \\frac{f_0}{f}\\right)\\right)$$"
   ]
  },
  {
   "cell_type": "code",
   "execution_count": 25,
   "metadata": {},
   "outputs": [],
   "source": [
    "def model_sfas(x, par):\n",
    "    return -np.arctan((((par[0]))*(((x/par[1])-(par[1]/x)))))"
   ]
  },
  {
   "cell_type": "code",
   "execution_count": 26,
   "metadata": {},
   "outputs": [],
   "source": [
    "least_squares_mode = LeastSquares(freq, phase, err_phase, model_sfas)\n",
    "m1 = Minuit(least_squares_mode, (0.5, 16000), name=(\"$Q$\", \"$f_0$\"))\n",
    "m1.limits=((0,3), (1, 1000000))"
   ]
  },
  {
   "cell_type": "code",
   "execution_count": 27,
   "metadata": {},
   "outputs": [
    {
     "data": {
      "text/html": [
       "<table>\n",
       "    <tr>\n",
       "        <td colspan=\"2\" style=\"text-align:left\" title=\"Minimum value of function\"> FCN = 3.896 </td>\n",
       "        <td colspan=\"3\" style=\"text-align:center\" title=\"No. of function evaluations in last call and total number\"> Nfcn = 139 </td>\n",
       "    </tr>\n",
       "    <tr>\n",
       "        <td colspan=\"2\" style=\"text-align:left\" title=\"Estimated distance to minimum and goal\"> EDM = 1.26e-05 (Goal: 0.0002) </td>\n",
       "        <td colspan=\"3\" style=\"text-align:center\" title=\"No. of gradient evaluations in last call and total number\">  </td>\n",
       "    </tr>\n",
       "    <tr>\n",
       "        <td style=\"text-align:center;background-color:#92CCA6;color:black\"> Valid Minimum </td>\n",
       "        <td style=\"text-align:center;background-color:#92CCA6;color:black\"> Valid Parameters </td>\n",
       "        <td colspan=\"3\" style=\"text-align:center;background-color:#92CCA6;color:black\"> No Parameters at limit </td>\n",
       "    </tr>\n",
       "    <tr>\n",
       "        <td colspan=\"2\" style=\"text-align:center;background-color:#92CCA6;color:black\"> Below EDM threshold (goal x 10) </td>\n",
       "        <td colspan=\"3\" style=\"text-align:center;background-color:#92CCA6;color:black\"> Below call limit </td>\n",
       "    </tr>\n",
       "    <tr>\n",
       "        <td style=\"text-align:center;background-color:#92CCA6;color:black\"> Covariance </td>\n",
       "        <td style=\"text-align:center;background-color:#92CCA6;color:black\"> Hesse ok </td>\n",
       "        <td style=\"text-align:center;background-color:#92CCA6;color:black\" title=\"Is covariance matrix accurate?\"> Accurate </td>\n",
       "        <td style=\"text-align:center;background-color:#92CCA6;color:black\" title=\"Is covariance matrix positive definite?\"> Pos. def. </td>\n",
       "        <td style=\"text-align:center;background-color:#92CCA6;color:black\" title=\"Was positive definiteness enforced by Minuit?\"> Not forced </td>\n",
       "    </tr>\n",
       "</table><table>\n",
       "    <tr>\n",
       "        <td></td>\n",
       "        <th title=\"Variable name\"> Name </th>\n",
       "        <th title=\"Value of parameter\"> Value </th>\n",
       "        <th title=\"Hesse error\"> Hesse Error </th>\n",
       "        <th title=\"Minos lower error\"> Minos Error- </th>\n",
       "        <th title=\"Minos upper error\"> Minos Error+ </th>\n",
       "        <th title=\"Lower limit of the parameter\"> Limit- </th>\n",
       "        <th title=\"Upper limit of the parameter\"> Limit+ </th>\n",
       "        <th title=\"Is the parameter fixed in the fit\"> Fixed </th>\n",
       "    </tr>\n",
       "    <tr>\n",
       "        <th> 0 </th>\n",
       "        <td> $Q$ </td>\n",
       "        <td> 0.5518 </td>\n",
       "        <td> 0.0029 </td>\n",
       "        <td>  </td>\n",
       "        <td>  </td>\n",
       "        <td> 0 </td>\n",
       "        <td> 3 </td>\n",
       "        <td>  </td>\n",
       "    </tr>\n",
       "    <tr>\n",
       "        <th> 1 </th>\n",
       "        <td> $f_0$ </td>\n",
       "        <td> 876.2 </td>\n",
       "        <td> 0.7 </td>\n",
       "        <td>  </td>\n",
       "        <td>  </td>\n",
       "        <td> 1 </td>\n",
       "        <td> 1E+06 </td>\n",
       "        <td>  </td>\n",
       "    </tr>\n",
       "</table><table>\n",
       "    <tr>\n",
       "        <td></td>\n",
       "        <th> $Q$ </th>\n",
       "        <th> $f_0$ </th>\n",
       "    </tr>\n",
       "    <tr>\n",
       "        <th> $Q$ </th>\n",
       "        <td> 8.57e-06 </td>\n",
       "        <td style=\"background-color:rgb(250,234,234);color:black\"> 0.000234 <strong>(0.108)</strong> </td>\n",
       "    </tr>\n",
       "    <tr>\n",
       "        <th> $f_0$ </th>\n",
       "        <td style=\"background-color:rgb(250,234,234);color:black\"> 0.000234 <strong>(0.108)</strong> </td>\n",
       "        <td> 0.544 </td>\n",
       "    </tr>\n",
       "</table>"
      ],
      "text/plain": [
       "┌──────────────────────────────────┬──────────────────────────────────────┐\n",
       "│ FCN = 3.896                      │              Nfcn = 139              │\n",
       "│ EDM = 1.26e-05 (Goal: 0.0002)    │                                      │\n",
       "├───────────────┬──────────────────┼──────────────────────────────────────┤\n",
       "│ Valid Minimum │ Valid Parameters │        No Parameters at limit        │\n",
       "├───────────────┴──────────────────┼──────────────────────────────────────┤\n",
       "│ Below EDM threshold (goal x 10)  │           Below call limit           │\n",
       "├───────────────┬──────────────────┼───────────┬─────────────┬────────────┤\n",
       "│  Covariance   │     Hesse ok     │ Accurate  │  Pos. def.  │ Not forced │\n",
       "└───────────────┴──────────────────┴───────────┴─────────────┴────────────┘\n",
       "┌───┬───────┬───────────┬───────────┬────────────┬────────────┬─────────┬─────────┬───────┐\n",
       "│   │ Name  │   Value   │ Hesse Err │ Minos Err- │ Minos Err+ │ Limit-  │ Limit+  │ Fixed │\n",
       "├───┼───────┼───────────┼───────────┼────────────┼────────────┼─────────┼─────────┼───────┤\n",
       "│ 0 │ $Q$   │  0.5518   │  0.0029   │            │            │    0    │    3    │       │\n",
       "│ 1 │ $f_0$ │   876.2   │    0.7    │            │            │    1    │  1e+06  │       │\n",
       "└───┴───────┴───────────┴───────────┴────────────┴────────────┴─────────┴─────────┴───────┘\n",
       "┌───────┬───────────────────┐\n",
       "│       │      $Q$    $f_0$ │\n",
       "├───────┼───────────────────┤\n",
       "│   $Q$ │ 8.57e-06 0.000234 │\n",
       "│ $f_0$ │ 0.000234    0.544 │\n",
       "└───────┴───────────────────┘"
      ]
     },
     "execution_count": 27,
     "metadata": {},
     "output_type": "execute_result"
    }
   ],
   "source": [
    "m1.migrad()"
   ]
  },
  {
   "cell_type": "code",
   "execution_count": 29,
   "metadata": {},
   "outputs": [
    {
     "data": {
      "image/png": "[encoded data removed]",
      "text/plain": [
       "<Figure size 1000x500 with 1 Axes>"
      ]
     },
     "metadata": {
      "needs_background": "light"
     },
     "output_type": "display_data"
    },
    {
     "data": {
      "image/png": "[encoded data removed]",
      "text/plain": [
       "<Figure size 1000x100 with 1 Axes>"
      ]
     },
     "metadata": {
      "needs_background": "light"
     },
     "output_type": "display_data"
    }
   ],
   "source": [
    "plt.figure(figsize=(10,5),dpi=100)\n",
    "plt.errorbar(freq , phase, err_phase, ls=\"none\", marker=\"o\", zorder=1)\n",
    "plt.plot(x , model_sfas(x, m1.values), color=\"red\", zorder=2)\n",
    "plt.xscale('log')\n",
    "plt.xlabel('Frequenza (Hz)')\n",
    "plt.ylabel('Fase (rad)')\n",
    "plt.show()\n",
    "plt.figure(figsize=(10,1),dpi=100)\n",
    "plt.errorbar(freq, (phase-model_sfas(freq, m1.values))/err_phase, 1, fmt=\"o\", zorder=1)\n",
    "plt.plot([freq[0], freq[-1]], [0,0], zorder=2)\n",
    "plt.xlabel('Frequenza (Hz)')\n",
    "plt.ylabel('pull')\n",
    "plt.xscale('log')\n",
    "plt.show()"
   ]
  },
  {
   "cell_type": "markdown",
   "metadata": {},
   "source": [
    "Dal fit ricaviamo che:"
   ]
  },
  {
   "cell_type": "code",
   "execution_count": 17,
   "metadata": {},
   "outputs": [
    {
     "name": "stdout",
     "output_type": "stream",
     "text": [
      "Q = 0.5518 +/- 0.0029\n",
      "f0 = 876.18 +/- 0.7\n"
     ]
    }
   ],
   "source": [
    "print(\"Q = {:.4f} +/- {:.4f}\".format(m1.values[r\"$Q$\"], m1.errors[r\"$Q$\"]))\n",
    "print(\"f0 = {:.2f} +/- {:.1f}\".format(m1.values[r\"$f_0$\"], m1.errors[r\"$f_0$\"]))"
   ]
  },
  {
   "cell_type": "markdown",
   "metadata": {},
   "source": [
    "Confrontiamo le stime dei parametri ottenuti dai due adattamenti:"
   ]
  },
  {
   "cell_type": "code",
   "execution_count": 31,
   "metadata": {},
   "outputs": [
    {
     "data": {
      "image/png": "[encoded data removed]",
      "text/plain": [
       "<Figure size 864x432 with 2 Axes>"
      ]
     },
     "metadata": {
      "needs_background": "light"
     },
     "output_type": "display_data"
    }
   ],
   "source": [
    "f0 = 1/((2*math.pi)*math.sqrt(L*C))\n",
    "Q = 1/R*math.sqrt(L/C)\n",
    "\n",
    "f  = plt.figure(figsize=(12,6))\n",
    "a1 = plt.subplot(1,2,1)\n",
    "a2 = plt.subplot(1,2,2)\n",
    "\n",
    "a2.set_yticklabels(()),a1.set_yticklabels(())\n",
    "a1.set_title(\"Q\")\n",
    "a2.set_title(\"$f_0$\")\n",
    "a1.errorbar(m.values[0] , 0, yerr=None, xerr=m.errors[0], ls=\"none\", marker=\"o\", zorder=1, label=\"Attenuazione\")\n",
    "a1.errorbar(m1.values[0] , 1, yerr=None, xerr=m1.errors[0], ls=\"none\", marker=\"o\", zorder=1, label=\"Fase\")\n",
    "a1.plot([Q,Q], [-0.5, 1.5], label=\"Valore vero (sim.)\")\n",
    "a1.set_xlabel('Fattore di merito')\n",
    "a1.legend()\n",
    "a2.errorbar(m.values[1] , 0, yerr=None, xerr=m.errors[1], ls=\"none\", marker=\"o\", zorder=1, label=\"Attenuazione\")\n",
    "a2.errorbar(m1.values[1] , 1, yerr=None, xerr=m1.errors[1], ls=\"none\", marker=\"o\", zorder=1, label=\"Fase\")\n",
    "a2.plot([f0, f0], [-0.5, 1.5], label=\"Valore vero (sim.)\")\n",
    "a2.set_xlabel('Frequenza di risonanza (Hz)')\n",
    "a2.legend()\n",
    "plt.show()\n"
   ]
  },
  {
   "cell_type": "markdown",
   "metadata": {},
   "source": [
    "Notiamo che con un fit della fase si ottiene una stima più accurata della frequenza di risonanza, mentre con quella della tensione ai capi del resistore è privilegiato il fattore di merito.\n",
    "Si prova poi con un fit simultaneo per stimare i due parametri di interesse:"
   ]
  },
  {
   "cell_type": "code",
   "execution_count": 32,
   "metadata": {},
   "outputs": [
    {
     "data": {
      "text/html": [
       "<table>\n",
       "    <tr>\n",
       "        <td colspan=\"2\" style=\"text-align:left\" title=\"Minimum value of function\"> FCN = 9.936 </td>\n",
       "        <td colspan=\"3\" style=\"text-align:center\" title=\"No. of function evaluations in last call and total number\"> Nfcn = 81 </td>\n",
       "    </tr>\n",
       "    <tr>\n",
       "        <td colspan=\"2\" style=\"text-align:left\" title=\"Estimated distance to minimum and goal\"> EDM = 1.78e-06 (Goal: 0.0002) </td>\n",
       "        <td colspan=\"3\" style=\"text-align:center\" title=\"No. of gradient evaluations in last call and total number\">  </td>\n",
       "    </tr>\n",
       "    <tr>\n",
       "        <td style=\"text-align:center;background-color:#92CCA6;color:black\"> Valid Minimum </td>\n",
       "        <td style=\"text-align:center;background-color:#92CCA6;color:black\"> Valid Parameters </td>\n",
       "        <td colspan=\"3\" style=\"text-align:center;background-color:#92CCA6;color:black\"> No Parameters at limit </td>\n",
       "    </tr>\n",
       "    <tr>\n",
       "        <td colspan=\"2\" style=\"text-align:center;background-color:#92CCA6;color:black\"> Below EDM threshold (goal x 10) </td>\n",
       "        <td colspan=\"3\" style=\"text-align:center;background-color:#92CCA6;color:black\"> Below call limit </td>\n",
       "    </tr>\n",
       "    <tr>\n",
       "        <td style=\"text-align:center;background-color:#92CCA6;color:black\"> Covariance </td>\n",
       "        <td style=\"text-align:center;background-color:#92CCA6;color:black\"> Hesse ok </td>\n",
       "        <td style=\"text-align:center;background-color:#92CCA6;color:black\" title=\"Is covariance matrix accurate?\"> Accurate </td>\n",
       "        <td style=\"text-align:center;background-color:#92CCA6;color:black\" title=\"Is covariance matrix positive definite?\"> Pos. def. </td>\n",
       "        <td style=\"text-align:center;background-color:#92CCA6;color:black\" title=\"Was positive definiteness enforced by Minuit?\"> Not forced </td>\n",
       "    </tr>\n",
       "</table><table>\n",
       "    <tr>\n",
       "        <td></td>\n",
       "        <th title=\"Variable name\"> Name </th>\n",
       "        <th title=\"Value of parameter\"> Value </th>\n",
       "        <th title=\"Hesse error\"> Hesse Error </th>\n",
       "        <th title=\"Minos lower error\"> Minos Error- </th>\n",
       "        <th title=\"Minos upper error\"> Minos Error+ </th>\n",
       "        <th title=\"Lower limit of the parameter\"> Limit- </th>\n",
       "        <th title=\"Upper limit of the parameter\"> Limit+ </th>\n",
       "        <th title=\"Is the parameter fixed in the fit\"> Fixed </th>\n",
       "    </tr>\n",
       "    <tr>\n",
       "        <th> 0 </th>\n",
       "        <td> $Q$ </td>\n",
       "        <td> 0.5521 </td>\n",
       "        <td> 0.0016 </td>\n",
       "        <td>  </td>\n",
       "        <td>  </td>\n",
       "        <td> 0 </td>\n",
       "        <td> 1E+05 </td>\n",
       "        <td>  </td>\n",
       "    </tr>\n",
       "    <tr>\n",
       "        <th> 1 </th>\n",
       "        <td> ${f}_0$ </td>\n",
       "        <td> 876.2 </td>\n",
       "        <td> 0.7 </td>\n",
       "        <td>  </td>\n",
       "        <td>  </td>\n",
       "        <td> 0 </td>\n",
       "        <td> 1E+06 </td>\n",
       "        <td>  </td>\n",
       "    </tr>\n",
       "</table><table>\n",
       "    <tr>\n",
       "        <td></td>\n",
       "        <th> $Q$ </th>\n",
       "        <th> ${f}_0$ </th>\n",
       "    </tr>\n",
       "    <tr>\n",
       "        <th> $Q$ </th>\n",
       "        <td> 2.47e-06 </td>\n",
       "        <td style=\"background-color:rgb(250,237,237);color:black\"> 9.46e-05 <strong>(0.085)</strong> </td>\n",
       "    </tr>\n",
       "    <tr>\n",
       "        <th> ${f}_0$ </th>\n",
       "        <td style=\"background-color:rgb(250,237,237);color:black\"> 9.46e-05 <strong>(0.085)</strong> </td>\n",
       "        <td> 0.504 </td>\n",
       "    </tr>\n",
       "</table>"
      ],
      "text/plain": [
       "┌──────────────────────────────────┬──────────────────────────────────────┐\n",
       "│ FCN = 9.936                      │              Nfcn = 81               │\n",
       "│ EDM = 1.78e-06 (Goal: 0.0002)    │                                      │\n",
       "├───────────────┬──────────────────┼──────────────────────────────────────┤\n",
       "│ Valid Minimum │ Valid Parameters │        No Parameters at limit        │\n",
       "├───────────────┴──────────────────┼──────────────────────────────────────┤\n",
       "│ Below EDM threshold (goal x 10)  │           Below call limit           │\n",
       "├───────────────┬──────────────────┼───────────┬─────────────┬────────────┤\n",
       "│  Covariance   │     Hesse ok     │ Accurate  │  Pos. def.  │ Not forced │\n",
       "└───────────────┴──────────────────┴───────────┴─────────────┴────────────┘\n",
       "┌───┬─────────┬───────────┬───────────┬────────────┬────────────┬─────────┬─────────┬───────┐\n",
       "│   │ Name    │   Value   │ Hesse Err │ Minos Err- │ Minos Err+ │ Limit-  │ Limit+  │ Fixed │\n",
       "├───┼─────────┼───────────┼───────────┼────────────┼────────────┼─────────┼─────────┼───────┤\n",
       "│ 0 │ $Q$     │  0.5521   │  0.0016   │            │            │    0    │ 100000  │       │\n",
       "│ 1 │ ${f}_0$ │   876.2   │    0.7    │            │            │    0    │  1e+06  │       │\n",
       "└───┴─────────┴───────────┴───────────┴────────────┴────────────┴─────────┴─────────┴───────┘\n",
       "┌─────────┬───────────────────┐\n",
       "│         │      $Q$  ${f}_0$ │\n",
       "├─────────┼───────────────────┤\n",
       "│     $Q$ │ 2.47e-06 9.46e-05 │\n",
       "│ ${f}_0$ │ 9.46e-05    0.504 │\n",
       "└─────────┴───────────────────┘"
      ]
     },
     "execution_count": 32,
     "metadata": {},
     "output_type": "execute_result"
    }
   ],
   "source": [
    "combo_x = np.append(freq, freq)\n",
    "combo_y = np.append(gain, phase)\n",
    "def combo_func(combo_data, param):\n",
    "    # single data set passed in, extract separate data\n",
    "    extract1 = combo_data[:len(gain)] # first data\n",
    "    extract2 = combo_data[len(phase):] # second data\n",
    "    result1 = model_ampl(extract1, param)\n",
    "    result2 = model_sfas(extract2, param)\n",
    "    return np.append(result1, result2)\n",
    "\n",
    "least_squares_mode = LeastSquares(combo_x, combo_y, np.append(err_gain, err_phase), combo_func)\n",
    "mt = Minuit(least_squares_mode, (0.5, 16000), name=(\"$Q$\", \"${f}_0$\"))\n",
    "mt.limits=((0,100000), (0, 1000000))\n",
    "mt.migrad()"
   ]
  },
  {
   "cell_type": "markdown",
   "metadata": {},
   "source": [
    "Si confronta il risultato ottenuto con i precedenti"
   ]
  },
  {
   "cell_type": "code",
   "execution_count": 34,
   "metadata": {},
   "outputs": [
    {
     "data": {
      "image/png": "[encoded data removed]",
      "text/plain": [
       "<Figure size 864x432 with 2 Axes>"
      ]
     },
     "metadata": {
      "needs_background": "light"
     },
     "output_type": "display_data"
    }
   ],
   "source": [
    "f  = plt.figure(figsize=(12,6))\n",
    "a1 = plt.subplot(1,2,1)\n",
    "a2 = plt.subplot(1,2,2)\n",
    "\n",
    "a2.set_yticklabels(()),a1.set_yticklabels(())\n",
    "a1.set_title(\"Q\")\n",
    "a2.set_title(\"$f_0$\")\n",
    "a1.errorbar(m.values[0] , 0, yerr=None, xerr=m.errors[0], ls=\"none\", marker=\"o\", zorder=1, label=\"Attenuazione\")\n",
    "a1.errorbar(m1.values[0] , 1, yerr=None, xerr=m1.errors[0], ls=\"none\", marker=\"o\", zorder=1, label=\"Fase\")\n",
    "a1.errorbar(mt.values[0] , 0.5, yerr=None, xerr=mt.errors[0], ls=\"none\", marker=\"o\", zorder=1, label=\"Simultaneo\")\n",
    "a1.plot([Q,Q], [-0.5, 1.5], label=\"Valore vero (sim.)\")\n",
    "a1.legend()\n",
    "a1.set_xlabel('Fattore di merito')\n",
    "a2.errorbar(m.values[1] , 0, yerr=None, xerr=m.errors[1], ls=\"none\", marker=\"o\", zorder=1, label=\"Attenuazione\")\n",
    "a2.errorbar(m1.values[1] , 1, yerr=None, xerr=m1.errors[1], ls=\"none\", marker=\"o\", zorder=1, label=\"Fase\")\n",
    "a2.errorbar(mt.values[1] , 0.5, yerr=None, xerr=mt.errors[1], ls=\"none\", marker=\"o\", zorder=1, label=\"Simultaneo\")\n",
    "a2.plot([f0, f0], [-0.5, 1.5], label=\"Valore vero (sim.)\")\n",
    "a2.set_xlabel('Frequenza di risonanza (Hz)')\n",
    "a2.legend()\n",
    "plt.show()"
   ]
  },
  {
   "cell_type": "markdown",
   "metadata": {},
   "source": [
    "Come cambia la situazione considerando anche $V_{gen}$ come un parametro?"
   ]
  },
  {
   "cell_type": "code",
   "execution_count": 35,
   "metadata": {},
   "outputs": [],
   "source": [
    "#Lasciamo libera la costante di normailzzazione\n",
    "def model_ampl1(x, par):\n",
    "    return par[0]/np.sqrt(1+(((par[1])**2)*(((x/par[2])-(par[2]/x))**2)))"
   ]
  },
  {
   "cell_type": "code",
   "execution_count": 36,
   "metadata": {},
   "outputs": [
    {
     "data": {
      "text/html": [
       "<table>\n",
       "    <tr>\n",
       "        <td colspan=\"2\" style=\"text-align:left\" title=\"Minimum value of function\"> FCN = 5.758 </td>\n",
       "        <td colspan=\"3\" style=\"text-align:center\" title=\"No. of function evaluations in last call and total number\"> Nfcn = 245 </td>\n",
       "    </tr>\n",
       "    <tr>\n",
       "        <td colspan=\"2\" style=\"text-align:left\" title=\"Estimated distance to minimum and goal\"> EDM = 7.83e-05 (Goal: 0.0002) </td>\n",
       "        <td colspan=\"3\" style=\"text-align:center\" title=\"No. of gradient evaluations in last call and total number\">  </td>\n",
       "    </tr>\n",
       "    <tr>\n",
       "        <td style=\"text-align:center;background-color:#92CCA6;color:black\"> Valid Minimum </td>\n",
       "        <td style=\"text-align:center;background-color:#92CCA6;color:black\"> Valid Parameters </td>\n",
       "        <td colspan=\"3\" style=\"text-align:center;background-color:#92CCA6;color:black\"> No Parameters at limit </td>\n",
       "    </tr>\n",
       "    <tr>\n",
       "        <td colspan=\"2\" style=\"text-align:center;background-color:#92CCA6;color:black\"> Below EDM threshold (goal x 10) </td>\n",
       "        <td colspan=\"3\" style=\"text-align:center;background-color:#92CCA6;color:black\"> Below call limit </td>\n",
       "    </tr>\n",
       "    <tr>\n",
       "        <td style=\"text-align:center;background-color:#92CCA6;color:black\"> Covariance </td>\n",
       "        <td style=\"text-align:center;background-color:#92CCA6;color:black\"> Hesse ok </td>\n",
       "        <td style=\"text-align:center;background-color:#92CCA6;color:black\" title=\"Is covariance matrix accurate?\"> Accurate </td>\n",
       "        <td style=\"text-align:center;background-color:#92CCA6;color:black\" title=\"Is covariance matrix positive definite?\"> Pos. def. </td>\n",
       "        <td style=\"text-align:center;background-color:#92CCA6;color:black\" title=\"Was positive definiteness enforced by Minuit?\"> Not forced </td>\n",
       "    </tr>\n",
       "</table><table>\n",
       "    <tr>\n",
       "        <td></td>\n",
       "        <th title=\"Variable name\"> Name </th>\n",
       "        <th title=\"Value of parameter\"> Value </th>\n",
       "        <th title=\"Hesse error\"> Hesse Error </th>\n",
       "        <th title=\"Minos lower error\"> Minos Error- </th>\n",
       "        <th title=\"Minos upper error\"> Minos Error+ </th>\n",
       "        <th title=\"Lower limit of the parameter\"> Limit- </th>\n",
       "        <th title=\"Upper limit of the parameter\"> Limit+ </th>\n",
       "        <th title=\"Is the parameter fixed in the fit\"> Fixed </th>\n",
       "    </tr>\n",
       "    <tr>\n",
       "        <th> 0 </th>\n",
       "        <td> A </td>\n",
       "        <td> 0.996 </td>\n",
       "        <td> 0.007 </td>\n",
       "        <td>  </td>\n",
       "        <td>  </td>\n",
       "        <td> 0 </td>\n",
       "        <td> 1 </td>\n",
       "        <td>  </td>\n",
       "    </tr>\n",
       "    <tr>\n",
       "        <th> 1 </th>\n",
       "        <td> $Q$ </td>\n",
       "        <td> 0.550 </td>\n",
       "        <td> 0.005 </td>\n",
       "        <td>  </td>\n",
       "        <td>  </td>\n",
       "        <td> 0 </td>\n",
       "        <td> 1E+05 </td>\n",
       "        <td>  </td>\n",
       "    </tr>\n",
       "    <tr>\n",
       "        <th> 2 </th>\n",
       "        <td> ${f}_0$ </td>\n",
       "        <td> 876.1 </td>\n",
       "        <td> 2.7 </td>\n",
       "        <td>  </td>\n",
       "        <td>  </td>\n",
       "        <td> 0 </td>\n",
       "        <td> 1E+06 </td>\n",
       "        <td>  </td>\n",
       "    </tr>\n",
       "</table><table>\n",
       "    <tr>\n",
       "        <td></td>\n",
       "        <th> A </th>\n",
       "        <th> $Q$ </th>\n",
       "        <th> ${f}_0$ </th>\n",
       "    </tr>\n",
       "    <tr>\n",
       "        <th> A </th>\n",
       "        <td> 4.74e-05 </td>\n",
       "        <td style=\"background-color:rgb(250,112,112);color:black\"> 3.05e-05 <strong>(0.922)</strong> </td>\n",
       "        <td style=\"background-color:rgb(250,239,239);color:black\"> 0.00138 <strong>(0.074)</strong> </td>\n",
       "    </tr>\n",
       "    <tr>\n",
       "        <th> $Q$ </th>\n",
       "        <td style=\"background-color:rgb(250,112,112);color:black\"> 3.05e-05 <strong>(0.922)</strong> </td>\n",
       "        <td> 2.32e-05 </td>\n",
       "        <td style=\"background-color:rgb(250,232,232);color:black\"> 0.00155 <strong>(0.118)</strong> </td>\n",
       "    </tr>\n",
       "    <tr>\n",
       "        <th> ${f}_0$ </th>\n",
       "        <td style=\"background-color:rgb(250,239,239);color:black\"> 0.00138 <strong>(0.074)</strong> </td>\n",
       "        <td style=\"background-color:rgb(250,232,232);color:black\"> 0.00155 <strong>(0.118)</strong> </td>\n",
       "        <td> 7.45 </td>\n",
       "    </tr>\n",
       "</table>"
      ],
      "text/plain": [
       "┌──────────────────────────────────┬──────────────────────────────────────┐\n",
       "│ FCN = 5.758                      │              Nfcn = 245              │\n",
       "│ EDM = 7.83e-05 (Goal: 0.0002)    │                                      │\n",
       "├───────────────┬──────────────────┼──────────────────────────────────────┤\n",
       "│ Valid Minimum │ Valid Parameters │        No Parameters at limit        │\n",
       "├───────────────┴──────────────────┼──────────────────────────────────────┤\n",
       "│ Below EDM threshold (goal x 10)  │           Below call limit           │\n",
       "├───────────────┬──────────────────┼───────────┬─────────────┬────────────┤\n",
       "│  Covariance   │     Hesse ok     │ Accurate  │  Pos. def.  │ Not forced │\n",
       "└───────────────┴──────────────────┴───────────┴─────────────┴────────────┘\n",
       "┌───┬─────────┬───────────┬───────────┬────────────┬────────────┬─────────┬─────────┬───────┐\n",
       "│   │ Name    │   Value   │ Hesse Err │ Minos Err- │ Minos Err+ │ Limit-  │ Limit+  │ Fixed │\n",
       "├───┼─────────┼───────────┼───────────┼────────────┼────────────┼─────────┼─────────┼───────┤\n",
       "│ 0 │ A       │   0.996   │   0.007   │            │            │    0    │    1    │       │\n",
       "│ 1 │ $Q$     │   0.550   │   0.005   │            │            │    0    │ 100000  │       │\n",
       "│ 2 │ ${f}_0$ │   876.1   │    2.7    │            │            │    0    │  1e+06  │       │\n",
       "└───┴─────────┴───────────┴───────────┴────────────┴────────────┴─────────┴─────────┴───────┘\n",
       "┌─────────┬────────────────────────────┐\n",
       "│         │        A      $Q$  ${f}_0$ │\n",
       "├─────────┼────────────────────────────┤\n",
       "│       A │ 4.74e-05 3.05e-05  0.00138 │\n",
       "│     $Q$ │ 3.05e-05 2.32e-05  0.00155 │\n",
       "│ ${f}_0$ │  0.00138  0.00155     7.45 │\n",
       "└─────────┴────────────────────────────┘"
      ]
     },
     "execution_count": 36,
     "metadata": {},
     "output_type": "execute_result"
    }
   ],
   "source": [
    "least_squares_mode = LeastSquares(freq, gain, err_gain, model_ampl1)\n",
    "ia = Minuit(least_squares_mode, (1,0.5, 16000), name=(\"A\",\"$Q$\", \"${f}_0$\"))\n",
    "ia.limits=((0,1),(0,100000), (0, 1000000))\n",
    "ia.migrad()"
   ]
  },
  {
   "cell_type": "code",
   "execution_count": 37,
   "metadata": {},
   "outputs": [
    {
     "data": {
      "text/html": [
       "<table>\n",
       "    <tr>\n",
       "        <td colspan=\"2\" style=\"text-align:left\" title=\"Minimum value of function\"> FCN = 9.769 </td>\n",
       "        <td colspan=\"3\" style=\"text-align:center\" title=\"No. of function evaluations in last call and total number\"> Nfcn = 76 </td>\n",
       "    </tr>\n",
       "    <tr>\n",
       "        <td colspan=\"2\" style=\"text-align:left\" title=\"Estimated distance to minimum and goal\"> EDM = 2.59e-06 (Goal: 0.0002) </td>\n",
       "        <td colspan=\"3\" style=\"text-align:center\" title=\"No. of gradient evaluations in last call and total number\">  </td>\n",
       "    </tr>\n",
       "    <tr>\n",
       "        <td style=\"text-align:center;background-color:#92CCA6;color:black\"> Valid Minimum </td>\n",
       "        <td style=\"text-align:center;background-color:#92CCA6;color:black\"> Valid Parameters </td>\n",
       "        <td colspan=\"3\" style=\"text-align:center;background-color:#92CCA6;color:black\"> No Parameters at limit </td>\n",
       "    </tr>\n",
       "    <tr>\n",
       "        <td colspan=\"2\" style=\"text-align:center;background-color:#92CCA6;color:black\"> Below EDM threshold (goal x 10) </td>\n",
       "        <td colspan=\"3\" style=\"text-align:center;background-color:#92CCA6;color:black\"> Below call limit </td>\n",
       "    </tr>\n",
       "    <tr>\n",
       "        <td style=\"text-align:center;background-color:#92CCA6;color:black\"> Covariance </td>\n",
       "        <td style=\"text-align:center;background-color:#92CCA6;color:black\"> Hesse ok </td>\n",
       "        <td style=\"text-align:center;background-color:#92CCA6;color:black\" title=\"Is covariance matrix accurate?\"> Accurate </td>\n",
       "        <td style=\"text-align:center;background-color:#92CCA6;color:black\" title=\"Is covariance matrix positive definite?\"> Pos. def. </td>\n",
       "        <td style=\"text-align:center;background-color:#92CCA6;color:black\" title=\"Was positive definiteness enforced by Minuit?\"> Not forced </td>\n",
       "    </tr>\n",
       "</table><table>\n",
       "    <tr>\n",
       "        <td></td>\n",
       "        <th title=\"Variable name\"> Name </th>\n",
       "        <th title=\"Value of parameter\"> Value </th>\n",
       "        <th title=\"Hesse error\"> Hesse Error </th>\n",
       "        <th title=\"Minos lower error\"> Minos Error- </th>\n",
       "        <th title=\"Minos upper error\"> Minos Error+ </th>\n",
       "        <th title=\"Lower limit of the parameter\"> Limit- </th>\n",
       "        <th title=\"Upper limit of the parameter\"> Limit+ </th>\n",
       "        <th title=\"Is the parameter fixed in the fit\"> Fixed </th>\n",
       "    </tr>\n",
       "    <tr>\n",
       "        <th> 0 </th>\n",
       "        <td> A </td>\n",
       "        <td> 0.998 </td>\n",
       "        <td> 0.004 </td>\n",
       "        <td>  </td>\n",
       "        <td>  </td>\n",
       "        <td> 0 </td>\n",
       "        <td> 1.5 </td>\n",
       "        <td>  </td>\n",
       "    </tr>\n",
       "    <tr>\n",
       "        <th> 1 </th>\n",
       "        <td> $Q$ </td>\n",
       "        <td> 0.5513 </td>\n",
       "        <td> 0.0025 </td>\n",
       "        <td>  </td>\n",
       "        <td>  </td>\n",
       "        <td> 0 </td>\n",
       "        <td> 10 </td>\n",
       "        <td>  </td>\n",
       "    </tr>\n",
       "    <tr>\n",
       "        <th> 2 </th>\n",
       "        <td> ${f}_0$ </td>\n",
       "        <td> 876.2 </td>\n",
       "        <td> 0.7 </td>\n",
       "        <td>  </td>\n",
       "        <td>  </td>\n",
       "        <td> 1 </td>\n",
       "        <td> 2E+05 </td>\n",
       "        <td>  </td>\n",
       "    </tr>\n",
       "</table><table>\n",
       "    <tr>\n",
       "        <td></td>\n",
       "        <th> A </th>\n",
       "        <th> $Q$ </th>\n",
       "        <th> ${f}_0$ </th>\n",
       "    </tr>\n",
       "    <tr>\n",
       "        <th> A </th>\n",
       "        <td> 1.81e-05 </td>\n",
       "        <td style=\"background-color:rgb(250,133,133);color:black\"> 8.29e-06 <strong>(0.778)</strong> </td>\n",
       "        <td style=\"background-color:rgb(250,240,240);color:black\"> 0.000204 <strong>(0.067)</strong> </td>\n",
       "    </tr>\n",
       "    <tr>\n",
       "        <th> $Q$ </th>\n",
       "        <td style=\"background-color:rgb(250,133,133);color:black\"> 8.29e-06 <strong>(0.778)</strong> </td>\n",
       "        <td> 6.27e-06 </td>\n",
       "        <td style=\"background-color:rgb(250,234,234);color:black\"> 0.000188 <strong>(0.106)</strong> </td>\n",
       "    </tr>\n",
       "    <tr>\n",
       "        <th> ${f}_0$ </th>\n",
       "        <td style=\"background-color:rgb(250,240,240);color:black\"> 0.000204 <strong>(0.067)</strong> </td>\n",
       "        <td style=\"background-color:rgb(250,234,234);color:black\"> 0.000188 <strong>(0.106)</strong> </td>\n",
       "        <td> 0.507 </td>\n",
       "    </tr>\n",
       "</table>"
      ],
      "text/plain": [
       "┌──────────────────────────────────┬──────────────────────────────────────┐\n",
       "│ FCN = 9.769                      │              Nfcn = 76               │\n",
       "│ EDM = 2.59e-06 (Goal: 0.0002)    │                                      │\n",
       "├───────────────┬──────────────────┼──────────────────────────────────────┤\n",
       "│ Valid Minimum │ Valid Parameters │        No Parameters at limit        │\n",
       "├───────────────┴──────────────────┼──────────────────────────────────────┤\n",
       "│ Below EDM threshold (goal x 10)  │           Below call limit           │\n",
       "├───────────────┬──────────────────┼───────────┬─────────────┬────────────┤\n",
       "│  Covariance   │     Hesse ok     │ Accurate  │  Pos. def.  │ Not forced │\n",
       "└───────────────┴──────────────────┴───────────┴─────────────┴────────────┘\n",
       "┌───┬─────────┬───────────┬───────────┬────────────┬────────────┬─────────┬─────────┬───────┐\n",
       "│   │ Name    │   Value   │ Hesse Err │ Minos Err- │ Minos Err+ │ Limit-  │ Limit+  │ Fixed │\n",
       "├───┼─────────┼───────────┼───────────┼────────────┼────────────┼─────────┼─────────┼───────┤\n",
       "│ 0 │ A       │   0.998   │   0.004   │            │            │    0    │   1.5   │       │\n",
       "│ 1 │ $Q$     │  0.5513   │  0.0025   │            │            │    0    │   10    │       │\n",
       "│ 2 │ ${f}_0$ │   876.2   │    0.7    │            │            │    1    │ 200000  │       │\n",
       "└───┴─────────┴───────────┴───────────┴────────────┴────────────┴─────────┴─────────┴───────┘\n",
       "┌─────────┬────────────────────────────┐\n",
       "│         │        A      $Q$  ${f}_0$ │\n",
       "├─────────┼────────────────────────────┤\n",
       "│       A │ 1.81e-05 8.29e-06 0.000204 │\n",
       "│     $Q$ │ 8.29e-06 6.27e-06 0.000188 │\n",
       "│ ${f}_0$ │ 0.000204 0.000188    0.507 │\n",
       "└─────────┴────────────────────────────┘"
      ]
     },
     "execution_count": 37,
     "metadata": {},
     "output_type": "execute_result"
    }
   ],
   "source": [
    "combo_x1 = np.append(freq, freq)\n",
    "combo_y1 = np.append(gain, phase)\n",
    "\n",
    "def combo_func1(combo_data, param):\n",
    "    # single data set passed in, extract separate data\n",
    "    extract1 = combo_data[:len(gain)] # first data\n",
    "    extract2 = combo_data[len(phase):] # second data\n",
    "\n",
    "    result1 = model_ampl1(extract1, param)\n",
    "    result2 = model_sfas(extract2, param[1:])\n",
    "\n",
    "    return np.append(result1, result2)\n",
    "\n",
    "least_squares_mode = LeastSquares(combo_x1, combo_y1, np.append(err_gain, err_phase), combo_func1)\n",
    "g1 = Minuit(least_squares_mode, (0.996, 0.545, 800), name=(\"A\", \"$Q$\", \"${f}_0$\"))\n",
    "g1.limits=((0,1.5), (0,10), (1, 200000))\n",
    "g1.migrad()"
   ]
  },
  {
   "cell_type": "markdown",
   "metadata": {},
   "source": [
    "I risultati ottenuti sono confrontati con i precedenti"
   ]
  },
  {
   "cell_type": "code",
   "execution_count": 38,
   "metadata": {},
   "outputs": [
    {
     "data": {
      "image/png": "[encoded data removed]",
      "text/plain": [
       "<Figure size 1080x504 with 3 Axes>"
      ]
     },
     "metadata": {
      "needs_background": "light"
     },
     "output_type": "display_data"
    }
   ],
   "source": [
    "f  = plt.figure(figsize=(15,7))\n",
    "a1 = plt.subplot(1,3,1)\n",
    "a2 = plt.subplot(1,3,2)\n",
    "a3 = plt.subplot(1,3,3)\n",
    "f0 = 1/((2*math.pi)*math.sqrt(L*C))\n",
    "Q = 1/R*math.sqrt(L/C)\n",
    "\n",
    "\n",
    "a3.set_yticklabels(()),a2.set_yticklabels(()),a1.set_yticklabels(())\n",
    "a2.set_ylim(3, -2), a1.set_ylim(3, -2)\n",
    "a1.set_title(\"Q\")\n",
    "a2.set_title(\"$f_0$\")\n",
    "a1.errorbar(m.values[0] , 0, yerr=None, xerr=m.errors[0], ls=\"none\", marker=\"o\", zorder=1, label=\"V con $V_0$ fix\")\n",
    "a1.errorbar(m1.values[0] , 1, yerr=None, xerr=m1.errors[0], ls=\"none\", marker=\"o\", zorder=1, label=\"Fase\")\n",
    "a1.errorbar(mt.values[0] , 1.5, yerr=None, xerr=mt.errors[0], ls=\"none\", marker=\"o\", zorder=1, label=\"Simultaneo con $V_0$ fix\")\n",
    "a1.errorbar(ia.values[1] , 2, yerr=None, xerr=ia.errors[1], ls=\"none\", marker=\"o\", zorder=1, label=\"V \")\n",
    "a1.errorbar(g1.values[1] , 2.5, yerr=None, xerr=g1.errors[1], ls=\"none\", marker=\"o\", zorder=1, label=\"Simultaneo \")\n",
    "a1.plot([Q,Q], [-0.5, 4], linestyle='--', label='True value')\n",
    "a1.legend()\n",
    "a2.errorbar(m.values[1] , 0, yerr=None, xerr=m.errors[1], ls=\"none\", marker=\"o\", zorder=1, label=\"V con $V_0$ fix\")\n",
    "a2.errorbar(m1.values[1] , 1, yerr=None, xerr=m1.errors[1], ls=\"none\", marker=\"o\", zorder=1, label=\"Fase\")\n",
    "a2.errorbar(mt.values[1] , 1.5, yerr=None, xerr=mt.errors[1], ls=\"none\", marker=\"o\", zorder=1, label=\"Simultaneo con $V_0$ fix\")\n",
    "a2.errorbar(ia.values[2] , 2, yerr=None, xerr=ia.errors[2], ls=\"none\", marker=\"o\", zorder=1, label=\"V\")\n",
    "a2.errorbar(g1.values[2] , 2.5, yerr=None, xerr=g1.errors[2], ls=\"none\", marker=\"o\", zorder=1, label=\"Simultaneo\")\n",
    "a2.plot([f0, f0], [-0.5, 3], linestyle='--', label='True value')\n",
    "a3.errorbar(ia.values[0] , 1, yerr=None, xerr=ia.errors[0], ls=\"none\", marker=\"o\", zorder=1, label=\"V\", color='#d62728')\n",
    "a3.errorbar(g1.values[0] , 0, yerr=None, xerr=g1.errors[0], ls=\"none\", marker=\"o\", zorder=1, label=\"Simultaneo\", color='#9467bd')\n",
    "a3.set_title(\"$V_0$\")\n",
    "a3.plot([1,1], [-0.5, 1.5], linestyle='--', label='True value', color='#8c564b')\n",
    "a2.legend()\n",
    "a3.legend()\n",
    "a1.set_xlabel('Fattore di merito')\n",
    "a2.set_xlabel('Frequenza di risonanza(Hz)')\n",
    "a3.set_xlabel('$V_{gen}$ (V)')\n",
    "plt.show()"
   ]
  },
  {
   "cell_type": "code",
   "execution_count": null,
   "metadata": {},
   "outputs": [],
   "source": []
  }
 ],
 "metadata": {
  "kernelspec": {
   "display_name": "Python 3",
   "language": "python",
   "name": "python3"
  },
  "language_info": {
   "codemirror_mode": {
    "name": "ipython",
    "version": 3
   },
   "file_extension": ".py",
   "mimetype": "text/x-python",
   "name": "python",
   "nbconvert_exporter": "python",
   "pygments_lexer": "ipython3",
   "version": "3.7.3"
  }
 },
 "nbformat": 4,
 "nbformat_minor": 5
}
