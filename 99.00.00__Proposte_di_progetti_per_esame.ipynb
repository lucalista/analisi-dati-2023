{
 "cells": [
  {
   "cell_type": "markdown",
   "metadata": {},
   "source": [
    "# Proposte per possibili progetti\n",
    "\n",
    "Fermo restando che le proposte fatte dagli studenti sono ben accette, di seguito alcune proposte di possibili progetti per l'esame."
   ]
  },
  {
   "cell_type": "markdown",
   "metadata": {},
   "source": [
    "## Sismicità nei Campi Flegrei\n",
    "\n",
    "L'INGV pubblica diversi dati sulla sismicità nei Campi Flegrei:\n",
    "* http://sismolab.ov.ingv.it/sismo/\n",
    "* https://www.nature.com/articles/s41598-021-86506-6\n",
    "\n",
    "In particolare, il sollevamento del suolo negli ultimi anni è *correlato* all'aumento della frequenza dei terremoti nell'area della Solfatara di Pozzuoli.\n",
    "\n",
    "Si sviluppi un modello che preveda come evolverà la frequenza dei terremoti al crescere del livello del suolo.\n",
    "\n",
    "Nota: per gli interessati, posso richiedere dati aggiornati all'INGV."
   ]
  },
  {
   "cell_type": "markdown",
   "metadata": {},
   "source": [
    "## Modello della prima ondata del COVID-19\n",
    "\n",
    "Il DPC pubblica quotidianamente gli aggiornamenti sulla situazione del COVID-19 in Italia.\n",
    "* https://github.com/pcm-dpc/COVID-19\n",
    "\n",
    "A differenza della seconda ondata, la prima ondata è stata caratterissata da un andamento regolare della pandemia a livello nazionale che segue un'evoluzione che potrebbe essere descritta da diversi modelli (es.: SIR). \n",
    "\n",
    "Provare diversi modelli (es.: curva logistica, modello di Gompetrz, ecc.) per descrivere l'evoluzione della \"prima ondata\"."
   ]
  },
  {
   "cell_type": "markdown",
   "metadata": {},
   "source": [
    "## Misura della massa della Z\n",
    "\n",
    "L'esperimento CMS pubblica campioni di dati ottenuto con le collisioni protone-protone ad LHC\n",
    "\n",
    "https://github.com/cms-opendata-education/cms-jupyter-materials-english\n",
    "\n",
    "In particolare, esistono campioni con una Z che decade in coppie di elettroni e di muoni. \n",
    "Provare a misurare la massa della Z con un modello della sua *line shape* che, a differenza della $\\mathrm{J}/\\psi$, combina i contributi di larghezza intrinseca e risoluzione sperimentale.\n",
    "\n",
    "Si può anche provare un fit simultaneo ai campioni con coppie di muoni e di elettroni."
   ]
  },
  {
   "cell_type": "markdown",
   "metadata": {},
   "source": [
    "## Le estrazioni del lotto sono equiprobabili?\n",
    "\n",
    "Verificarlo con i dati storici:\n",
    "    \n",
    "*    http://lottoscar.altervista.org/archivi.html\n",
    "\n",
    "In particolare, considerare i dati fino agli anni '90 in cui l'estrazione avveniva con un dispositivo meccanico."
   ]
  },
  {
   "cell_type": "markdown",
   "metadata": {},
   "source": [
    "## Analisi di dati sportivi\n",
    "\n",
    "Provare a stabilire un modello per i risultati sportivi. I dati della serie A italiana si possono scaricare qui:\n",
    "\n",
    "* https://datahub.io/sports-data/italian-serie-a\n",
    "\n",
    "Per il modello, ci si può ispirare ad uno di quelli proposti in questa tesi. Il più semplice prevede una distribuzione dei goal poissoniana con un tasso atteso che dipende da coefficienti di attacco e difesa delle squadre da determinare con un fit:\n",
    "\n",
    "* [Analisi di modelli statistici per la previsione del numero di reti segnate da una squadra di calcio\n",
    "Taddeo, Mauro, Università di Padova, \n",
    "2009/2010](https://thesis.unipd.it/handle/20.500.12608/13222)\n",
    "\n",
    "Si può usare o un approccio frequentista, oppure un approccio Bayesiano che usa come prior il risultato degli anni precedenti, evolvendo anno dopo anno."
   ]
  },
  {
   "cell_type": "markdown",
   "metadata": {},
   "source": [
    "## Analisi dell'andamento della mortalità in Italia\n",
    "\n",
    "l'ISTAT fornisce dati giornalieri sul numero di morti in Italia, anche per fasce di età:\n",
    "\n",
    "* https://www.istat.it/it/archivio/240401\n",
    "\n",
    "I dato mostrano un andamento con modulazione annuale (si muore più d'inverno) con picchi causati da epidemie influenzali e ondate di calore, oltre al Covid-19 che è presente negli ultimi anni.\n",
    "\n",
    "Stabilire un modello semplificato per un periodo di tempo che descriva l'andamento ed alcuni dei picchi infulenzali."
   ]
  },
  {
   "cell_type": "code",
   "execution_count": null,
   "metadata": {},
   "outputs": [],
   "source": []
  }
 ],
 "metadata": {
  "kernelspec": {
   "display_name": "Python 3",
   "language": "python",
   "name": "python3"
  },
  "language_info": {
   "codemirror_mode": {
    "name": "ipython",
    "version": 3
   },
   "file_extension": ".py",
   "mimetype": "text/x-python",
   "name": "python",
   "nbconvert_exporter": "python",
   "pygments_lexer": "ipython3",
   "version": "3.7.3"
  }
 },
 "nbformat": 4,
 "nbformat_minor": 4
}
